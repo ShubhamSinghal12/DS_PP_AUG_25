{
 "cells": [
  {
   "cell_type": "markdown",
   "id": "01fe4731-4a29-45bd-af3c-d758bfc8df10",
   "metadata": {},
   "source": [
    "<h2>Variables</h2>\n",
    "<ul>\n",
    "    <li>KeyWords vs Identifier</li>\n",
    "    <li>Comments</li>\n",
    "    <li>Single Line vs Multiple Line</li>\n",
    "    <li>Multiple assignments</li>\n",
    "    <li>How do we Store a Variable it in the memory?</li>\n",
    "    <li>print</li>\n",
    "    <li>type and id</li>\n",
    "</ul>"
   ]
  },
  {
   "cell_type": "code",
   "execution_count": 1,
   "id": "a50c7217-3fb6-4e59-a84b-91c9473ebd6e",
   "metadata": {},
   "outputs": [],
   "source": [
    "a = 10\n",
    "b = \"Shubham\"\n",
    "c = 20.5"
   ]
  },
  {
   "cell_type": "code",
   "execution_count": 2,
   "id": "80bf6fdd-4a6f-4581-a2aa-d2266f5afee3",
   "metadata": {},
   "outputs": [
    {
     "name": "stdout",
     "output_type": "stream",
     "text": [
      "10\n",
      "Shubham\n",
      "20.5\n"
     ]
    }
   ],
   "source": [
    "print(a)\n",
    "print(b)\n",
    "print(c)"
   ]
  },
  {
   "cell_type": "code",
   "execution_count": 3,
   "id": "2da0426c-4f5d-444c-97a1-3595d9eda798",
   "metadata": {},
   "outputs": [
    {
     "name": "stdout",
     "output_type": "stream",
     "text": [
      "['False', 'None', 'True', 'and', 'as', 'assert', 'async', 'await', 'break', 'class', 'continue', 'def', 'del', 'elif', 'else', 'except', 'finally', 'for', 'from', 'global', 'if', 'import', 'in', 'is', 'lambda', 'nonlocal', 'not', 'or', 'pass', 'raise', 'return', 'try', 'while', 'with', 'yield'] 35\n"
     ]
    }
   ],
   "source": [
    "import keyword\n",
    "\n",
    "print(keyword.kwlist,len(keyword.kwlist))"
   ]
  },
  {
   "cell_type": "code",
   "execution_count": 5,
   "id": "354f9fbd-ba36-4716-9c4d-07605b1528b7",
   "metadata": {},
   "outputs": [
    {
     "data": {
      "text/plain": [
       "'This \\nis a multi-line comment'"
      ]
     },
     "execution_count": 5,
     "metadata": {},
     "output_type": "execute_result"
    }
   ],
   "source": [
    "#abc = 10\n",
    "\"\"\"This \n",
    "is a multi-line comment\"\"\""
   ]
  },
  {
   "cell_type": "code",
   "execution_count": 13,
   "id": "54ec90d9-cd6c-4063-9892-d3abecd4a433",
   "metadata": {},
   "outputs": [
    {
     "name": "stdout",
     "output_type": "stream",
     "text": [
      "Hello\n"
     ]
    }
   ],
   "source": [
    "#Hello this is my First Notebook\n",
    "\"\"\"This\n",
    "is a multi-Line\n",
    "comment\"\"\"\n",
    "print('Hello')"
   ]
  },
  {
   "cell_type": "code",
   "execution_count": 12,
   "id": "5a4980bf-32b4-41ab-8dbe-11aa6bee879a",
   "metadata": {},
   "outputs": [
    {
     "ename": "ValueError",
     "evalue": "not enough values to unpack (expected 3, got 2)",
     "output_type": "error",
     "traceback": [
      "\u001b[31m---------------------------------------------------------------------------\u001b[39m",
      "\u001b[31mValueError\u001b[39m                                Traceback (most recent call last)",
      "\u001b[36mCell\u001b[39m\u001b[36m \u001b[39m\u001b[32mIn[12]\u001b[39m\u001b[32m, line 4\u001b[39m\n\u001b[32m      1\u001b[39m \u001b[38;5;66;03m# a = 10\u001b[39;00m\n\u001b[32m      2\u001b[39m \u001b[38;5;66;03m# b = 20\u001b[39;00m\n\u001b[32m----> \u001b[39m\u001b[32m4\u001b[39m a,b,c = \u001b[32m100\u001b[39m,\u001b[32m200\u001b[39m\n",
      "\u001b[31mValueError\u001b[39m: not enough values to unpack (expected 3, got 2)"
     ]
    }
   ],
   "source": [
    "# a = 10\n",
    "# b = 20\n",
    "\n",
    "a,b,c = 100,200"
   ]
  },
  {
   "cell_type": "code",
   "execution_count": 11,
   "id": "c91bc813-a5c8-4b45-9c8d-734984c09245",
   "metadata": {},
   "outputs": [
    {
     "name": "stdout",
     "output_type": "stream",
     "text": [
      "100 200 300\n"
     ]
    }
   ],
   "source": [
    "print(a,b,c)"
   ]
  },
  {
   "cell_type": "code",
   "execution_count": 13,
   "id": "27452bab-a5a8-48a4-abf1-0b86273939af",
   "metadata": {},
   "outputs": [],
   "source": [
    "a = 10 + 20 + \\\n",
    "    30 + 40 + \\\n",
    "    50"
   ]
  },
  {
   "cell_type": "code",
   "execution_count": 15,
   "id": "d93f89cd-7885-44db-a465-7f926bb142f1",
   "metadata": {},
   "outputs": [
    {
     "name": "stdout",
     "output_type": "stream",
     "text": [
      "150\n"
     ]
    }
   ],
   "source": [
    "print(a)"
   ]
  },
  {
   "cell_type": "code",
   "execution_count": 18,
   "id": "6e557d35-1475-45ce-9606-7846b0dbb16f",
   "metadata": {},
   "outputs": [
    {
     "name": "stdout",
     "output_type": "stream",
     "text": [
      "<class 'int'>\n"
     ]
    },
    {
     "data": {
      "text/plain": [
       "int"
      ]
     },
     "execution_count": 18,
     "metadata": {},
     "output_type": "execute_result"
    }
   ],
   "source": [
    "print(type(a))\n",
    "type(a)"
   ]
  },
  {
   "cell_type": "code",
   "execution_count": 21,
   "id": "390cdff3-97f1-4caf-8d8e-17e5c4b6f93e",
   "metadata": {},
   "outputs": [
    {
     "name": "stdout",
     "output_type": "stream",
     "text": [
      "<class 'str'>\n"
     ]
    }
   ],
   "source": [
    "b = 'Hello'\n",
    "print(type(b))"
   ]
  },
  {
   "cell_type": "code",
   "execution_count": 65,
   "id": "7ecd95e4-464e-401b-bf48-18ad71def52b",
   "metadata": {},
   "outputs": [],
   "source": [
    "a = 10000\n",
    "b = a"
   ]
  },
  {
   "cell_type": "code",
   "execution_count": 66,
   "id": "28853483-711e-444a-909e-ef0eb3fde295",
   "metadata": {},
   "outputs": [
    {
     "data": {
      "text/plain": [
       "2509051352976"
      ]
     },
     "execution_count": 66,
     "metadata": {},
     "output_type": "execute_result"
    }
   ],
   "source": [
    "id(a)"
   ]
  },
  {
   "cell_type": "code",
   "execution_count": 67,
   "id": "ada7db65-4538-404a-bb63-046f76370b80",
   "metadata": {},
   "outputs": [
    {
     "data": {
      "text/plain": [
       "2509051352976"
      ]
     },
     "execution_count": 67,
     "metadata": {},
     "output_type": "execute_result"
    }
   ],
   "source": [
    "id(b)"
   ]
  },
  {
   "cell_type": "code",
   "execution_count": 68,
   "id": "b3c3b1c0-2d2f-404e-88c0-c0d970d977fc",
   "metadata": {},
   "outputs": [
    {
     "data": {
      "text/plain": [
       "2509051352976"
      ]
     },
     "execution_count": 68,
     "metadata": {},
     "output_type": "execute_result"
    }
   ],
   "source": [
    "id(b)"
   ]
  },
  {
   "cell_type": "code",
   "execution_count": null,
   "id": "d7cfbea8-6821-46eb-aac5-038b86d4cfe0",
   "metadata": {},
   "outputs": [],
   "source": []
  },
  {
   "cell_type": "code",
   "execution_count": null,
   "id": "57944215-2de9-4a25-956d-0ef9f8f482fd",
   "metadata": {},
   "outputs": [],
   "source": []
  },
  {
   "cell_type": "markdown",
   "id": "c58b015f-95c6-4d4f-adb0-90bd8701d2b0",
   "metadata": {},
   "source": [
    "<h2>Data Types</h2>\n",
    "<table border=\"1\">\n",
    "<tbody>\n",
    "<tr><td>Text Type:</td><td>str</td></tr>\n",
    "<tr><td>Numeric Types:</td><td>int, float, complex</td></tr>\n",
    "<tr><td>Sequence Types:</td><td>list, tuple, range</td></tr>\n",
    "<tr><td>Mapping Type:</td><td>dict</td></tr>\n",
    "<tr><td>Set Types:</td><td>set, frozenset</td></tr>\n",
    "<tr><td>Boolean Type:</td><td>bool</td></tr>\n",
    "<tr><td>Binary Types:</td><td>bytes, bytearray, memoryview</td></tr>\n",
    "<tr><td>None Type:</td><td>NoneType</td></tr>\n",
    "</tbody>\n",
    "</table>\n",
    "Type Conversion"
   ]
  },
  {
   "cell_type": "code",
   "execution_count": 34,
   "id": "d3045a9f-d5dd-4567-a240-1bb6518a59bf",
   "metadata": {},
   "outputs": [],
   "source": [
    "a = 1000000000000000000000000000000000000000000000000000000000\n",
    "b = 20.5\n",
    "c = 2+5j"
   ]
  },
  {
   "cell_type": "code",
   "execution_count": 35,
   "id": "7e40725a-68f5-45ae-b36a-1ef36e9adc4b",
   "metadata": {},
   "outputs": [
    {
     "name": "stdout",
     "output_type": "stream",
     "text": [
      "1000000000000000000000000000000000000000000000000000000000 <class 'int'>\n",
      "20.5 <class 'float'>\n",
      "(2+5j) <class 'complex'>\n"
     ]
    }
   ],
   "source": [
    "print(a,type(a))\n",
    "print(b,type(b))\n",
    "print(c,type(c))"
   ]
  },
  {
   "cell_type": "code",
   "execution_count": 36,
   "id": "b63a2ebf-22cc-4cf6-be24-de8264b45779",
   "metadata": {},
   "outputs": [
    {
     "name": "stdout",
     "output_type": "stream",
     "text": [
      "[1, 2, 3, 4] <class 'list'>\n"
     ]
    }
   ],
   "source": [
    "l = [1,2,3,4]\n",
    "print(l,type(l))"
   ]
  },
  {
   "cell_type": "code",
   "execution_count": 38,
   "id": "9ea37c43-1586-4799-82e7-67b68b8daa9e",
   "metadata": {},
   "outputs": [
    {
     "name": "stdout",
     "output_type": "stream",
     "text": [
      "False <class 'bool'>\n"
     ]
    }
   ],
   "source": [
    "b = False\n",
    "print(b,type(b))"
   ]
  },
  {
   "cell_type": "code",
   "execution_count": 39,
   "id": "6d00ca81-1f9e-4423-84ea-4a7aece771a6",
   "metadata": {},
   "outputs": [
    {
     "name": "stdout",
     "output_type": "stream",
     "text": [
      "None <class 'NoneType'>\n"
     ]
    }
   ],
   "source": [
    "a = None\n",
    "print(a,type(a))"
   ]
  },
  {
   "cell_type": "code",
   "execution_count": 40,
   "id": "f4d3cab1-8c2f-43e9-9541-cb7ab2bab90e",
   "metadata": {},
   "outputs": [],
   "source": [
    "a = 10.3"
   ]
  },
  {
   "cell_type": "code",
   "execution_count": 41,
   "id": "a424ea1b-f046-4c03-a477-a87901b87075",
   "metadata": {},
   "outputs": [
    {
     "data": {
      "text/plain": [
       "10"
      ]
     },
     "execution_count": 41,
     "metadata": {},
     "output_type": "execute_result"
    }
   ],
   "source": [
    "int(a)"
   ]
  },
  {
   "cell_type": "code",
   "execution_count": 44,
   "id": "9b13a8ad-9fa1-43f4-903c-023f5b5ad445",
   "metadata": {},
   "outputs": [
    {
     "name": "stdout",
     "output_type": "stream",
     "text": [
      "10 <class 'int'>\n"
     ]
    }
   ],
   "source": [
    "b = \"10\"\n",
    "c = int(b)\n",
    "print(c,type(c))"
   ]
  },
  {
   "cell_type": "code",
   "execution_count": 50,
   "id": "c18e8f73-bbd8-4baa-a770-bc6376cf33e4",
   "metadata": {},
   "outputs": [
    {
     "name": "stdout",
     "output_type": "stream",
     "text": [
      "30.5 <class 'float'>\n",
      "30 <class 'int'>\n"
     ]
    }
   ],
   "source": [
    "b = '30.5'\n",
    "c = float(b)\n",
    "d = int(c)\n",
    "print(c,type(c))\n",
    "print(d,type(d))"
   ]
  },
  {
   "cell_type": "markdown",
   "id": "34e1a4d4-ca3d-4f7b-b044-c5d3e64b8f19",
   "metadata": {},
   "source": [
    "<h2>Operators</h2>\n",
    "Types of Operators\n",
    "\n",
    "- Airthmetic: +, -, *, /, %, //, **\n",
    "- relational: ==, <=, <, >=, >, !=\n",
    "- logical: and, or, not\n",
    "- Bitwise: &, |, ~, ^, <<, >>\n",
    "- Assignment: =, +=, -= ...\n",
    "- Special: is, is not, in, not in"
   ]
  },
  {
   "cell_type": "code",
   "execution_count": 51,
   "id": "a024e8d1-cb20-4d3f-88b7-052e8d7893c5",
   "metadata": {},
   "outputs": [],
   "source": [
    "a = 10\n",
    "b = 120"
   ]
  },
  {
   "cell_type": "code",
   "execution_count": 53,
   "id": "9b6e6613-9544-46e5-9b0b-a8c0c466a149",
   "metadata": {},
   "outputs": [
    {
     "name": "stdout",
     "output_type": "stream",
     "text": [
      "130\n",
      "130\n",
      "-110\n",
      "1200\n",
      "12.0\n",
      "0\n",
      "10\n",
      "1000000000000000000000000000000000000000000000000000000000000000000000000000000000000000000000000000000000000000000000000\n"
     ]
    }
   ],
   "source": [
    "c = a+b\n",
    "print(c)\n",
    "print(a+b)\n",
    "print(a-b)\n",
    "print(a*b)\n",
    "print(b/a)\n",
    "print(a//b)\n",
    "print(a%b)\n",
    "print(a**b)"
   ]
  },
  {
   "cell_type": "code",
   "execution_count": 43,
   "id": "601a3568-aeb5-49af-a5c8-fd945c73cd7d",
   "metadata": {},
   "outputs": [],
   "source": [
    "a = 10\n",
    "b = 20"
   ]
  },
  {
   "cell_type": "code",
   "execution_count": 56,
   "id": "548e9918-0c0f-4d13-800b-9150d51f15e1",
   "metadata": {},
   "outputs": [
    {
     "name": "stdout",
     "output_type": "stream",
     "text": [
      "True <class 'bool'>\n"
     ]
    }
   ],
   "source": [
    "c = a != b\n",
    "print(c,type(c))"
   ]
  },
  {
   "cell_type": "code",
   "execution_count": 39,
   "id": "28eece38-59b9-4f01-a5b8-ded022412e5c",
   "metadata": {},
   "outputs": [
    {
     "name": "stdout",
     "output_type": "stream",
     "text": [
      "20\n"
     ]
    }
   ],
   "source": [
    "c = a <= b\n",
    "print(b)"
   ]
  },
  {
   "cell_type": "code",
   "execution_count": 57,
   "id": "52bb9de6-658a-4733-897e-7ec719e7eb34",
   "metadata": {},
   "outputs": [
    {
     "data": {
      "text/plain": [
       "True"
      ]
     },
     "execution_count": 57,
     "metadata": {},
     "output_type": "execute_result"
    }
   ],
   "source": [
    "x = 1\n",
    "y = 2\n",
    "z = 3\n",
    "\n",
    "\n",
    "x < y and x < z"
   ]
  },
  {
   "cell_type": "code",
   "execution_count": 61,
   "id": "2123cd56-c7d0-42b1-abc2-afae1d15e8f3",
   "metadata": {},
   "outputs": [
    {
     "name": "stdout",
     "output_type": "stream",
     "text": [
      "1.0\n"
     ]
    }
   ],
   "source": [
    "x = 10\n",
    "x /= 10 # x = x+10\n",
    "print(x)"
   ]
  },
  {
   "cell_type": "code",
   "execution_count": 47,
   "id": "c95265f0-7da7-4198-b9a0-4b144c300f81",
   "metadata": {},
   "outputs": [
    {
     "name": "stdout",
     "output_type": "stream",
     "text": [
      "False\n",
      "True\n"
     ]
    }
   ],
   "source": [
    "x = 1\n",
    "y = 10\n",
    "a = x < y\n",
    "b = False\n",
    "print(a and b)\n",
    "print(a or b)"
   ]
  },
  {
   "cell_type": "code",
   "execution_count": 48,
   "id": "9d4426dd-a733-4925-b4ac-cfc5897b7cbf",
   "metadata": {},
   "outputs": [
    {
     "data": {
      "text/plain": [
       "True"
      ]
     },
     "execution_count": 48,
     "metadata": {},
     "output_type": "execute_result"
    }
   ],
   "source": [
    "x < y or x == y"
   ]
  },
  {
   "cell_type": "code",
   "execution_count": 49,
   "id": "655ba775-6612-4a26-af5e-e27f3f08f650",
   "metadata": {},
   "outputs": [],
   "source": [
    "a = 10"
   ]
  },
  {
   "cell_type": "code",
   "execution_count": 52,
   "id": "076f55d3-fc02-441a-b6a8-5d2727156e58",
   "metadata": {},
   "outputs": [],
   "source": [
    "a -= 10"
   ]
  },
  {
   "cell_type": "code",
   "execution_count": 53,
   "id": "79171702-3f89-4998-af65-1d764ba12e74",
   "metadata": {},
   "outputs": [
    {
     "data": {
      "text/plain": [
       "10"
      ]
     },
     "execution_count": 53,
     "metadata": {},
     "output_type": "execute_result"
    }
   ],
   "source": [
    "a"
   ]
  },
  {
   "cell_type": "code",
   "execution_count": 63,
   "id": "a08923b8-65a2-43e8-8ca1-34cc55de78b4",
   "metadata": {},
   "outputs": [
    {
     "name": "stdout",
     "output_type": "stream",
     "text": [
      "True True\n"
     ]
    }
   ],
   "source": [
    "a = 10\n",
    "b = a\n",
    "\n",
    "print(id(a) == id(b), a is not b)"
   ]
  },
  {
   "cell_type": "code",
   "execution_count": 68,
   "id": "0fbc9b5c-5cb0-4746-bc3b-50065854d247",
   "metadata": {},
   "outputs": [
    {
     "name": "stdout",
     "output_type": "stream",
     "text": [
      "10.0\n"
     ]
    }
   ],
   "source": [
    "a = 10\n",
    "print(float(a))"
   ]
  },
  {
   "cell_type": "code",
   "execution_count": null,
   "id": "d0023143-9fdc-4520-89b0-523308055f9b",
   "metadata": {},
   "outputs": [],
   "source": []
  },
  {
   "cell_type": "code",
   "execution_count": null,
   "id": "8263fe83-a443-43f2-b67c-7a3793f15ca2",
   "metadata": {},
   "outputs": [],
   "source": []
  },
  {
   "cell_type": "code",
   "execution_count": 72,
   "id": "6c9ae7de-76de-44c9-a9a6-1a5de59833b4",
   "metadata": {},
   "outputs": [
    {
     "name": "stdin",
     "output_type": "stream",
     "text": [
      "Enter Principal:  1000\n"
     ]
    }
   ],
   "source": [
    "p = input(\"Enter Principal: \")\n",
    "p = int(p)"
   ]
  },
  {
   "cell_type": "code",
   "execution_count": 73,
   "id": "8df7b676-22f4-411c-8c38-3a924f52f612",
   "metadata": {},
   "outputs": [
    {
     "name": "stdout",
     "output_type": "stream",
     "text": [
      "1000 <class 'int'>\n"
     ]
    }
   ],
   "source": [
    "print(p,type(p))"
   ]
  },
  {
   "cell_type": "code",
   "execution_count": 75,
   "id": "86c54b84-21f6-4635-a550-b95e165bbd2b",
   "metadata": {},
   "outputs": [
    {
     "name": "stdin",
     "output_type": "stream",
     "text": [
      "Enter Principal:  1000\n",
      "Enter rate:  10\n",
      "Enter year:  10\n"
     ]
    },
    {
     "name": "stdout",
     "output_type": "stream",
     "text": [
      "Simple Interest:  1000.0\n"
     ]
    }
   ],
   "source": [
    "p = float(input(\"Enter Principal: \"))\n",
    "r = float(input(\"Enter rate: \"))\n",
    "t = int(input(\"Enter year: \"))\n",
    "\n",
    "si = (p*r*t)/100\n",
    "\n",
    "print(\"Simple Interest: \",si)"
   ]
  },
  {
   "cell_type": "code",
   "execution_count": null,
   "id": "cffbf2c5-c292-46d0-b681-2cd96c783b35",
   "metadata": {},
   "outputs": [],
   "source": []
  },
  {
   "cell_type": "code",
   "execution_count": null,
   "id": "ffdc0460-9697-4c09-a24c-6347a9101acc",
   "metadata": {},
   "outputs": [],
   "source": []
  },
  {
   "cell_type": "code",
   "execution_count": null,
   "id": "81feb100-0ef9-4edb-b8c7-115c934d9a9b",
   "metadata": {},
   "outputs": [],
   "source": []
  },
  {
   "cell_type": "markdown",
   "id": "7afc26b1-9f67-4319-999f-354c1fa792d8",
   "metadata": {},
   "source": [
    "## IfElse\n",
    "- if .. else\n",
    "- if .. elif .... else\n",
    "- Nested if\n",
    "\n",
    "Indentation\n",
    "Input from user"
   ]
  },
  {
   "cell_type": "code",
   "execution_count": 92,
   "id": "039543ea-b939-4562-a832-077c7b7b65e1",
   "metadata": {},
   "outputs": [
    {
     "name": "stdout",
     "output_type": "stream",
     "text": [
      "Hi\n",
      "Odd\n",
      "Bye\n"
     ]
    }
   ],
   "source": [
    "a = 1\n",
    "print(\"Hi\")\n",
    "if a%2 == 0:\n",
    "    print('10000')\n",
    "    print(\"Even\")\n",
    "else:\n",
    "    print(\"Odd\")\n",
    "print(\"Bye\")"
   ]
  },
  {
   "cell_type": "code",
   "execution_count": 93,
   "id": "f9d31b79-799d-4700-8779-631439226207",
   "metadata": {},
   "outputs": [
    {
     "name": "stdin",
     "output_type": "stream",
     "text": [
      "Enter Your age:  20\n"
     ]
    },
    {
     "name": "stdout",
     "output_type": "stream",
     "text": [
      "Adult\n"
     ]
    }
   ],
   "source": [
    "age = int(input(\"Enter Your age: \"))\n",
    "if age < 18:\n",
    "    print(\"Child\")\n",
    "else:\n",
    "    print(\"Adult\")"
   ]
  },
  {
   "cell_type": "code",
   "execution_count": 94,
   "id": "347648a5-a419-406d-9b92-313498d60473",
   "metadata": {},
   "outputs": [
    {
     "name": "stdin",
     "output_type": "stream",
     "text": [
      "Enter Your age:  68\n"
     ]
    },
    {
     "name": "stdout",
     "output_type": "stream",
     "text": [
      "Senior Citizen\n"
     ]
    }
   ],
   "source": [
    "age = int(input(\"Enter Your age: \"))\n",
    "if age < 18:\n",
    "    print(\"Child\")\n",
    "else:\n",
    "    if age < 60:\n",
    "        print(\"Adult\")\n",
    "    else:\n",
    "        print(\"Senior Citizen\")"
   ]
  },
  {
   "cell_type": "code",
   "execution_count": 97,
   "id": "716df7f5-4064-4119-8784-0a339276f68d",
   "metadata": {},
   "outputs": [
    {
     "name": "stdin",
     "output_type": "stream",
     "text": [
      "Enter Your age:  50\n"
     ]
    },
    {
     "name": "stdout",
     "output_type": "stream",
     "text": [
      "Hi\n",
      "Adult\n",
      "Bye\n"
     ]
    }
   ],
   "source": [
    "age = int(input(\"Enter Your age: \"))\n",
    "print(\"Hi\")\n",
    "if age < 18:\n",
    "    print(\"Child\")\n",
    "elif age < 60:\n",
    "    print(\"Adult\")\n",
    "elif age < 100:\n",
    "    print(\"Senior Citizen\")\n",
    "else:\n",
    "    print(\"Century is completed\")\n",
    "print(\"Bye\")"
   ]
  },
  {
   "cell_type": "code",
   "execution_count": 98,
   "id": "ca53ed7e-248c-473e-a8bd-3197d7e556f8",
   "metadata": {},
   "outputs": [
    {
     "name": "stdout",
     "output_type": "stream",
     "text": [
      "A\n"
     ]
    }
   ],
   "source": [
    "marks = 80\n",
    "if 80 <= marks and marks <= 100:\n",
    "    print(\"A\")\n",
    "elif 60 <= marks and marks < 80:\n",
    "    print(\"B\")\n",
    "elif 40 <= marks and marks < 60:\n",
    "    print(\"C\")\n",
    "elif 0 <= marks and marks < 40:\n",
    "    print(\"Fail\")\n",
    "else:\n",
    "    print(\"Invalid Marks\")"
   ]
  },
  {
   "cell_type": "code",
   "execution_count": 101,
   "id": "01b3cfd4-17af-4d6d-9c78-de91d44b3a82",
   "metadata": {},
   "outputs": [
    {
     "name": "stdout",
     "output_type": "stream",
     "text": [
      "C\n"
     ]
    }
   ],
   "source": [
    "marks = 50\n",
    "if 80 <= marks <= 100:\n",
    "    print(\"A\")\n",
    "elif 60 <= marks < 80:\n",
    "    print(\"B\")\n",
    "elif 40 <= marks < 60:\n",
    "    print(\"C\")\n",
    "elif 0 <= marks < 40:\n",
    "    print(\"Fail\")\n",
    "else:\n",
    "    print(\"Invalid Marks\")"
   ]
  },
  {
   "cell_type": "code",
   "execution_count": null,
   "id": "9ca8b97b-42b9-465a-8ec9-0fe29084e56e",
   "metadata": {},
   "outputs": [],
   "source": []
  },
  {
   "cell_type": "markdown",
   "id": "6351886b-88f0-4838-bd27-bf19093b3e8b",
   "metadata": {},
   "source": [
    "## Ternary Operator\n",
    "Syntax:\\\n",
    "First_val if condn else second_val"
   ]
  },
  {
   "cell_type": "code",
   "execution_count": 102,
   "id": "43b2ab41-e550-459a-8bc3-d6e3243638c7",
   "metadata": {},
   "outputs": [],
   "source": [
    "a = 10\n",
    "b = 20\n",
    "\n",
    "c = a if a > b else b"
   ]
  },
  {
   "cell_type": "code",
   "execution_count": 103,
   "id": "3ebd771a-b467-4c52-bd18-ded462a0ca88",
   "metadata": {},
   "outputs": [
    {
     "name": "stdout",
     "output_type": "stream",
     "text": [
      "20\n"
     ]
    }
   ],
   "source": [
    "print(c)"
   ]
  },
  {
   "cell_type": "markdown",
   "id": "0586085a-a56c-4578-8e8a-c8eee3622b8c",
   "metadata": {},
   "source": [
    "## while loop\n",
    "\n",
    "To iterate over a block of code as long as the test expression is true.\\\n",
    "**Syntax:**\\\n",
    "while testExp:\\\n",
    "Body\\\n",
    "else:\\\n",
    "After testExp is false"
   ]
  },
  {
   "cell_type": "code",
   "execution_count": 108,
   "id": "bd4c13fb-4b36-4a5e-bbcd-8241975f0fbb",
   "metadata": {},
   "outputs": [
    {
     "name": "stdout",
     "output_type": "stream",
     "text": [
      "0\n",
      "1\n",
      "2\n",
      "3\n",
      "4\n",
      "5\n"
     ]
    }
   ],
   "source": [
    "i = 0\n",
    "while i <= 5:\n",
    "    print(i)\n",
    "    i += 1"
   ]
  },
  {
   "cell_type": "code",
   "execution_count": null,
   "id": "e640e4c5-bcb3-4b6a-af33-6f9294849481",
   "metadata": {},
   "outputs": [],
   "source": []
  },
  {
   "cell_type": "code",
   "execution_count": 112,
   "id": "15a9b37e-08ca-4b2d-9da9-f42866ce1ac3",
   "metadata": {},
   "outputs": [
    {
     "name": "stdout",
     "output_type": "stream",
     "text": [
      "sum: 15\n"
     ]
    }
   ],
   "source": [
    "i = 1\n",
    "s = 0\n",
    "num = 5\n",
    "while i <= num:\n",
    "    s += i\n",
    "    i += 1\n",
    "print('sum:',s)"
   ]
  },
  {
   "cell_type": "code",
   "execution_count": 115,
   "id": "50159f64-2b03-4ff9-9492-ca8ed0344245",
   "metadata": {},
   "outputs": [
    {
     "name": "stdout",
     "output_type": "stream",
     "text": [
      "sum: 8\n"
     ]
    }
   ],
   "source": [
    "i = 0\n",
    "s = 0\n",
    "num = 1\n",
    "while i <= num:\n",
    "    ele = 2*i+3\n",
    "    s += ele\n",
    "    i += 1\n",
    "print('sum:',s)"
   ]
  },
  {
   "cell_type": "code",
   "execution_count": 117,
   "id": "ffd3c67f-ee91-498a-b6e1-6c9e64108574",
   "metadata": {},
   "outputs": [
    {
     "name": "stdout",
     "output_type": "stream",
     "text": [
      "1\n",
      "2\n",
      "4\n",
      "5\n",
      "10\n",
      "20\n",
      "25\n",
      "50\n",
      "100\n",
      "Count:  9\n"
     ]
    }
   ],
   "source": [
    "n = 100\n",
    "i = 1\n",
    "c = 0\n",
    "while i <= n:\n",
    "    if n%i == 0:\n",
    "        print(i)\n",
    "        c += 1\n",
    "    i += 1\n",
    "\n",
    "print(\"Count: \",c)"
   ]
  },
  {
   "cell_type": "code",
   "execution_count": 122,
   "id": "69b8ff32-008a-41f5-852e-bf91b0a72e6a",
   "metadata": {},
   "outputs": [
    {
     "name": "stdout",
     "output_type": "stream",
     "text": [
      "Prime No\n"
     ]
    }
   ],
   "source": [
    "n = 29\n",
    "i = 2\n",
    "c = 0\n",
    "while i < n:\n",
    "    if n%i == 0:\n",
    "        c += 1\n",
    "        break\n",
    "    i += 1\n",
    "\n",
    "if c == 0:\n",
    "    print(\"Prime No\")\n",
    "else:\n",
    "    print(\"Composite No\")"
   ]
  },
  {
   "cell_type": "code",
   "execution_count": 123,
   "id": "26c45c3b-8130-467f-ac78-b1df32d555f4",
   "metadata": {},
   "outputs": [
    {
     "name": "stdout",
     "output_type": "stream",
     "text": [
      "Prime No\n"
     ]
    }
   ],
   "source": [
    "n = 29\n",
    "i = 2\n",
    "c = True\n",
    "while i < n:\n",
    "    if n%i == 0:\n",
    "        c = False\n",
    "        break\n",
    "    i += 1\n",
    "\n",
    "if c:\n",
    "    print(\"Prime No\")\n",
    "else:\n",
    "    print(\"Composite No\")"
   ]
  },
  {
   "cell_type": "code",
   "execution_count": 129,
   "id": "86e4a3d6-015a-4163-9d66-ec0bcbcec6e0",
   "metadata": {},
   "outputs": [
    {
     "name": "stdout",
     "output_type": "stream",
     "text": [
      "Prime No\n"
     ]
    }
   ],
   "source": [
    "n = 29\n",
    "i = 2\n",
    "sqn = n**0.5\n",
    "while i <= sqn:\n",
    "    if n%i == 0:\n",
    "        print(\"Composite No\")\n",
    "        break\n",
    "    i += 1\n",
    "else:\n",
    "    print(\"Prime No\")"
   ]
  },
  {
   "cell_type": "code",
   "execution_count": 130,
   "id": "194f7265-7aeb-44d3-91c7-e5616d4d2f91",
   "metadata": {},
   "outputs": [
    {
     "name": "stdout",
     "output_type": "stream",
     "text": [
      "1\n",
      "2\n",
      "3\n",
      "5\n",
      "7\n",
      "11\n",
      "13\n",
      "17\n",
      "19\n",
      "23\n",
      "29\n",
      "31\n",
      "37\n",
      "41\n",
      "43\n",
      "47\n",
      "53\n",
      "59\n",
      "61\n",
      "67\n",
      "71\n",
      "73\n",
      "79\n",
      "83\n",
      "89\n",
      "97\n"
     ]
    }
   ],
   "source": [
    "num = 100\n",
    "n = 1\n",
    "while n <= num:\n",
    "    i = 2\n",
    "    sqn = n**0.5\n",
    "    while i <= sqn:\n",
    "        if n%i == 0:\n",
    "            break\n",
    "        i += 1\n",
    "    else:\n",
    "        print(n)\n",
    "\n",
    "    n += 1"
   ]
  },
  {
   "cell_type": "code",
   "execution_count": null,
   "id": "ebfa0423-c2f4-4a0d-bb04-7e89d7381051",
   "metadata": {},
   "outputs": [],
   "source": []
  },
  {
   "cell_type": "code",
   "execution_count": 30,
   "id": "7464b485-4b9a-40ca-90f0-182ed7b727e8",
   "metadata": {},
   "outputs": [
    {
     "name": "stdout",
     "output_type": "stream",
     "text": [
      "2\n",
      "3\n",
      "5\n",
      "7\n",
      "11\n",
      "13\n",
      "17\n",
      "19\n",
      "23\n",
      "29\n",
      "31\n",
      "37\n",
      "41\n",
      "43\n",
      "47\n",
      "53\n",
      "59\n",
      "61\n",
      "67\n",
      "71\n",
      "73\n",
      "79\n",
      "83\n",
      "89\n",
      "97\n"
     ]
    }
   ],
   "source": [
    "n = 2\n",
    "while n <= 100:\n",
    "    i = 2\n",
    "    c = 0\n",
    "    while i < n:\n",
    "        if n%i == 0:\n",
    "            c += 1\n",
    "            break\n",
    "        i += 1\n",
    "    if c == 0:\n",
    "        print(n)\n",
    "    n += 1"
   ]
  },
  {
   "cell_type": "code",
   "execution_count": null,
   "id": "5995aa70-bfbd-49e1-9b40-96d4f23a8709",
   "metadata": {},
   "outputs": [],
   "source": []
  },
  {
   "cell_type": "code",
   "execution_count": null,
   "id": "93c09c7d-c501-4bc7-9ea9-58b24fc89f58",
   "metadata": {},
   "outputs": [],
   "source": []
  },
  {
   "cell_type": "code",
   "execution_count": null,
   "id": "fda053b1-5b24-4901-bf7f-eddf609baab8",
   "metadata": {},
   "outputs": [],
   "source": []
  }
 ],
 "metadata": {
  "kernelspec": {
   "display_name": "Python 3 (ipykernel)",
   "language": "python",
   "name": "python3"
  },
  "language_info": {
   "codemirror_mode": {
    "name": "ipython",
    "version": 3
   },
   "file_extension": ".py",
   "mimetype": "text/x-python",
   "name": "python",
   "nbconvert_exporter": "python",
   "pygments_lexer": "ipython3",
   "version": "3.12.9"
  }
 },
 "nbformat": 4,
 "nbformat_minor": 5
}
