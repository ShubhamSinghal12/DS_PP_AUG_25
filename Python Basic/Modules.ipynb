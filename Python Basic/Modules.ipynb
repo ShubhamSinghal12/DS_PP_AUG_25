{
 "cells": [
  {
   "cell_type": "markdown",
   "id": "a5a37cec-2593-4451-8354-d35eb6626ba0",
   "metadata": {},
   "source": [
    "## Various Functions\n",
    "- abs\n",
    "- all\n",
    "- dir\n",
    "- divmod\n",
    "- enumerate\n",
    "- filter\n",
    "- isinstance\n",
    "- map\n",
    "- reduce -- in python3 from functools import reduce\n",
    "- sorted\n",
    "- zip\n",
    "\n",
    "## Modules\n",
    "- How to make and import module\n",
    "- Alias and filtered import\n",
    "- from module_name import *\n",
    "- Memory Management\n",
    "- For efficienncy sake, each module is imported once per interpreter session. Therefore, if you can change your modules, you must restart the interpreter.\n",
    "- OS module\n",
    "\n",
    "## The module name is available in the \\_\\_name__ global variable\n",
    "\\_\\_name__ is a built-in variable which evaluates to the name of the current module.\n",
    "\n",
    "- when a module script is executed as a source file the value of \\_\\_name__ var is \\_\\_main__\n",
    "- if a script is executed as a Module \\_\\_name__ holds the name of the module\n",
    "\n",
    "## Executing module as a script\n"
   ]
  },
  {
   "cell_type": "code",
   "execution_count": 3,
   "id": "d0e0f232-21e7-4c8c-b670-07becee5356d",
   "metadata": {},
   "outputs": [
    {
     "name": "stdout",
     "output_type": "stream",
     "text": [
      "10\n"
     ]
    }
   ],
   "source": [
    "x = -10\n",
    "print(abs(x))"
   ]
  },
  {
   "cell_type": "code",
   "execution_count": 6,
   "id": "0bcff16f-9c29-42d0-86b6-eec2cae77559",
   "metadata": {},
   "outputs": [
    {
     "data": {
      "text/plain": [
       "False"
      ]
     },
     "execution_count": 6,
     "metadata": {},
     "output_type": "execute_result"
    }
   ],
   "source": [
    "all([1,10,-1,3,'as',0])"
   ]
  },
  {
   "cell_type": "code",
   "execution_count": 8,
   "id": "d4748812-4c87-47a2-9475-abf9609c9331",
   "metadata": {},
   "outputs": [
    {
     "data": {
      "text/plain": [
       "False"
      ]
     },
     "execution_count": 8,
     "metadata": {},
     "output_type": "execute_result"
    }
   ],
   "source": [
    "any([0,0,False])"
   ]
  },
  {
   "cell_type": "code",
   "execution_count": 9,
   "id": "6ac2054d-3148-4425-9c3e-5c8f66cc35bd",
   "metadata": {},
   "outputs": [
    {
     "data": {
      "text/plain": [
       "False"
      ]
     },
     "execution_count": 9,
     "metadata": {},
     "output_type": "execute_result"
    }
   ],
   "source": [
    "bool(None)"
   ]
  },
  {
   "cell_type": "code",
   "execution_count": 5,
   "id": "182a4e41-75b1-4531-9a7f-81dbd15d4b06",
   "metadata": {
    "scrolled": true
   },
   "outputs": [
    {
     "data": {
      "text/plain": [
       "['__abs__',\n",
       " '__add__',\n",
       " '__and__',\n",
       " '__bool__',\n",
       " '__ceil__',\n",
       " '__class__',\n",
       " '__delattr__',\n",
       " '__dir__',\n",
       " '__divmod__',\n",
       " '__doc__',\n",
       " '__eq__',\n",
       " '__float__',\n",
       " '__floor__',\n",
       " '__floordiv__',\n",
       " '__format__',\n",
       " '__ge__',\n",
       " '__getattribute__',\n",
       " '__getnewargs__',\n",
       " '__getstate__',\n",
       " '__gt__',\n",
       " '__hash__',\n",
       " '__index__',\n",
       " '__init__',\n",
       " '__init_subclass__',\n",
       " '__int__',\n",
       " '__invert__',\n",
       " '__le__',\n",
       " '__lshift__',\n",
       " '__lt__',\n",
       " '__mod__',\n",
       " '__mul__',\n",
       " '__ne__',\n",
       " '__neg__',\n",
       " '__new__',\n",
       " '__or__',\n",
       " '__pos__',\n",
       " '__pow__',\n",
       " '__radd__',\n",
       " '__rand__',\n",
       " '__rdivmod__',\n",
       " '__reduce__',\n",
       " '__reduce_ex__',\n",
       " '__repr__',\n",
       " '__rfloordiv__',\n",
       " '__rlshift__',\n",
       " '__rmod__',\n",
       " '__rmul__',\n",
       " '__ror__',\n",
       " '__round__',\n",
       " '__rpow__',\n",
       " '__rrshift__',\n",
       " '__rshift__',\n",
       " '__rsub__',\n",
       " '__rtruediv__',\n",
       " '__rxor__',\n",
       " '__setattr__',\n",
       " '__sizeof__',\n",
       " '__str__',\n",
       " '__sub__',\n",
       " '__subclasshook__',\n",
       " '__truediv__',\n",
       " '__trunc__',\n",
       " '__xor__',\n",
       " 'as_integer_ratio',\n",
       " 'bit_count',\n",
       " 'bit_length',\n",
       " 'conjugate',\n",
       " 'denominator',\n",
       " 'from_bytes',\n",
       " 'imag',\n",
       " 'is_integer',\n",
       " 'numerator',\n",
       " 'real',\n",
       " 'to_bytes']"
      ]
     },
     "execution_count": 5,
     "metadata": {},
     "output_type": "execute_result"
    }
   ],
   "source": [
    "dir(int)"
   ]
  },
  {
   "cell_type": "code",
   "execution_count": 10,
   "id": "d8254199-02c9-4086-83d3-ecbf8adcd75c",
   "metadata": {},
   "outputs": [
    {
     "data": {
      "text/plain": [
       "(3, 1)"
      ]
     },
     "execution_count": 10,
     "metadata": {},
     "output_type": "execute_result"
    }
   ],
   "source": [
    "divmod(10,3)"
   ]
  },
  {
   "cell_type": "code",
   "execution_count": 14,
   "id": "a9715809-6c3c-42d7-82b0-1761852ce511",
   "metadata": {},
   "outputs": [],
   "source": [
    "a = 3"
   ]
  },
  {
   "cell_type": "code",
   "execution_count": 17,
   "id": "def29276-2d35-4cbd-8357-aeff6c6d8de2",
   "metadata": {},
   "outputs": [
    {
     "name": "stdout",
     "output_type": "stream",
     "text": [
      "0 20\n",
      "1 20.5\n",
      "2 Shubham\n",
      "3 10\n",
      "4 30\n"
     ]
    }
   ],
   "source": [
    "# l = [10,20,30,40,50]\n",
    "l = {10,20,30,'Shubham',20.5}\n",
    "for idx,ele in enumerate(l):\n",
    "    print(idx,ele)"
   ]
  },
  {
   "cell_type": "code",
   "execution_count": 18,
   "id": "c1a51d98-4742-4127-8fad-10bf81bf0cef",
   "metadata": {},
   "outputs": [
    {
     "name": "stdout",
     "output_type": "stream",
     "text": [
      "{20, 20.5, 'Shubham', 10, 30}\n"
     ]
    }
   ],
   "source": [
    "print(l)"
   ]
  },
  {
   "cell_type": "code",
   "execution_count": 21,
   "id": "5be38ac4-bba9-478f-8adc-edfa0ffd58d4",
   "metadata": {
    "scrolled": true
   },
   "outputs": [],
   "source": [
    "l = [i for i in range(1,101)]"
   ]
  },
  {
   "cell_type": "code",
   "execution_count": 29,
   "id": "38c4e4f1-e40f-414f-87d0-11fcee858d97",
   "metadata": {
    "scrolled": true
   },
   "outputs": [],
   "source": [
    "import math\n",
    "def ps(ele:int):\n",
    "    return int(math.sqrt(ele))**2 == ele\n",
    "    \n",
    "nl = [ele for ele in l if ps(ele)]"
   ]
  },
  {
   "cell_type": "code",
   "execution_count": 30,
   "id": "a58a103b-93b6-4e9c-9e7d-aedd198d2498",
   "metadata": {},
   "outputs": [
    {
     "data": {
      "text/plain": [
       "[1, 4, 9, 16, 25, 36, 49, 64, 81, 100]"
      ]
     },
     "execution_count": 30,
     "metadata": {},
     "output_type": "execute_result"
    }
   ],
   "source": [
    "nl"
   ]
  },
  {
   "cell_type": "code",
   "execution_count": 31,
   "id": "9438f0a7-d2f0-4580-bedc-b4df21bd8e14",
   "metadata": {
    "scrolled": true
   },
   "outputs": [
    {
     "name": "stdout",
     "output_type": "stream",
     "text": [
      "31\n",
      "32\n",
      "33\n",
      "34\n",
      "35\n",
      "36\n",
      "37\n",
      "38\n",
      "39\n",
      "40\n",
      "41\n",
      "42\n",
      "43\n",
      "44\n",
      "45\n",
      "46\n",
      "47\n",
      "48\n",
      "49\n",
      "50\n",
      "51\n",
      "52\n",
      "53\n",
      "54\n",
      "55\n",
      "56\n",
      "57\n",
      "58\n",
      "59\n",
      "60\n",
      "61\n",
      "62\n",
      "63\n",
      "64\n",
      "65\n",
      "66\n",
      "67\n",
      "68\n",
      "69\n",
      "70\n",
      "71\n",
      "72\n",
      "73\n",
      "74\n",
      "75\n",
      "76\n",
      "77\n",
      "78\n",
      "79\n",
      "80\n"
     ]
    }
   ],
   "source": [
    "for i in filter(lambda x: 30<x<=80,l):\n",
    "    print(i)"
   ]
  },
  {
   "cell_type": "code",
   "execution_count": 33,
   "id": "7b478c39-1621-46c4-9c62-d946eb18c9b3",
   "metadata": {},
   "outputs": [],
   "source": [
    "l = [(1,10),(5,200),(3,40),(2,150),(4,120)]"
   ]
  },
  {
   "cell_type": "code",
   "execution_count": 34,
   "id": "55aaf22a-652b-44fa-bf38-76cca8e2f93b",
   "metadata": {},
   "outputs": [
    {
     "data": {
      "text/plain": [
       "True"
      ]
     },
     "execution_count": 34,
     "metadata": {},
     "output_type": "execute_result"
    }
   ],
   "source": [
    "isinstance(l,list)"
   ]
  },
  {
   "cell_type": "code",
   "execution_count": null,
   "id": "4c77c10b-a8d2-424c-adc6-99f946bcf96c",
   "metadata": {},
   "outputs": [],
   "source": []
  },
  {
   "cell_type": "code",
   "execution_count": 35,
   "id": "2e4ff2a9-ea55-4513-8db8-bb3f4c1b1283",
   "metadata": {},
   "outputs": [
    {
     "name": "stdout",
     "output_type": "stream",
     "text": [
      "(1, 10)\n",
      "(3, 40)\n"
     ]
    }
   ],
   "source": [
    "for i in filter(lambda x: 0 <= x[1] <= 100,l):\n",
    "    print(i)"
   ]
  },
  {
   "cell_type": "code",
   "execution_count": 39,
   "id": "2f8a64a6-db65-44d3-8840-ab06eeadf61b",
   "metadata": {},
   "outputs": [
    {
     "name": "stdout",
     "output_type": "stream",
     "text": [
      "(10, 1)\n",
      "(200, 5)\n",
      "(40, 3)\n",
      "(150, 2)\n",
      "(120, 4)\n"
     ]
    }
   ],
   "source": [
    "for ele in map(lambda x:x[::-1],l):\n",
    "    print(ele)"
   ]
  },
  {
   "cell_type": "code",
   "execution_count": 41,
   "id": "37d4902b-853b-4888-a108-72900dba1696",
   "metadata": {},
   "outputs": [
    {
     "name": "stdout",
     "output_type": "stream",
     "text": [
      "1.2\n",
      "3.4\n",
      "5.2\n",
      "5.6\n"
     ]
    }
   ],
   "source": [
    "l = [1.2,3.4,5.2,5.6]\n",
    "for ele in map(str,l):\n",
    "    print(ele)"
   ]
  },
  {
   "cell_type": "code",
   "execution_count": 42,
   "id": "f943ca91-17f8-45ae-bef4-5aa14984db77",
   "metadata": {},
   "outputs": [],
   "source": [
    "from functools import reduce"
   ]
  },
  {
   "cell_type": "code",
   "execution_count": 43,
   "id": "1ecc82c8-ba8b-4ec2-b581-86ebce195f38",
   "metadata": {},
   "outputs": [
    {
     "data": {
      "text/plain": [
       "15"
      ]
     },
     "execution_count": 43,
     "metadata": {},
     "output_type": "execute_result"
    }
   ],
   "source": [
    "reduce(lambda a,b: a+b,[1,2,3,4,5])"
   ]
  },
  {
   "cell_type": "code",
   "execution_count": 49,
   "id": "2ab399f8-ec6c-4285-9aae-c5f600754c39",
   "metadata": {},
   "outputs": [],
   "source": [
    "a = (1,100)\n",
    "b = (3,50)\n",
    "\n"
   ]
  },
  {
   "cell_type": "code",
   "execution_count": null,
   "id": "bf07c8b0-b066-4e41-8805-9e386c56ec6b",
   "metadata": {},
   "outputs": [],
   "source": []
  },
  {
   "cell_type": "code",
   "execution_count": 45,
   "id": "1eb15af4-944f-472d-9578-eb58a1a2ac98",
   "metadata": {},
   "outputs": [],
   "source": [
    "l = [(1,10),(5,200),(3,40),(2,150),(4,120)]"
   ]
  },
  {
   "cell_type": "code",
   "execution_count": 51,
   "id": "bedc4deb-5cc8-4ffe-834e-31f94e98df06",
   "metadata": {},
   "outputs": [
    {
     "data": {
      "text/plain": [
       "[(1, 10), (3, 40), (2, 150), (4, 120), (5, 200)]"
      ]
     },
     "execution_count": 51,
     "metadata": {},
     "output_type": "execute_result"
    }
   ],
   "source": [
    "sorted(l,key = lambda x:x[0]*x[1])"
   ]
  },
  {
   "cell_type": "code",
   "execution_count": 52,
   "id": "8c14d2bf-8296-4ce6-bcd3-805acffb6984",
   "metadata": {},
   "outputs": [],
   "source": [
    "class Car:\n",
    "    def __init__(self,model,color,speed):\n",
    "        self.model = model\n",
    "        self.color = color\n",
    "        self.speed = speed\n",
    "\n",
    "    def __len__(self):\n",
    "        return self.speed\n",
    "\n",
    "    def __add__(self,oth):\n",
    "        return Car(self.model,oth.color,self.speed+oth.speed)\n",
    "\n",
    "    def __str__(self):\n",
    "        return f\"model: {self.model}, color: {self.color}, speed: {self.speed}\"\n",
    "        "
   ]
  },
  {
   "cell_type": "code",
   "execution_count": 53,
   "id": "33f85bf9-7d11-4245-8cd0-8a509913df48",
   "metadata": {},
   "outputs": [],
   "source": [
    "c1 = Car(\"Toyota\",\"White\",20)\n",
    "c2 = Car(\"Honda\",\"Black\",15)\n",
    "c3 = Car(\"SUV\",\"Violet\",30)\n",
    "cars = [c1,c2,c3]"
   ]
  },
  {
   "cell_type": "code",
   "execution_count": 55,
   "id": "4ff6ce57-5feb-4eff-aea1-def1ab94fb26",
   "metadata": {},
   "outputs": [
    {
     "name": "stdout",
     "output_type": "stream",
     "text": [
      "model: Honda, color: Black, speed: 15\n",
      "model: SUV, color: Violet, speed: 30\n",
      "model: Toyota, color: White, speed: 20\n"
     ]
    }
   ],
   "source": [
    "cars = sorted(cars,key = lambda x: x.model)\n",
    "for c in cars:\n",
    "    print(c)"
   ]
  },
  {
   "cell_type": "code",
   "execution_count": 61,
   "id": "07ae99f0-ab5a-4451-8511-4b4901701a76",
   "metadata": {},
   "outputs": [
    {
     "name": "stdout",
     "output_type": "stream",
     "text": [
      "[(1, 10, 1), (2, 20, 4), (3, 30, 9), (4, 40, 16)]\n"
     ]
    }
   ],
   "source": [
    "l1 = [1,2,3,4,5,6]\n",
    "l2 = [10,20,30,40]\n",
    "l3 = [1,4,9,16,25]\n",
    "\n",
    "print(list(zip(l1,l2,l3)))"
   ]
  },
  {
   "cell_type": "code",
   "execution_count": null,
   "id": "1b7ef30c-d209-474c-b595-b4de614b80f7",
   "metadata": {},
   "outputs": [],
   "source": []
  },
  {
   "cell_type": "code",
   "execution_count": null,
   "id": "61a3553e-a9ee-462c-951a-2966e82a20fb",
   "metadata": {},
   "outputs": [],
   "source": []
  },
  {
   "cell_type": "code",
   "execution_count": 63,
   "id": "1d95247b-0816-4dd8-b880-fa5670c30982",
   "metadata": {},
   "outputs": [
    {
     "data": {
      "text/plain": [
       "10.0"
      ]
     },
     "execution_count": 63,
     "metadata": {},
     "output_type": "execute_result"
    }
   ],
   "source": [
    "import math\n",
    "math.sqrt(100)"
   ]
  },
  {
   "cell_type": "code",
   "execution_count": 64,
   "id": "554a5e30-3468-4b19-b45c-a8bd07e2cd83",
   "metadata": {},
   "outputs": [],
   "source": [
    "from math import sqrt"
   ]
  },
  {
   "cell_type": "code",
   "execution_count": 65,
   "id": "aea2e4f6-3504-4c10-801b-2496f06d4232",
   "metadata": {},
   "outputs": [
    {
     "data": {
      "text/plain": [
       "<function math.sqrt(x, /)>"
      ]
     },
     "execution_count": 65,
     "metadata": {},
     "output_type": "execute_result"
    }
   ],
   "source": [
    "sqrt"
   ]
  },
  {
   "cell_type": "code",
   "execution_count": 1,
   "id": "949fd9f1-901b-4f8e-8d84-df69ecba7892",
   "metadata": {},
   "outputs": [
    {
     "name": "stdout",
     "output_type": "stream",
     "text": [
      "Hello Welcome to my Module\n"
     ]
    }
   ],
   "source": [
    "import MyModule as mm\n",
    "# from MyModule import a,b,fn\n",
    "# from MyModule import *"
   ]
  },
  {
   "cell_type": "code",
   "execution_count": 8,
   "id": "19562017-814d-4663-a6cd-0cdd291dc594",
   "metadata": {},
   "outputs": [
    {
     "data": {
      "text/plain": [
       "(10, 10.5)"
      ]
     },
     "execution_count": 8,
     "metadata": {},
     "output_type": "execute_result"
    }
   ],
   "source": [
    "a,b"
   ]
  },
  {
   "cell_type": "code",
   "execution_count": 9,
   "id": "20b01874-eb14-4603-badd-6046eb57468e",
   "metadata": {},
   "outputs": [
    {
     "name": "stdout",
     "output_type": "stream",
     "text": [
      "Hello World\n"
     ]
    }
   ],
   "source": [
    "fn()"
   ]
  },
  {
   "cell_type": "code",
   "execution_count": 10,
   "id": "dc4184c8-fea7-48e6-812c-508a0c2eae31",
   "metadata": {},
   "outputs": [
    {
     "data": {
      "text/plain": [
       "MyModule.A"
      ]
     },
     "execution_count": 10,
     "metadata": {},
     "output_type": "execute_result"
    }
   ],
   "source": [
    "A"
   ]
  },
  {
   "cell_type": "code",
   "execution_count": 3,
   "id": "fe380d39-7426-47ac-9d1f-2b95358cdade",
   "metadata": {},
   "outputs": [
    {
     "ename": "NameError",
     "evalue": "name 'MyModule' is not defined",
     "output_type": "error",
     "traceback": [
      "\u001b[31m---------------------------------------------------------------------------\u001b[39m",
      "\u001b[31mNameError\u001b[39m                                 Traceback (most recent call last)",
      "\u001b[36mCell\u001b[39m\u001b[36m \u001b[39m\u001b[32mIn[3]\u001b[39m\u001b[32m, line 1\u001b[39m\n\u001b[32m----> \u001b[39m\u001b[32m1\u001b[39m \u001b[43mMyModule\u001b[49m.fn()\n\u001b[32m      2\u001b[39m \u001b[38;5;66;03m# mm.fn()\u001b[39;00m\n\u001b[32m      3\u001b[39m \u001b[38;5;66;03m# mm.a\u001b[39;00m\n",
      "\u001b[31mNameError\u001b[39m: name 'MyModule' is not defined"
     ]
    }
   ],
   "source": [
    "MyModule.fn()\n",
    "# mm.fn()\n",
    "# mm.a"
   ]
  },
  {
   "cell_type": "code",
   "execution_count": 68,
   "id": "80c06c89-e03a-49ca-a36a-3134cf094346",
   "metadata": {},
   "outputs": [
    {
     "data": {
      "text/plain": [
       "<module 'MyModule' from 'E:\\\\DS Classes\\\\DS_PP_AUG_2025\\\\Python Basic\\\\MyModule.py'>"
      ]
     },
     "execution_count": 68,
     "metadata": {},
     "output_type": "execute_result"
    }
   ],
   "source": [
    "MyModule"
   ]
  },
  {
   "cell_type": "code",
   "execution_count": 3,
   "id": "74ad05df-efb4-475a-87a4-25cc04be95d8",
   "metadata": {},
   "outputs": [
    {
     "data": {
      "text/plain": [
       "20.5"
      ]
     },
     "execution_count": 3,
     "metadata": {},
     "output_type": "execute_result"
    }
   ],
   "source": [
    "MyModule.b"
   ]
  },
  {
   "cell_type": "code",
   "execution_count": 4,
   "id": "1ff36aa2-996a-4e88-9987-3d4652aa38d6",
   "metadata": {},
   "outputs": [
    {
     "name": "stdout",
     "output_type": "stream",
     "text": [
      "Hello World\n"
     ]
    }
   ],
   "source": [
    "MyModule.fn()"
   ]
  },
  {
   "cell_type": "code",
   "execution_count": 6,
   "id": "40691d21-e705-418f-9b53-81eeac2f6c6c",
   "metadata": {},
   "outputs": [
    {
     "data": {
      "text/plain": [
       "<MyModule.A at 0x296a95be150>"
      ]
     },
     "execution_count": 6,
     "metadata": {},
     "output_type": "execute_result"
    }
   ],
   "source": [
    "MyModule.A()"
   ]
  },
  {
   "cell_type": "code",
   "execution_count": null,
   "id": "8f791ce7-7b98-47b6-8c64-77004fa7e8fb",
   "metadata": {},
   "outputs": [],
   "source": []
  },
  {
   "cell_type": "code",
   "execution_count": 2,
   "id": "def32c41-755b-4236-abad-3ae135fd0fdf",
   "metadata": {},
   "outputs": [
    {
     "data": {
      "text/plain": [
       "'MyModule'"
      ]
     },
     "execution_count": 2,
     "metadata": {},
     "output_type": "execute_result"
    }
   ],
   "source": [
    "mm.__name__"
   ]
  },
  {
   "cell_type": "code",
   "execution_count": null,
   "id": "ad0e4f8e-ed48-4b08-9572-2d675114cbea",
   "metadata": {},
   "outputs": [],
   "source": []
  }
 ],
 "metadata": {
  "kernelspec": {
   "display_name": "Python 3 (ipykernel)",
   "language": "python",
   "name": "python3"
  },
  "language_info": {
   "codemirror_mode": {
    "name": "ipython",
    "version": 3
   },
   "file_extension": ".py",
   "mimetype": "text/x-python",
   "name": "python",
   "nbconvert_exporter": "python",
   "pygments_lexer": "ipython3",
   "version": "3.12.9"
  }
 },
 "nbformat": 4,
 "nbformat_minor": 5
}
