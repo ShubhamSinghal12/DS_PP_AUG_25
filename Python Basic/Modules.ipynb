{
 "cells": [
  {
   "cell_type": "markdown",
   "id": "a5a37cec-2593-4451-8354-d35eb6626ba0",
   "metadata": {},
   "source": [
    "## Various Functions\n",
    "- abs\n",
    "- all\n",
    "- dir\n",
    "- divmod\n",
    "- enumerate\n",
    "- filter\n",
    "- isinstance\n",
    "- map\n",
    "- reduce -- in python3 from functools import reduce\n",
    "- sorted\n",
    "\n",
    "## Modules\n",
    "- How to make and import module\n",
    "- Alias and filtered import\n",
    "- from module_name import *\n",
    "- Memory Management\n",
    "- For efficienncy sake, each module is imported once per interpreter session. Therefore, if you can change your modules, you must restart the interpreter.\n",
    "- OS module\n",
    "\n",
    "## The module name is available in the \\_\\_name__ global variable\n",
    "\\_\\_name__ is a built-in variable which evaluates to the name of the current module.\n",
    "\n",
    "- when a module script is executed as a source file the value of \\_\\_name__ var is \\_\\_main__\n",
    "- if a script is executed as a Module \\_\\_name__ holds the name of the module\n",
    "\n",
    "## Executing module as a script\n"
   ]
  },
  {
   "cell_type": "code",
   "execution_count": 1,
   "id": "d0e0f232-21e7-4c8c-b670-07becee5356d",
   "metadata": {},
   "outputs": [
    {
     "name": "stdout",
     "output_type": "stream",
     "text": [
      "10\n"
     ]
    }
   ],
   "source": [
    "x = -10\n",
    "print(abs(x))"
   ]
  },
  {
   "cell_type": "code",
   "execution_count": 2,
   "id": "0bcff16f-9c29-42d0-86b6-eec2cae77559",
   "metadata": {},
   "outputs": [
    {
     "data": {
      "text/plain": [
       "True"
      ]
     },
     "execution_count": 2,
     "metadata": {},
     "output_type": "execute_result"
    }
   ],
   "source": [
    "all([True,-1,'as',3,True])"
   ]
  },
  {
   "cell_type": "code",
   "execution_count": 3,
   "id": "d4748812-4c87-47a2-9475-abf9609c9331",
   "metadata": {},
   "outputs": [
    {
     "data": {
      "text/plain": [
       "True"
      ]
     },
     "execution_count": 3,
     "metadata": {},
     "output_type": "execute_result"
    }
   ],
   "source": [
    "any([True,1,False])"
   ]
  },
  {
   "cell_type": "code",
   "execution_count": 4,
   "id": "6ac2054d-3148-4425-9c3e-5c8f66cc35bd",
   "metadata": {},
   "outputs": [
    {
     "data": {
      "text/plain": [
       "False"
      ]
     },
     "execution_count": 4,
     "metadata": {},
     "output_type": "execute_result"
    }
   ],
   "source": [
    "bool(None)"
   ]
  },
  {
   "cell_type": "code",
   "execution_count": 5,
   "id": "182a4e41-75b1-4531-9a7f-81dbd15d4b06",
   "metadata": {
    "scrolled": true
   },
   "outputs": [
    {
     "data": {
      "text/plain": [
       "['__abs__',\n",
       " '__add__',\n",
       " '__and__',\n",
       " '__bool__',\n",
       " '__ceil__',\n",
       " '__class__',\n",
       " '__delattr__',\n",
       " '__dir__',\n",
       " '__divmod__',\n",
       " '__doc__',\n",
       " '__eq__',\n",
       " '__float__',\n",
       " '__floor__',\n",
       " '__floordiv__',\n",
       " '__format__',\n",
       " '__ge__',\n",
       " '__getattribute__',\n",
       " '__getnewargs__',\n",
       " '__getstate__',\n",
       " '__gt__',\n",
       " '__hash__',\n",
       " '__index__',\n",
       " '__init__',\n",
       " '__init_subclass__',\n",
       " '__int__',\n",
       " '__invert__',\n",
       " '__le__',\n",
       " '__lshift__',\n",
       " '__lt__',\n",
       " '__mod__',\n",
       " '__mul__',\n",
       " '__ne__',\n",
       " '__neg__',\n",
       " '__new__',\n",
       " '__or__',\n",
       " '__pos__',\n",
       " '__pow__',\n",
       " '__radd__',\n",
       " '__rand__',\n",
       " '__rdivmod__',\n",
       " '__reduce__',\n",
       " '__reduce_ex__',\n",
       " '__repr__',\n",
       " '__rfloordiv__',\n",
       " '__rlshift__',\n",
       " '__rmod__',\n",
       " '__rmul__',\n",
       " '__ror__',\n",
       " '__round__',\n",
       " '__rpow__',\n",
       " '__rrshift__',\n",
       " '__rshift__',\n",
       " '__rsub__',\n",
       " '__rtruediv__',\n",
       " '__rxor__',\n",
       " '__setattr__',\n",
       " '__sizeof__',\n",
       " '__str__',\n",
       " '__sub__',\n",
       " '__subclasshook__',\n",
       " '__truediv__',\n",
       " '__trunc__',\n",
       " '__xor__',\n",
       " 'as_integer_ratio',\n",
       " 'bit_count',\n",
       " 'bit_length',\n",
       " 'conjugate',\n",
       " 'denominator',\n",
       " 'from_bytes',\n",
       " 'imag',\n",
       " 'is_integer',\n",
       " 'numerator',\n",
       " 'real',\n",
       " 'to_bytes']"
      ]
     },
     "execution_count": 5,
     "metadata": {},
     "output_type": "execute_result"
    }
   ],
   "source": [
    "dir(int)"
   ]
  },
  {
   "cell_type": "code",
   "execution_count": 6,
   "id": "d8254199-02c9-4086-83d3-ecbf8adcd75c",
   "metadata": {},
   "outputs": [
    {
     "data": {
      "text/plain": [
       "(3, 1)"
      ]
     },
     "execution_count": 6,
     "metadata": {},
     "output_type": "execute_result"
    }
   ],
   "source": [
    "divmod(10,3)"
   ]
  },
  {
   "cell_type": "code",
   "execution_count": 14,
   "id": "a9715809-6c3c-42d7-82b0-1761852ce511",
   "metadata": {},
   "outputs": [],
   "source": [
    "a = 3"
   ]
  },
  {
   "cell_type": "code",
   "execution_count": 8,
   "id": "def29276-2d35-4cbd-8357-aeff6c6d8de2",
   "metadata": {},
   "outputs": [
    {
     "name": "stdout",
     "output_type": "stream",
     "text": [
      "0 Shubham\n",
      "1 20.5\n",
      "2 20\n",
      "3 10\n",
      "4 30\n"
     ]
    }
   ],
   "source": [
    "# l = [10,20,30,40,50]\n",
    "l = {10,20,30,'Shubham',20.5}\n",
    "for idx,ele in enumerate(l):\n",
    "    print(idx,ele)"
   ]
  },
  {
   "cell_type": "code",
   "execution_count": 9,
   "id": "c1a51d98-4742-4127-8fad-10bf81bf0cef",
   "metadata": {},
   "outputs": [
    {
     "name": "stdout",
     "output_type": "stream",
     "text": [
      "{'Shubham', 20.5, 20, 10, 30}\n"
     ]
    }
   ],
   "source": [
    "print(l)"
   ]
  },
  {
   "cell_type": "code",
   "execution_count": 10,
   "id": "5be38ac4-bba9-478f-8adc-edfa0ffd58d4",
   "metadata": {
    "scrolled": true
   },
   "outputs": [],
   "source": [
    "l = [i*10 for i in range(1,101)]"
   ]
  },
  {
   "cell_type": "code",
   "execution_count": 11,
   "id": "a58a103b-93b6-4e9c-9e7d-aedd198d2498",
   "metadata": {},
   "outputs": [],
   "source": [
    "nl = list()"
   ]
  },
  {
   "cell_type": "code",
   "execution_count": 12,
   "id": "9438f0a7-d2f0-4580-bedc-b4df21bd8e14",
   "metadata": {},
   "outputs": [
    {
     "name": "stdout",
     "output_type": "stream",
     "text": [
      "40\n",
      "50\n",
      "60\n",
      "70\n",
      "80\n"
     ]
    }
   ],
   "source": [
    "for i in filter(lambda x: 30<x<=80,l):\n",
    "    print(i)"
   ]
  },
  {
   "cell_type": "code",
   "execution_count": 17,
   "id": "7b478c39-1621-46c4-9c62-d946eb18c9b3",
   "metadata": {},
   "outputs": [],
   "source": [
    "l = [(1,10),(5,200),(3,40),(2,150),(4,120)]"
   ]
  },
  {
   "cell_type": "code",
   "execution_count": 18,
   "id": "55aaf22a-652b-44fa-bf38-76cca8e2f93b",
   "metadata": {},
   "outputs": [
    {
     "data": {
      "text/plain": [
       "True"
      ]
     },
     "execution_count": 18,
     "metadata": {},
     "output_type": "execute_result"
    }
   ],
   "source": [
    "isinstance(l,list)"
   ]
  },
  {
   "cell_type": "code",
   "execution_count": null,
   "id": "4c77c10b-a8d2-424c-adc6-99f946bcf96c",
   "metadata": {},
   "outputs": [],
   "source": []
  },
  {
   "cell_type": "code",
   "execution_count": 21,
   "id": "2e4ff2a9-ea55-4513-8db8-bb3f4c1b1283",
   "metadata": {},
   "outputs": [
    {
     "name": "stdout",
     "output_type": "stream",
     "text": [
      "(1, 10)\n",
      "(5, 200)\n",
      "(3, 40)\n",
      "(2, 150)\n",
      "(4, 120)\n"
     ]
    }
   ],
   "source": [
    "for i in filter(lambda x: 0 <= x[0] <= 100,l):\n",
    "    print(i)"
   ]
  },
  {
   "cell_type": "code",
   "execution_count": 22,
   "id": "2f8a64a6-db65-44d3-8840-ab06eeadf61b",
   "metadata": {},
   "outputs": [
    {
     "name": "stdout",
     "output_type": "stream",
     "text": [
      "11\n",
      "205\n",
      "43\n",
      "152\n",
      "124\n"
     ]
    }
   ],
   "source": [
    "for ele in map(lambda x:x[0]+x[1],l):\n",
    "    print(ele)"
   ]
  },
  {
   "cell_type": "code",
   "execution_count": 23,
   "id": "37d4902b-853b-4888-a108-72900dba1696",
   "metadata": {},
   "outputs": [
    {
     "name": "stdout",
     "output_type": "stream",
     "text": [
      "1\n",
      "3\n",
      "5\n",
      "5\n"
     ]
    }
   ],
   "source": [
    "l = [1.2,3.4,5.2,5.6]\n",
    "for ele in map(int,l):\n",
    "    print(ele)"
   ]
  },
  {
   "cell_type": "code",
   "execution_count": 24,
   "id": "f943ca91-17f8-45ae-bef4-5aa14984db77",
   "metadata": {},
   "outputs": [],
   "source": [
    "from functools import reduce"
   ]
  },
  {
   "cell_type": "code",
   "execution_count": 27,
   "id": "1ecc82c8-ba8b-4ec2-b581-86ebce195f38",
   "metadata": {},
   "outputs": [
    {
     "data": {
      "text/plain": [
       "120"
      ]
     },
     "execution_count": 27,
     "metadata": {},
     "output_type": "execute_result"
    }
   ],
   "source": [
    "reduce(lambda a,b: a*b,[1,2,3,4,5])"
   ]
  },
  {
   "cell_type": "code",
   "execution_count": 26,
   "id": "1eb15af4-944f-472d-9578-eb58a1a2ac98",
   "metadata": {},
   "outputs": [],
   "source": [
    "l = [(1,10),(5,200),(3,40),(2,150),(4,120)]"
   ]
  },
  {
   "cell_type": "code",
   "execution_count": 28,
   "id": "bedc4deb-5cc8-4ffe-834e-31f94e98df06",
   "metadata": {},
   "outputs": [
    {
     "data": {
      "text/plain": [
       "[(1, 10), (3, 40), (4, 120), (2, 150), (5, 200)]"
      ]
     },
     "execution_count": 28,
     "metadata": {},
     "output_type": "execute_result"
    }
   ],
   "source": [
    "sorted(l,key = lambda x:x[1])"
   ]
  },
  {
   "cell_type": "code",
   "execution_count": 29,
   "id": "8c14d2bf-8296-4ce6-bcd3-805acffb6984",
   "metadata": {},
   "outputs": [],
   "source": [
    "class Car:\n",
    "    def __init__(self,model,color,speed):\n",
    "        self.model = model\n",
    "        self.color = color\n",
    "        self.speed = speed\n",
    "\n",
    "    def __len__(self):\n",
    "        return self.speed\n",
    "\n",
    "    def __add__(self,oth):\n",
    "        return Car(self.model,oth.color,self.speed+oth.speed)\n",
    "\n",
    "    def __str__(self):\n",
    "        return f\"model: {self.model}, color: {self.color}, speed: {self.speed}\"\n",
    "        "
   ]
  },
  {
   "cell_type": "code",
   "execution_count": 30,
   "id": "33f85bf9-7d11-4245-8cd0-8a509913df48",
   "metadata": {},
   "outputs": [],
   "source": [
    "c1 = Car(\"Toyota\",\"White\",20)\n",
    "c2 = Car(\"Honda\",\"Black\",15)\n",
    "c3 = Car(\"SUV\",\"Violet\",30)\n",
    "cars = [c1,c2,c3]"
   ]
  },
  {
   "cell_type": "code",
   "execution_count": 31,
   "id": "4ff6ce57-5feb-4eff-aea1-def1ab94fb26",
   "metadata": {},
   "outputs": [
    {
     "name": "stdout",
     "output_type": "stream",
     "text": [
      "model: Honda, color: Black, speed: 15\n",
      "model: Toyota, color: White, speed: 20\n",
      "model: SUV, color: Violet, speed: 30\n"
     ]
    }
   ],
   "source": [
    "cars = sorted(cars,key = lambda x: x.speed)\n",
    "for c in cars:\n",
    "    print(c)"
   ]
  },
  {
   "cell_type": "code",
   "execution_count": 3,
   "id": "554a5e30-3468-4b19-b45c-a8bd07e2cd83",
   "metadata": {},
   "outputs": [],
   "source": [
    "from math import sqrt"
   ]
  },
  {
   "cell_type": "code",
   "execution_count": 4,
   "id": "aea2e4f6-3504-4c10-801b-2496f06d4232",
   "metadata": {},
   "outputs": [
    {
     "data": {
      "text/plain": [
       "<function math.sqrt(x, /)>"
      ]
     },
     "execution_count": 4,
     "metadata": {},
     "output_type": "execute_result"
    }
   ],
   "source": [
    "sqrt"
   ]
  },
  {
   "cell_type": "code",
   "execution_count": 1,
   "id": "949fd9f1-901b-4f8e-8d84-df69ecba7892",
   "metadata": {},
   "outputs": [
    {
     "name": "stdout",
     "output_type": "stream",
     "text": [
      "Hello, Welcome to MyModule\n"
     ]
    }
   ],
   "source": [
    "import MyModule as mm\n",
    "# from MyModule import a,b,fn\n",
    "# from MyModule import *"
   ]
  },
  {
   "cell_type": "code",
   "execution_count": 4,
   "id": "fe380d39-7426-47ac-9d1f-2b95358cdade",
   "metadata": {},
   "outputs": [
    {
     "name": "stdout",
     "output_type": "stream",
     "text": [
      "Hello World\n"
     ]
    }
   ],
   "source": [
    "# MyModule.a\n",
    "# mm.a\n",
    "# a\n",
    "# b\n",
    "fn()"
   ]
  },
  {
   "cell_type": "code",
   "execution_count": 4,
   "id": "80c06c89-e03a-49ca-a36a-3134cf094346",
   "metadata": {},
   "outputs": [
    {
     "ename": "NameError",
     "evalue": "name 'MyModule' is not defined",
     "output_type": "error",
     "traceback": [
      "\u001b[31m---------------------------------------------------------------------------\u001b[39m",
      "\u001b[31mNameError\u001b[39m                                 Traceback (most recent call last)",
      "\u001b[36mCell\u001b[39m\u001b[36m \u001b[39m\u001b[32mIn[4]\u001b[39m\u001b[32m, line 1\u001b[39m\n\u001b[32m----> \u001b[39m\u001b[32m1\u001b[39m \u001b[43mMyModule\u001b[49m\n",
      "\u001b[31mNameError\u001b[39m: name 'MyModule' is not defined"
     ]
    }
   ],
   "source": [
    "MyModule"
   ]
  },
  {
   "cell_type": "code",
   "execution_count": 3,
   "id": "74ad05df-efb4-475a-87a4-25cc04be95d8",
   "metadata": {},
   "outputs": [
    {
     "data": {
      "text/plain": [
       "20.5"
      ]
     },
     "execution_count": 3,
     "metadata": {},
     "output_type": "execute_result"
    }
   ],
   "source": [
    "MyModule.b"
   ]
  },
  {
   "cell_type": "code",
   "execution_count": 4,
   "id": "1ff36aa2-996a-4e88-9987-3d4652aa38d6",
   "metadata": {},
   "outputs": [
    {
     "name": "stdout",
     "output_type": "stream",
     "text": [
      "Hello World\n"
     ]
    }
   ],
   "source": [
    "MyModule.fn()"
   ]
  },
  {
   "cell_type": "code",
   "execution_count": 6,
   "id": "40691d21-e705-418f-9b53-81eeac2f6c6c",
   "metadata": {},
   "outputs": [
    {
     "data": {
      "text/plain": [
       "<MyModule.A at 0x296a95be150>"
      ]
     },
     "execution_count": 6,
     "metadata": {},
     "output_type": "execute_result"
    }
   ],
   "source": [
    "MyModule.A()"
   ]
  },
  {
   "cell_type": "code",
   "execution_count": null,
   "id": "8f791ce7-7b98-47b6-8c64-77004fa7e8fb",
   "metadata": {},
   "outputs": [],
   "source": []
  },
  {
   "cell_type": "code",
   "execution_count": 7,
   "id": "def32c41-755b-4236-abad-3ae135fd0fdf",
   "metadata": {},
   "outputs": [
    {
     "data": {
      "text/plain": [
       "'MyModule'"
      ]
     },
     "execution_count": 7,
     "metadata": {},
     "output_type": "execute_result"
    }
   ],
   "source": [
    "mm.__name__"
   ]
  },
  {
   "cell_type": "code",
   "execution_count": null,
   "id": "ad0e4f8e-ed48-4b08-9572-2d675114cbea",
   "metadata": {},
   "outputs": [],
   "source": []
  }
 ],
 "metadata": {
  "kernelspec": {
   "display_name": "Python 3 (ipykernel)",
   "language": "python",
   "name": "python3"
  },
  "language_info": {
   "codemirror_mode": {
    "name": "ipython",
    "version": 3
   },
   "file_extension": ".py",
   "mimetype": "text/x-python",
   "name": "python",
   "nbconvert_exporter": "python",
   "pygments_lexer": "ipython3",
   "version": "3.12.9"
  }
 },
 "nbformat": 4,
 "nbformat_minor": 5
}
