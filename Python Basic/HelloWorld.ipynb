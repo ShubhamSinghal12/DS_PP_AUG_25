{
 "cells": [
  {
   "cell_type": "code",
   "execution_count": 2,
   "id": "f32c265f-be72-4d8c-8cb3-0cb34be1bad6",
   "metadata": {},
   "outputs": [
    {
     "name": "stdout",
     "output_type": "stream",
     "text": [
      "Hello! Welcome to CB.\n"
     ]
    }
   ],
   "source": [
    "print(\"Hello! Welcome to CB.\")"
   ]
  },
  {
   "cell_type": "raw",
   "id": "28102aaa-50a3-4629-8ae0-9f59fe43814f",
   "metadata": {},
   "source": [
    "Hello World"
   ]
  },
  {
   "cell_type": "markdown",
   "id": "65e7f11f-93b1-4f06-bcc3-33592412f12e",
   "metadata": {},
   "source": [
    "# H1\n",
    "\n",
    "- 1\n",
    "- 2\n",
    "- 3\n",
    "\n",
    "1. 1\n",
    "2. 2\n",
    "3. 3"
   ]
  },
  {
   "cell_type": "code",
   "execution_count": 12,
   "id": "2d7c66c1-c364-47c8-b326-7fd4a1096f25",
   "metadata": {},
   "outputs": [
    {
     "name": "stdin",
     "output_type": "stream",
     "text": [
      " 2\n",
      " 9 3\n"
     ]
    },
    {
     "name": "stdout",
     "output_type": "stream",
     "text": [
      "Aayush\n"
     ]
    },
    {
     "name": "stdin",
     "output_type": "stream",
     "text": [
      " 8 11\n"
     ]
    },
    {
     "name": "stdout",
     "output_type": "stream",
     "text": [
      "Harshit\n"
     ]
    }
   ],
   "source": [
    "t = int(input())\n",
    "i = 1\n",
    "while i <= t:\n",
    "    m,n = input().split()\n",
    "    m = int(m)\n",
    "    n = int(n)\n",
    "    ### Work\n",
    "    sm = 1\n",
    "    while True:\n",
    "        m -= sm\n",
    "        if m < 0:\n",
    "            print(\"Harshit\")\n",
    "            break\n",
    "        sm += 1\n",
    "        \n",
    "        n -= sm\n",
    "        if n < 0:\n",
    "            print(\"Aayush\")\n",
    "            break\n",
    "        sm += 1\n",
    "    i += 1"
   ]
  },
  {
   "cell_type": "code",
   "execution_count": 9,
   "id": "344fd557-8117-4019-a22b-501042e78d37",
   "metadata": {},
   "outputs": [
    {
     "data": {
      "text/plain": [
       "9"
      ]
     },
     "execution_count": 9,
     "metadata": {},
     "output_type": "execute_result"
    }
   ],
   "source": [
    "m"
   ]
  },
  {
   "cell_type": "code",
   "execution_count": 10,
   "id": "296b26ff-8ff5-4602-b97e-37ae4c5b7d0b",
   "metadata": {},
   "outputs": [
    {
     "data": {
      "text/plain": [
       "3"
      ]
     },
     "execution_count": 10,
     "metadata": {},
     "output_type": "execute_result"
    }
   ],
   "source": [
    "n"
   ]
  },
  {
   "cell_type": "code",
   "execution_count": 13,
   "id": "edda798d-fe4f-487c-93d8-ed2736d9a714",
   "metadata": {},
   "outputs": [],
   "source": [
    "import math"
   ]
  },
  {
   "cell_type": "code",
   "execution_count": 14,
   "id": "7d239c8c-65df-41af-90a9-df6aa849a065",
   "metadata": {},
   "outputs": [
    {
     "data": {
      "text/plain": [
       "2.0"
      ]
     },
     "execution_count": 14,
     "metadata": {},
     "output_type": "execute_result"
    }
   ],
   "source": [
    "math.sqrt(4)"
   ]
  },
  {
   "cell_type": "code",
   "execution_count": null,
   "id": "46206d39-c9d5-4f77-8ce5-dd97126d0580",
   "metadata": {},
   "outputs": [],
   "source": []
  },
  {
   "cell_type": "code",
   "execution_count": null,
   "id": "c8393da5-5671-4a23-8109-7f140d6476a5",
   "metadata": {},
   "outputs": [],
   "source": []
  },
  {
   "cell_type": "code",
   "execution_count": null,
   "id": "681e1752-c5e2-4468-97bc-71da9ee59443",
   "metadata": {},
   "outputs": [],
   "source": []
  }
 ],
 "metadata": {
  "kernelspec": {
   "display_name": "Python 3 (ipykernel)",
   "language": "python",
   "name": "python3"
  },
  "language_info": {
   "codemirror_mode": {
    "name": "ipython",
    "version": 3
   },
   "file_extension": ".py",
   "mimetype": "text/x-python",
   "name": "python",
   "nbconvert_exporter": "python",
   "pygments_lexer": "ipython3",
   "version": "3.12.9"
  }
 },
 "nbformat": 4,
 "nbformat_minor": 5
}
