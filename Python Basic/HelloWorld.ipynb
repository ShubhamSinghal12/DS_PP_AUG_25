{
 "cells": [
  {
   "cell_type": "code",
   "execution_count": 2,
   "id": "f32c265f-be72-4d8c-8cb3-0cb34be1bad6",
   "metadata": {},
   "outputs": [
    {
     "name": "stdout",
     "output_type": "stream",
     "text": [
      "Hello! Welcome to CB.\n"
     ]
    }
   ],
   "source": [
    "print(\"Hello! Welcome to CB.\")"
   ]
  },
  {
   "cell_type": "raw",
   "id": "28102aaa-50a3-4629-8ae0-9f59fe43814f",
   "metadata": {},
   "source": [
    "Hello World"
   ]
  },
  {
   "cell_type": "markdown",
   "id": "65e7f11f-93b1-4f06-bcc3-33592412f12e",
   "metadata": {},
   "source": [
    "# H1\n",
    "\n",
    "- 1\n",
    "- 2\n",
    "- 3\n",
    "\n",
    "1. 1\n",
    "2. 2\n",
    "3. 3"
   ]
  },
  {
   "cell_type": "code",
   "execution_count": null,
   "id": "2d7c66c1-c364-47c8-b326-7fd4a1096f25",
   "metadata": {},
   "outputs": [],
   "source": []
  },
  {
   "cell_type": "code",
   "execution_count": null,
   "id": "344fd557-8117-4019-a22b-501042e78d37",
   "metadata": {},
   "outputs": [],
   "source": []
  }
 ],
 "metadata": {
  "kernelspec": {
   "display_name": "Python 3 (ipykernel)",
   "language": "python",
   "name": "python3"
  },
  "language_info": {
   "codemirror_mode": {
    "name": "ipython",
    "version": 3
   },
   "file_extension": ".py",
   "mimetype": "text/x-python",
   "name": "python",
   "nbconvert_exporter": "python",
   "pygments_lexer": "ipython3",
   "version": "3.12.9"
  }
 },
 "nbformat": 4,
 "nbformat_minor": 5
}
