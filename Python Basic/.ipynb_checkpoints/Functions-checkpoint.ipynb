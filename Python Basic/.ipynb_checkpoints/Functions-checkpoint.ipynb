{
 "cells": [
  {
   "cell_type": "markdown",
   "id": "257c4755-f3b0-487c-875e-33742170c1f8",
   "metadata": {},
   "source": [
    "## functions\n",
    "- defination\n",
    "- Memory management\n",
    "- parameters (Pass by Value)\n",
    "- return / Multiple Return\n",
    "- default arguments\n",
    "- keyword arguments\n",
    "- DocString (__doc__)\n",
    "- function as arguments\n",
    "- Anonymous Function\n",
    "- Recursion\n",
    "- Type Hints \n",
    "- Arbitrary arguments (*args and **kwargs) (After Built-in)\n",
    "- Function within function\n",
    "- Function Decorators\n",
    "- iterators\n",
    "\n",
    "## Various Functions\n",
    "- abs\n",
    "- all\n",
    "- dir\n",
    "- divmod\n",
    "- enumerate\n",
    "- filter\n",
    "- isinstance\n",
    "- map\n",
    "- reduce -- in python3 from functools import reduce\n",
    "- sorted"
   ]
  },
  {
   "cell_type": "code",
   "execution_count": 21,
   "id": "2df1f8b4-dfd1-454f-aa33-73e953f0653e",
   "metadata": {},
   "outputs": [],
   "source": [
    "def add():\n",
    "    print(\"In add\")\n",
    "    a = 10\n",
    "    b = 20\n",
    "    c = a+b\n",
    "    print(c)\n",
    "\n",
    "def add(a,b):\n",
    "    c = a + b\n",
    "    print(c)\n",
    "    return c\n"
   ]
  },
  {
   "cell_type": "code",
   "execution_count": 12,
   "id": "62bb316f-b680-4882-96eb-44730032e859",
   "metadata": {},
   "outputs": [
    {
     "name": "stdout",
     "output_type": "stream",
     "text": [
      "Hi\n",
      "30\n",
      "Bye\n"
     ]
    }
   ],
   "source": [
    "print(\"Hi\")\n",
    "add(10,20)\n",
    "print(\"Bye\")"
   ]
  },
  {
   "cell_type": "code",
   "execution_count": 13,
   "id": "e4bb8f5a-d4ff-4ef1-95ad-48730a599eaa",
   "metadata": {},
   "outputs": [
    {
     "name": "stdout",
     "output_type": "stream",
     "text": [
      "300\n"
     ]
    }
   ],
   "source": [
    "c = add(100,200)"
   ]
  },
  {
   "cell_type": "code",
   "execution_count": 14,
   "id": "63791247-8884-4c06-8045-8e2f1d831c18",
   "metadata": {},
   "outputs": [
    {
     "data": {
      "text/plain": [
       "300"
      ]
     },
     "execution_count": 14,
     "metadata": {},
     "output_type": "execute_result"
    }
   ],
   "source": [
    "c"
   ]
  },
  {
   "cell_type": "code",
   "execution_count": 15,
   "id": "b0f3680a-8fea-40d2-a42c-1f5f62b52013",
   "metadata": {},
   "outputs": [],
   "source": [
    "# add = 100\n",
    "# print = 20"
   ]
  },
  {
   "cell_type": "code",
   "execution_count": 22,
   "id": "df5c1249-3792-41cf-bcc4-238981a2e40d",
   "metadata": {},
   "outputs": [
    {
     "name": "stdout",
     "output_type": "stream",
     "text": [
      "300\n",
      "c =  300\n"
     ]
    }
   ],
   "source": [
    "c = add(100,200)\n",
    "print('c = ',c)"
   ]
  },
  {
   "cell_type": "code",
   "execution_count": 20,
   "id": "ca5ef5c4-f1c2-46b7-9a48-479506af34d6",
   "metadata": {},
   "outputs": [
    {
     "name": "stdout",
     "output_type": "stream",
     "text": [
      "C\n",
      "None\n"
     ]
    }
   ],
   "source": [
    "c = print(\"C\")\n",
    "print(c)"
   ]
  },
  {
   "cell_type": "code",
   "execution_count": 23,
   "id": "d746b1da-607e-476e-8c48-9b8ecc820b7d",
   "metadata": {},
   "outputs": [],
   "source": [
    "def add_sub(a,b):\n",
    "    c = a+b\n",
    "    d = a-b\n",
    "\n",
    "    return c,d"
   ]
  },
  {
   "cell_type": "code",
   "execution_count": 24,
   "id": "7623a0ff-c335-4411-8e11-313e0d4aa396",
   "metadata": {},
   "outputs": [],
   "source": [
    "c,d = add_sub(100,200)"
   ]
  },
  {
   "cell_type": "code",
   "execution_count": 25,
   "id": "d8379a43-4108-466f-bc0f-71941bbe5dd1",
   "metadata": {},
   "outputs": [
    {
     "name": "stdout",
     "output_type": "stream",
     "text": [
      "300 -100\n"
     ]
    }
   ],
   "source": [
    "print(c,d)"
   ]
  },
  {
   "cell_type": "code",
   "execution_count": 26,
   "id": "9b287a31-fbd9-42bc-9f38-e8f30c312d9a",
   "metadata": {},
   "outputs": [],
   "source": [
    "def add(a,b):\n",
    "    print(z)\n"
   ]
  },
  {
   "cell_type": "code",
   "execution_count": 27,
   "id": "ff00f46a-5d29-4604-a782-ea0d8327c39f",
   "metadata": {},
   "outputs": [
    {
     "ename": "NameError",
     "evalue": "name 'z' is not defined",
     "output_type": "error",
     "traceback": [
      "\u001b[31m---------------------------------------------------------------------------\u001b[39m",
      "\u001b[31mNameError\u001b[39m                                 Traceback (most recent call last)",
      "\u001b[36mCell\u001b[39m\u001b[36m \u001b[39m\u001b[32mIn[27]\u001b[39m\u001b[32m, line 1\u001b[39m\n\u001b[32m----> \u001b[39m\u001b[32m1\u001b[39m \u001b[43madd\u001b[49m\u001b[43m(\u001b[49m\u001b[32;43m10\u001b[39;49m\u001b[43m,\u001b[49m\u001b[32;43m20\u001b[39;49m\u001b[43m)\u001b[49m\n",
      "\u001b[36mCell\u001b[39m\u001b[36m \u001b[39m\u001b[32mIn[26]\u001b[39m\u001b[32m, line 2\u001b[39m, in \u001b[36madd\u001b[39m\u001b[34m(a, b)\u001b[39m\n\u001b[32m      1\u001b[39m \u001b[38;5;28;01mdef\u001b[39;00m \u001b[34madd\u001b[39m(a,b):\n\u001b[32m----> \u001b[39m\u001b[32m2\u001b[39m     \u001b[38;5;28mprint\u001b[39m(\u001b[43mz\u001b[49m)\n",
      "\u001b[31mNameError\u001b[39m: name 'z' is not defined"
     ]
    }
   ],
   "source": [
    "add(10,20)"
   ]
  },
  {
   "cell_type": "code",
   "execution_count": 28,
   "id": "842c0370-0377-4835-b8c8-8bd488de2a1d",
   "metadata": {},
   "outputs": [],
   "source": [
    "def add(a,b):\n",
    "    c = sub(a,b)\n",
    "    return c+b\n",
    "\n",
    "\n",
    "def sub(a,b):\n",
    "    return a-b\n"
   ]
  },
  {
   "cell_type": "code",
   "execution_count": 29,
   "id": "bcd2312f-a43a-4220-9a81-3f8282a256d8",
   "metadata": {},
   "outputs": [
    {
     "data": {
      "text/plain": [
       "100"
      ]
     },
     "execution_count": 29,
     "metadata": {},
     "output_type": "execute_result"
    }
   ],
   "source": [
    "add(100,200)"
   ]
  },
  {
   "cell_type": "code",
   "execution_count": 32,
   "id": "8fa2f7d7-dc09-41f3-ac96-70bf0c409e2d",
   "metadata": {},
   "outputs": [
    {
     "name": "stdout",
     "output_type": "stream",
     "text": [
      "10 20\n",
      "20 10\n",
      "10 20\n"
     ]
    }
   ],
   "source": [
    "def swap(a,b):\n",
    "    t = a\n",
    "    a = b\n",
    "    b = t\n",
    "    print(a,b)\n",
    "\n",
    "a,b = 10,20\n",
    "print(a,b)\n",
    "swap(a,b)\n",
    "print(a,b)"
   ]
  },
  {
   "cell_type": "code",
   "execution_count": 31,
   "id": "44dee3d2-03e1-4456-a3c9-8958b266b5a8",
   "metadata": {},
   "outputs": [
    {
     "name": "stdout",
     "output_type": "stream",
     "text": [
      "10 -10\n"
     ]
    }
   ],
   "source": [
    "def add(a,b):\n",
    "    return sub(a,b)+b\n",
    "\n",
    "def sub(a,b):\n",
    "    return a-b\n",
    "    \n",
    "c = add(10,20)\n",
    "d = sub(10,20)\n",
    "print(c,d)"
   ]
  },
  {
   "cell_type": "code",
   "execution_count": 48,
   "id": "582557a6-6002-4dde-9189-10a8267ef0f2",
   "metadata": {},
   "outputs": [
    {
     "name": "stdout",
     "output_type": "stream",
     "text": [
      "1200 50\n"
     ]
    }
   ],
   "source": [
    "def add_sub(a,b,/,*,p,q = 500):\n",
    "    c = a+b\n",
    "    d = p-q\n",
    "\n",
    "    return c,d\n",
    "\n",
    "c,d = add_sub(1000,200,q = 50,p = 100)\n",
    "print(c,d)"
   ]
  },
  {
   "cell_type": "code",
   "execution_count": null,
   "id": "2a480fde-9bbc-4e49-a3d3-3cc8ed39d30c",
   "metadata": {},
   "outputs": [],
   "source": []
  },
  {
   "cell_type": "code",
   "execution_count": 22,
   "id": "c5347ef7-df99-4381-9798-a5d7958aaf0c",
   "metadata": {},
   "outputs": [],
   "source": [
    "def add(a:int, b:int) -> int :\n",
    "    c = a+b\n",
    "    return c\n",
    "\n",
    "def add_sub(a,b,/,*,p,q=30):\n",
    "    c = a+b\n",
    "    d = p-q\n",
    "    return c,d\n",
    "\n",
    "def sub(a):\n",
    "    b = 200\n",
    "    c = a-b\n",
    "    print(c)"
   ]
  },
  {
   "cell_type": "code",
   "execution_count": 24,
   "id": "a00d2567-ca97-4280-8e9e-d4837f499492",
   "metadata": {},
   "outputs": [
    {
     "name": "stdout",
     "output_type": "stream",
     "text": [
      "30 50\n",
      "800\n",
      "100\n"
     ]
    }
   ],
   "source": [
    "n = 100\n",
    "c,d = add_sub(10,20,p=80)\n",
    "print(c,d)\n",
    "sub(1000)\n",
    "print(n)"
   ]
  },
  {
   "cell_type": "code",
   "execution_count": 25,
   "id": "5a37f688-4132-4741-a0b7-d6455d950bc2",
   "metadata": {},
   "outputs": [
    {
     "name": "stdout",
     "output_type": "stream",
     "text": [
      "<function add at 0x0000024BCCDE9C60> <class 'function'> 2524582943840\n"
     ]
    }
   ],
   "source": [
    "print(add,type(add),id(add))"
   ]
  },
  {
   "cell_type": "code",
   "execution_count": 5,
   "id": "6952b4c0-d413-455b-acdb-819145f1a71b",
   "metadata": {},
   "outputs": [
    {
     "name": "stdout",
     "output_type": "stream",
     "text": [
      "<function add at 0x000001D688B69940>\n"
     ]
    }
   ],
   "source": [
    "print(add)"
   ]
  },
  {
   "cell_type": "code",
   "execution_count": 6,
   "id": "d9a8e72f-4cf2-4a26-81d4-15b5c9e11685",
   "metadata": {},
   "outputs": [
    {
     "data": {
      "text/plain": [
       "10"
      ]
     },
     "execution_count": 6,
     "metadata": {},
     "output_type": "execute_result"
    }
   ],
   "source": [
    "add = 10\n",
    "add"
   ]
  },
  {
   "cell_type": "code",
   "execution_count": 3,
   "id": "84e2bf39-c3a8-44bd-a232-27da10f28786",
   "metadata": {},
   "outputs": [],
   "source": [
    "n = 1000"
   ]
  },
  {
   "cell_type": "code",
   "execution_count": 26,
   "id": "360bc7f1-05e2-4719-9222-34a72b06fcf9",
   "metadata": {},
   "outputs": [],
   "source": [
    "import math"
   ]
  },
  {
   "cell_type": "code",
   "execution_count": 27,
   "id": "cea7e21e-b3ab-416a-be75-562417d9ef8f",
   "metadata": {},
   "outputs": [
    {
     "data": {
      "text/plain": [
       "10"
      ]
     },
     "execution_count": 27,
     "metadata": {},
     "output_type": "execute_result"
    }
   ],
   "source": [
    "math.floor(10.6)"
   ]
  },
  {
   "cell_type": "code",
   "execution_count": 28,
   "id": "f631e6d3-b820-4889-85ae-83f0499a85fc",
   "metadata": {},
   "outputs": [
    {
     "data": {
      "text/plain": [
       "\u001b[31mSignature:\u001b[39m math.floor(x, /)\n",
       "\u001b[31mDocstring:\u001b[39m\n",
       "Return the floor of x as an Integral.\n",
       "\n",
       "This is the largest integer <= x.\n",
       "\u001b[31mType:\u001b[39m      builtin_function_or_method"
      ]
     },
     "metadata": {},
     "output_type": "display_data"
    }
   ],
   "source": [
    "math.floor?"
   ]
  },
  {
   "cell_type": "code",
   "execution_count": 29,
   "id": "01c26ad4-3d6d-4867-9342-ccb5ec918887",
   "metadata": {},
   "outputs": [],
   "source": [
    "def fn():\n",
    "    \"This is a demo Function for DocString\""
   ]
  },
  {
   "cell_type": "code",
   "execution_count": 30,
   "id": "83721eff-25f6-41d9-b3cf-17fc8c9f511c",
   "metadata": {},
   "outputs": [
    {
     "data": {
      "text/plain": [
       "'This is a demo Function for DocString'"
      ]
     },
     "execution_count": 30,
     "metadata": {},
     "output_type": "execute_result"
    }
   ],
   "source": [
    "fn.__doc__"
   ]
  },
  {
   "cell_type": "code",
   "execution_count": 31,
   "id": "2560267c-f5e6-4689-b8ab-93546e1a2920",
   "metadata": {},
   "outputs": [
    {
     "data": {
      "text/plain": [
       "\u001b[31mSignature:\u001b[39m fn()\n",
       "\u001b[31mDocstring:\u001b[39m This is a demo Function for DocString\n",
       "\u001b[31mFile:\u001b[39m      c:\\users\\abhis\\appdata\\local\\temp\\ipykernel_1504\\1412561012.py\n",
       "\u001b[31mType:\u001b[39m      function"
      ]
     },
     "metadata": {},
     "output_type": "display_data"
    }
   ],
   "source": [
    "fn?"
   ]
  },
  {
   "cell_type": "code",
   "execution_count": 32,
   "id": "f757bd8f-b3c9-49db-8d97-0d7ed209d02b",
   "metadata": {},
   "outputs": [
    {
     "data": {
      "text/plain": [
       "\u001b[31mSignature:\u001b[39m add(a: int, b: int) -> int\n",
       "\u001b[31mDocstring:\u001b[39m <no docstring>\n",
       "\u001b[31mFile:\u001b[39m      c:\\users\\abhis\\appdata\\local\\temp\\ipykernel_1504\\3554953447.py\n",
       "\u001b[31mType:\u001b[39m      function"
      ]
     },
     "metadata": {},
     "output_type": "display_data"
    }
   ],
   "source": [
    "add?"
   ]
  },
  {
   "cell_type": "code",
   "execution_count": 33,
   "id": "3c875a1a-ff3f-4944-9268-dfa2c1bff463",
   "metadata": {},
   "outputs": [],
   "source": [
    "def add(a,b):\n",
    "    return a+b\n",
    "def sub(a,b):\n",
    "    return a-b"
   ]
  },
  {
   "cell_type": "code",
   "execution_count": 34,
   "id": "68b91e52-ead9-4e67-853f-1baaf8ff3db0",
   "metadata": {},
   "outputs": [],
   "source": [
    "def cal(fn,a=10,b=20):\n",
    "    val = fn(a,b)\n",
    "    return val"
   ]
  },
  {
   "cell_type": "code",
   "execution_count": 38,
   "id": "fcfaa9fc-0a2d-4cb5-a269-834b1e61cb3f",
   "metadata": {},
   "outputs": [
    {
     "data": {
      "text/plain": [
       "200"
      ]
     },
     "execution_count": 38,
     "metadata": {},
     "output_type": "execute_result"
    }
   ],
   "source": [
    "cal(lambda a,b: a*b,20,10)"
   ]
  },
  {
   "cell_type": "code",
   "execution_count": 41,
   "id": "786b6d17-a5a3-43e3-8568-16149929b7bf",
   "metadata": {},
   "outputs": [],
   "source": [
    "sub = lambda a,b,c: a-b+c"
   ]
  },
  {
   "cell_type": "code",
   "execution_count": 43,
   "id": "3f0d8f74-67f8-4407-b5dd-5496e436358f",
   "metadata": {},
   "outputs": [
    {
     "data": {
      "text/plain": [
       "20"
      ]
     },
     "execution_count": 43,
     "metadata": {},
     "output_type": "execute_result"
    }
   ],
   "source": [
    "sub(10,20,30)"
   ]
  },
  {
   "cell_type": "code",
   "execution_count": 44,
   "id": "7ce21b0f-c0f6-4e10-a414-66277f0d7ca9",
   "metadata": {},
   "outputs": [
    {
     "data": {
      "text/plain": [
       "2.0"
      ]
     },
     "execution_count": 44,
     "metadata": {},
     "output_type": "execute_result"
    }
   ],
   "source": [
    "cal(lambda a,b: a/b,20,10)"
   ]
  },
  {
   "cell_type": "code",
   "execution_count": 45,
   "id": "bd5846bb-48e9-4038-a61f-adbf5979572a",
   "metadata": {},
   "outputs": [],
   "source": [
    "n = 1000"
   ]
  },
  {
   "cell_type": "code",
   "execution_count": 62,
   "id": "b73e5d58-c813-4831-8e8e-dc13c4fc3c8a",
   "metadata": {},
   "outputs": [],
   "source": [
    "# def fn():\n",
    "#     n = 100\n",
    "#     print(n)\n",
    "\n",
    "def fn():\n",
    "    global n\n",
    "    n = 100\n",
    "    # xx = 1000\n",
    "    print(n)"
   ]
  },
  {
   "cell_type": "code",
   "execution_count": 64,
   "id": "246063a8-fa6d-420e-ac3f-889715b4e100",
   "metadata": {},
   "outputs": [
    {
     "name": "stdout",
     "output_type": "stream",
     "text": [
      "100\n",
      "100\n"
     ]
    }
   ],
   "source": [
    "fn()\n",
    "print(n)\n",
    "# xx"
   ]
  },
  {
   "cell_type": "code",
   "execution_count": null,
   "id": "c657b1a0-27ed-4d7a-a983-39b1d62750b3",
   "metadata": {},
   "outputs": [],
   "source": []
  },
  {
   "cell_type": "code",
   "execution_count": 55,
   "id": "366233fc-885f-42e4-9776-f9e05a1a668f",
   "metadata": {},
   "outputs": [],
   "source": [
    "def fact(n):\n",
    "    if n==1:\n",
    "        return n\n",
    "    else:\n",
    "        return n*fact(n-1)"
   ]
  },
  {
   "cell_type": "code",
   "execution_count": 56,
   "id": "5747cfd1-bfce-4b3a-9ebe-6d2f32945bce",
   "metadata": {},
   "outputs": [
    {
     "data": {
      "text/plain": [
       "3628800"
      ]
     },
     "execution_count": 56,
     "metadata": {},
     "output_type": "execute_result"
    }
   ],
   "source": [
    "fact(10)"
   ]
  },
  {
   "cell_type": "code",
   "execution_count": null,
   "id": "13fb31f3-b701-49bc-9115-aef0a753488a",
   "metadata": {},
   "outputs": [],
   "source": []
  },
  {
   "cell_type": "code",
   "execution_count": 71,
   "id": "feeec8e9-cab1-4e32-9f83-8b69322de851",
   "metadata": {},
   "outputs": [],
   "source": [
    "def fn1():\n",
    "    print(\"Hello\")\n",
    "    def fn2():\n",
    "        print(\"In fn2\")\n",
    "\n",
    "    fn2()\n",
    "    print(\"Bye\")\n",
    "    return fn2"
   ]
  },
  {
   "cell_type": "code",
   "execution_count": 72,
   "id": "1eb742b8-a415-4a88-baa5-0c5a44a6ab92",
   "metadata": {},
   "outputs": [
    {
     "name": "stdout",
     "output_type": "stream",
     "text": [
      "Hello\n",
      "In fn2\n",
      "Bye\n",
      "In fn2\n"
     ]
    }
   ],
   "source": [
    "fn2 = fn1()\n",
    "fn2()"
   ]
  },
  {
   "cell_type": "code",
   "execution_count": 73,
   "id": "d641464c-c83f-4047-bf63-6928aa669bf1",
   "metadata": {},
   "outputs": [],
   "source": [
    "def count_digits(num : int) -> int:\n",
    "    return int(math.log10(num))+1"
   ]
  },
  {
   "cell_type": "code",
   "execution_count": 79,
   "id": "e1f4bef0-ad74-4783-b0e3-78ee2cb6fe8a",
   "metadata": {},
   "outputs": [
    {
     "data": {
      "text/plain": [
       "5"
      ]
     },
     "execution_count": 79,
     "metadata": {},
     "output_type": "execute_result"
    }
   ],
   "source": [
    "count_digits(12345)"
   ]
  },
  {
   "cell_type": "code",
   "execution_count": 74,
   "id": "6d651e9a-7a50-4259-a3d8-b2dae23a3508",
   "metadata": {},
   "outputs": [],
   "source": [
    "def isArmStrong(num: int) -> bool:\n",
    "    t = num\n",
    "    s = 0\n",
    "    nod = count_digits(num)\n",
    "    while t != 0:\n",
    "        rem = t%10\n",
    "        s += rem**nod\n",
    "\n",
    "        t = t//10\n",
    "    return s == num"
   ]
  },
  {
   "cell_type": "code",
   "execution_count": 77,
   "id": "a94ddc60-afd8-44a1-a7ac-fe1494a43f28",
   "metadata": {},
   "outputs": [
    {
     "data": {
      "text/plain": [
       "False"
      ]
     },
     "execution_count": 77,
     "metadata": {},
     "output_type": "execute_result"
    }
   ],
   "source": [
    "isArmStrong(16)"
   ]
  },
  {
   "cell_type": "code",
   "execution_count": 80,
   "id": "643e2ded-eaab-468f-8610-0c94a5245ddf",
   "metadata": {},
   "outputs": [],
   "source": [
    "def printAllArmStrong(l:int = 1,r:int = 1000) -> None:\n",
    "    i = l\n",
    "    while i <= r:\n",
    "        if isArmStrong(i):\n",
    "            print(i)\n",
    "        i += 1"
   ]
  },
  {
   "cell_type": "code",
   "execution_count": 81,
   "id": "02a264b3-daad-40c1-b511-97653ef43d4b",
   "metadata": {},
   "outputs": [
    {
     "name": "stdout",
     "output_type": "stream",
     "text": [
      "1\n",
      "2\n",
      "3\n",
      "4\n",
      "5\n",
      "6\n",
      "7\n",
      "8\n",
      "9\n",
      "153\n",
      "370\n",
      "371\n",
      "407\n"
     ]
    }
   ],
   "source": [
    "printAllArmStrong(1,1000)"
   ]
  },
  {
   "cell_type": "code",
   "execution_count": null,
   "id": "0c78e700-3305-4414-9f6c-1fa237d5337c",
   "metadata": {},
   "outputs": [],
   "source": []
  },
  {
   "cell_type": "code",
   "execution_count": null,
   "id": "82b3861f-dc41-486e-a76c-244a4729733a",
   "metadata": {},
   "outputs": [],
   "source": []
  },
  {
   "cell_type": "code",
   "execution_count": 121,
   "id": "69ee2cfc-cf34-4eb5-9b50-af0b4d07adec",
   "metadata": {},
   "outputs": [],
   "source": [
    "def fn(a,*args,c):\n",
    "    print(args,type(args))\n",
    "    print('a = ',a)"
   ]
  },
  {
   "cell_type": "code",
   "execution_count": 123,
   "id": "a1a9d17b-ef24-4b9d-acf8-62d94fa09750",
   "metadata": {},
   "outputs": [
    {
     "name": "stdout",
     "output_type": "stream",
     "text": [
      "(20, 30) <class 'tuple'>\n",
      "a =  10\n"
     ]
    }
   ],
   "source": [
    "fn(10,20,30,c = 40)"
   ]
  },
  {
   "cell_type": "code",
   "execution_count": 126,
   "id": "ccb04af9-205d-4d88-8f6f-e4f45a6e36bd",
   "metadata": {},
   "outputs": [],
   "source": [
    "def fn(c,**shub):\n",
    "    print(shub)\n",
    "    print('c =',c)"
   ]
  },
  {
   "cell_type": "code",
   "execution_count": 127,
   "id": "c9b0f6f3-1465-4e6a-8e6d-5ebec00f52c0",
   "metadata": {},
   "outputs": [
    {
     "name": "stdout",
     "output_type": "stream",
     "text": [
      "{'a': 100, 'b': 'Hello'}\n",
      "c = 400\n"
     ]
    }
   ],
   "source": [
    "fn(400, a = 100,b = 'Hello')"
   ]
  },
  {
   "cell_type": "code",
   "execution_count": 132,
   "id": "f45f5215-f2d0-4bf7-82f7-d115aede4a42",
   "metadata": {},
   "outputs": [],
   "source": [
    "def fn(a,b,*args,e,**kwargs):\n",
    "    print(a)\n",
    "    print(b)\n",
    "    print(args)\n",
    "    print(kwargs)"
   ]
  },
  {
   "cell_type": "code",
   "execution_count": 133,
   "id": "2d508424-3d2c-4f62-a971-ca689a919bc8",
   "metadata": {},
   "outputs": [
    {
     "name": "stdout",
     "output_type": "stream",
     "text": [
      "10\n",
      "20\n",
      "()\n",
      "{'c': 30, 'd': 40, 'f': 60}\n"
     ]
    }
   ],
   "source": [
    "fn(10,20,c = 30,d = 40,e = 50,f = 60)"
   ]
  },
  {
   "cell_type": "code",
   "execution_count": 24,
   "id": "6e62907e-4437-48cf-b13c-23bd1c0991d5",
   "metadata": {},
   "outputs": [],
   "source": [
    "z = 1000\n",
    "def fn_1():\n",
    "    x = 10\n",
    "    y = 20\n",
    "    z = 100\n",
    "    def fn_2():\n",
    "        nonlocal z,y\n",
    "        y = 2000\n",
    "        x = 30\n",
    "        w = 0\n",
    "        z = 200\n",
    "        print(x,y,z)\n",
    "    fn_2()\n",
    "    print(x,y,z)"
   ]
  },
  {
   "cell_type": "code",
   "execution_count": 25,
   "id": "4b48bbbb-d0c7-4a4a-8374-ec4f763dedf1",
   "metadata": {},
   "outputs": [
    {
     "name": "stdout",
     "output_type": "stream",
     "text": [
      "30 2000 200\n",
      "10 2000 200\n",
      "1000\n"
     ]
    }
   ],
   "source": [
    "fn_1()\n",
    "print(z)"
   ]
  },
  {
   "cell_type": "code",
   "execution_count": 33,
   "id": "7da68864-ed2a-4cec-bd2d-9be38f3e81ac",
   "metadata": {},
   "outputs": [
    {
     "name": "stdout",
     "output_type": "stream",
     "text": [
      "10\n"
     ]
    }
   ],
   "source": [
    "print(z)"
   ]
  },
  {
   "cell_type": "code",
   "execution_count": null,
   "id": "80564efd-3dbb-45d9-8adf-c41ad4be79fd",
   "metadata": {},
   "outputs": [],
   "source": []
  },
  {
   "cell_type": "code",
   "execution_count": 30,
   "id": "7b214f31-7ee7-42e5-9efa-b0d1a970d69d",
   "metadata": {},
   "outputs": [],
   "source": [
    "users = {\n",
    "    \"Shubham\":123,\n",
    "    \"Vani\":345\n",
    "}"
   ]
  },
  {
   "cell_type": "code",
   "execution_count": 31,
   "id": "66f72897-d364-49e0-a4d1-bcd524b0041e",
   "metadata": {},
   "outputs": [],
   "source": [
    "def printH():\n",
    "    print(\"Hello\")"
   ]
  },
  {
   "cell_type": "code",
   "execution_count": 32,
   "id": "fc839dc5-b258-4a14-b1e0-d9e39680f729",
   "metadata": {},
   "outputs": [
    {
     "name": "stdout",
     "output_type": "stream",
     "text": [
      "Hello\n"
     ]
    }
   ],
   "source": [
    "printH()"
   ]
  },
  {
   "cell_type": "code",
   "execution_count": 33,
   "id": "9c8380d9-c865-4dcd-9cfc-c9664adf7107",
   "metadata": {},
   "outputs": [],
   "source": [
    "def protectedH(username,password):\n",
    "    if username in users and users[username] == password:\n",
    "        printH()\n",
    "    else:\n",
    "        print(\"Wrong Username or password\")"
   ]
  },
  {
   "cell_type": "code",
   "execution_count": 35,
   "id": "83997aeb-8785-4004-b60a-71b349fd18d6",
   "metadata": {},
   "outputs": [
    {
     "name": "stdout",
     "output_type": "stream",
     "text": [
      "Hello\n"
     ]
    }
   ],
   "source": [
    "protectedH(\"Shubham\",123)"
   ]
  },
  {
   "cell_type": "code",
   "execution_count": 44,
   "id": "af46d6de-6ddc-4c16-9368-adf9d4d97960",
   "metadata": {},
   "outputs": [],
   "source": [
    "def add(a,b):\n",
    "    return a+b"
   ]
  },
  {
   "cell_type": "code",
   "execution_count": 45,
   "id": "5b156529-fb12-4384-ac62-0cf5326a7fcf",
   "metadata": {},
   "outputs": [
    {
     "data": {
      "text/plain": [
       "30"
      ]
     },
     "execution_count": 45,
     "metadata": {},
     "output_type": "execute_result"
    }
   ],
   "source": [
    "add(10,20)"
   ]
  },
  {
   "cell_type": "code",
   "execution_count": 46,
   "id": "9ad89e9e-4871-4b5e-8c0f-0f4546783256",
   "metadata": {},
   "outputs": [],
   "source": [
    "def protectedadd(username,password,*args,**kwargs):\n",
    "    if username in users and users[username] == password:\n",
    "        return add(*args,**kwargs)\n",
    "    else:\n",
    "        print(\"Wrong Username or password\")"
   ]
  },
  {
   "cell_type": "code",
   "execution_count": 48,
   "id": "c5809fb5-b1ef-4808-a0b4-8d4faad048c5",
   "metadata": {},
   "outputs": [
    {
     "data": {
      "text/plain": [
       "70"
      ]
     },
     "execution_count": 48,
     "metadata": {},
     "output_type": "execute_result"
    }
   ],
   "source": [
    "protectedadd(\"Shubham\",123,20,50)"
   ]
  },
  {
   "cell_type": "code",
   "execution_count": 53,
   "id": "5608431f-9e3a-4598-aa7c-56984ff92afa",
   "metadata": {},
   "outputs": [],
   "source": [
    "def authenticate(fn):\n",
    "    def wrapper(username,password,*args,**kwargs):\n",
    "        if username in users and users[username] == password:\n",
    "            return fn(*args,**kwargs)\n",
    "        else:\n",
    "            print(\"Wrong Username or password\")\n",
    "    return wrapper\n",
    "    \n",
    "add = authenticate(add)\n",
    "printH = authenticate(printH)"
   ]
  },
  {
   "cell_type": "code",
   "execution_count": 55,
   "id": "41a567ad-ee5a-4967-9f0e-51227d99a9f2",
   "metadata": {},
   "outputs": [
    {
     "name": "stdout",
     "output_type": "stream",
     "text": [
      "Wrong Username or password\n"
     ]
    }
   ],
   "source": [
    "printH('Shubham',1234)"
   ]
  },
  {
   "cell_type": "code",
   "execution_count": 52,
   "id": "ae254d87-8930-4438-b6c8-5a78bc7648fb",
   "metadata": {},
   "outputs": [
    {
     "name": "stdout",
     "output_type": "stream",
     "text": [
      "Wrong Username or password\n"
     ]
    }
   ],
   "source": [
    "add(\"Shubham\",123,100,200)"
   ]
  },
  {
   "cell_type": "code",
   "execution_count": 56,
   "id": "c1d15b3c-3010-4224-ada6-76e52cbfc918",
   "metadata": {},
   "outputs": [],
   "source": [
    "@authenticate\n",
    "def prod(a,b,c):\n",
    "    return a*b*c\n",
    "\n",
    "# def prod(a,b,c):\n",
    "#     return a*b*c\n",
    "\n",
    "# prod = authenticate(prod)"
   ]
  },
  {
   "cell_type": "code",
   "execution_count": 57,
   "id": "50a67c03-d5fb-4838-b7df-e72a5e5472eb",
   "metadata": {},
   "outputs": [
    {
     "data": {
      "text/plain": [
       "6000"
      ]
     },
     "execution_count": 57,
     "metadata": {},
     "output_type": "execute_result"
    }
   ],
   "source": [
    "prod(\"Shubham\",123,10,20,30)"
   ]
  },
  {
   "cell_type": "code",
   "execution_count": null,
   "id": "4a4b8d05-e768-41f3-af68-f65a4db52d9e",
   "metadata": {},
   "outputs": [],
   "source": []
  },
  {
   "cell_type": "code",
   "execution_count": 61,
   "id": "dbe7c525-390a-4ead-95f0-82287c00819a",
   "metadata": {},
   "outputs": [],
   "source": [
    "r = iter(range(10))"
   ]
  },
  {
   "cell_type": "code",
   "execution_count": 62,
   "id": "28f9de93-e817-453d-bed6-6f18f91fe58e",
   "metadata": {},
   "outputs": [
    {
     "name": "stdout",
     "output_type": "stream",
     "text": [
      "<range_iterator object at 0x00000170C61E98D0> <class 'range_iterator'>\n"
     ]
    }
   ],
   "source": [
    "print(r,type(r))"
   ]
  },
  {
   "cell_type": "code",
   "execution_count": 73,
   "id": "7d1916b0-408f-4cd9-9614-3c5c5528173b",
   "metadata": {},
   "outputs": [
    {
     "ename": "StopIteration",
     "evalue": "",
     "output_type": "error",
     "traceback": [
      "\u001b[31m---------------------------------------------------------------------------\u001b[39m",
      "\u001b[31mStopIteration\u001b[39m                             Traceback (most recent call last)",
      "\u001b[36mCell\u001b[39m\u001b[36m \u001b[39m\u001b[32mIn[73]\u001b[39m\u001b[32m, line 1\u001b[39m\n\u001b[32m----> \u001b[39m\u001b[32m1\u001b[39m \u001b[38;5;28;43mnext\u001b[39;49m\u001b[43m(\u001b[49m\u001b[43mr\u001b[49m\u001b[43m)\u001b[49m\n",
      "\u001b[31mStopIteration\u001b[39m: "
     ]
    }
   ],
   "source": [
    "next(r)"
   ]
  },
  {
   "cell_type": "code",
   "execution_count": null,
   "id": "c659453f-8899-4563-995c-3c0365e80296",
   "metadata": {},
   "outputs": [],
   "source": []
  },
  {
   "cell_type": "code",
   "execution_count": 81,
   "id": "f2e5f558-7d35-4ed0-a194-9069914a6fc0",
   "metadata": {},
   "outputs": [],
   "source": [
    "def myRange(start,stop,step):\n",
    "    i = start\n",
    "    while i < stop:\n",
    "        yield i\n",
    "        i += step"
   ]
  },
  {
   "cell_type": "code",
   "execution_count": 82,
   "id": "3c8d0de3-855c-4a93-9360-dbe2954f74d4",
   "metadata": {},
   "outputs": [],
   "source": [
    "mr = myRange(1,11,2)"
   ]
  },
  {
   "cell_type": "code",
   "execution_count": 88,
   "id": "55ba0dba-9212-4aff-946b-e823d094cee3",
   "metadata": {},
   "outputs": [
    {
     "ename": "StopIteration",
     "evalue": "",
     "output_type": "error",
     "traceback": [
      "\u001b[31m---------------------------------------------------------------------------\u001b[39m",
      "\u001b[31mStopIteration\u001b[39m                             Traceback (most recent call last)",
      "\u001b[36mCell\u001b[39m\u001b[36m \u001b[39m\u001b[32mIn[88]\u001b[39m\u001b[32m, line 1\u001b[39m\n\u001b[32m----> \u001b[39m\u001b[32m1\u001b[39m \u001b[38;5;28;43mnext\u001b[39;49m\u001b[43m(\u001b[49m\u001b[43mmr\u001b[49m\u001b[43m)\u001b[49m\n",
      "\u001b[31mStopIteration\u001b[39m: "
     ]
    }
   ],
   "source": [
    "next(mr)"
   ]
  },
  {
   "cell_type": "code",
   "execution_count": 89,
   "id": "a8f2fa74-8f0c-4053-b870-01afdec45aab",
   "metadata": {},
   "outputs": [
    {
     "name": "stdout",
     "output_type": "stream",
     "text": [
      "1\n",
      "3\n",
      "5\n",
      "7\n",
      "9\n"
     ]
    }
   ],
   "source": [
    "for i in myRange(1,11,2):\n",
    "    print(i)"
   ]
  },
  {
   "cell_type": "code",
   "execution_count": 90,
   "id": "f6c98f7a-7580-41ac-8323-a5f1cef1ffcd",
   "metadata": {},
   "outputs": [],
   "source": [
    "def myRangePow(pow,start,stop,step):\n",
    "    i = start\n",
    "    while i < stop:\n",
    "        yield i**pow\n",
    "        i += step"
   ]
  },
  {
   "cell_type": "code",
   "execution_count": 91,
   "id": "db5ccfa3-a3f3-4a33-a30a-d3055a9edd43",
   "metadata": {},
   "outputs": [
    {
     "name": "stdout",
     "output_type": "stream",
     "text": [
      "1\n",
      "27\n",
      "125\n",
      "343\n",
      "729\n"
     ]
    }
   ],
   "source": [
    "for i in myRangePow(3,1,11,2):\n",
    "    print(i)"
   ]
  },
  {
   "cell_type": "code",
   "execution_count": 97,
   "id": "99193b4d-b8f2-4a74-b47b-67313c670f92",
   "metadata": {},
   "outputs": [
    {
     "name": "stdout",
     "output_type": "stream",
     "text": [
      "<generator object <genexpr> at 0x00000170C6795BE0> <class 'generator'>\n",
      "0\n",
      "1\n",
      "8\n",
      "27\n",
      "64\n",
      "125\n",
      "216\n",
      "343\n",
      "512\n",
      "729\n"
     ]
    }
   ],
   "source": [
    "mrp = (i**3 for i in range(10))\n",
    "print(mrp,type(mrp))\n",
    "for i in mrp:\n",
    "    print(i)"
   ]
  },
  {
   "cell_type": "markdown",
   "id": "f816a643-4495-4585-89e1-9a3f1e08f3db",
   "metadata": {},
   "source": [
    "## Various Functions\n",
    "- abs\n",
    "- all\n",
    "- dir\n",
    "- divmod\n",
    "- enumerate\n",
    "- filter\n",
    "- isinstance\n",
    "- map\n",
    "- reduce -- in python3 from functools import reduce\n",
    "- sorted"
   ]
  },
  {
   "cell_type": "code",
   "execution_count": 94,
   "id": "b76b0d1a-5055-4739-aed5-a43901256f11",
   "metadata": {},
   "outputs": [
    {
     "data": {
      "text/plain": [
       "10"
      ]
     },
     "execution_count": 94,
     "metadata": {},
     "output_type": "execute_result"
    }
   ],
   "source": [
    "abs(-10)"
   ]
  },
  {
   "cell_type": "code",
   "execution_count": 95,
   "id": "9e47fc61-3a6c-442e-bc45-3aed9df9e018",
   "metadata": {},
   "outputs": [
    {
     "data": {
      "text/plain": [
       "True"
      ]
     },
     "execution_count": 95,
     "metadata": {},
     "output_type": "execute_result"
    }
   ],
   "source": [
    "all([1,2,3,True])"
   ]
  },
  {
   "cell_type": "code",
   "execution_count": 100,
   "id": "e6b97005-7a43-48ec-91e0-3210d907c7b1",
   "metadata": {},
   "outputs": [
    {
     "data": {
      "text/plain": [
       "(3, 1)"
      ]
     },
     "execution_count": 100,
     "metadata": {},
     "output_type": "execute_result"
    }
   ],
   "source": [
    "divmod(10,3)"
   ]
  },
  {
   "cell_type": "code",
   "execution_count": 104,
   "id": "ebaf64b8-92a9-4364-b31d-0b7093bffa14",
   "metadata": {},
   "outputs": [
    {
     "name": "stdout",
     "output_type": "stream",
     "text": [
      "1 10\n",
      "2 20\n",
      "3 30\n"
     ]
    }
   ],
   "source": [
    "for idx,val in enumerate([10,20,30],start=1):\n",
    "    print(idx,val)"
   ]
  },
  {
   "cell_type": "code",
   "execution_count": 108,
   "id": "ae6a9209-55e5-423b-b48a-a77c7bb76716",
   "metadata": {},
   "outputs": [],
   "source": [
    "l = [i for i in range(1,11)]"
   ]
  },
  {
   "cell_type": "code",
   "execution_count": 109,
   "id": "605ecee3-a751-45f3-b62a-cc0430be6839",
   "metadata": {},
   "outputs": [
    {
     "name": "stdout",
     "output_type": "stream",
     "text": [
      "2\n",
      "4\n",
      "6\n",
      "8\n",
      "10\n"
     ]
    }
   ],
   "source": [
    "for i in filter(lambda x:x%2==0,l):\n",
    "    print(i)"
   ]
  },
  {
   "cell_type": "code",
   "execution_count": 112,
   "id": "be397f8a-0f24-4fbd-9f38-9bdc09a7faca",
   "metadata": {},
   "outputs": [
    {
     "name": "stdout",
     "output_type": "stream",
     "text": [
      "False\n"
     ]
    }
   ],
   "source": [
    "a = 10\n",
    "print(isinstance(a,float))"
   ]
  },
  {
   "cell_type": "code",
   "execution_count": 114,
   "id": "2bd0b53d-e0bc-4e9d-b27f-124f45ca89c6",
   "metadata": {},
   "outputs": [
    {
     "name": "stdout",
     "output_type": "stream",
     "text": [
      "1\n",
      "4\n",
      "9\n",
      "16\n",
      "25\n",
      "36\n",
      "49\n",
      "64\n",
      "81\n",
      "100\n"
     ]
    }
   ],
   "source": [
    "for i in map(lambda x:x**2,l):\n",
    "    print(i)"
   ]
  },
  {
   "cell_type": "code",
   "execution_count": 115,
   "id": "cb1fe44f-c201-4765-9b47-5d224395efd4",
   "metadata": {},
   "outputs": [],
   "source": [
    "from functools import reduce"
   ]
  },
  {
   "cell_type": "code",
   "execution_count": 116,
   "id": "68876ea3-2266-4223-8ca8-af93e981411c",
   "metadata": {},
   "outputs": [
    {
     "data": {
      "text/plain": [
       "3628800"
      ]
     },
     "execution_count": 116,
     "metadata": {},
     "output_type": "execute_result"
    }
   ],
   "source": [
    "reduce(lambda x,y : x*y, l)"
   ]
  },
  {
   "cell_type": "code",
   "execution_count": 118,
   "id": "53be404e-3eb0-4596-8c3b-178278b58d96",
   "metadata": {},
   "outputs": [
    {
     "data": {
      "text/plain": [
       "10"
      ]
     },
     "execution_count": 118,
     "metadata": {},
     "output_type": "execute_result"
    }
   ],
   "source": [
    "reduce(lambda x,y : x if x>y else y, l)"
   ]
  },
  {
   "cell_type": "code",
   "execution_count": null,
   "id": "d21ca7d0-fe40-4939-b97d-1cb73f0678e6",
   "metadata": {},
   "outputs": [],
   "source": []
  },
  {
   "cell_type": "code",
   "execution_count": null,
   "id": "0d46c0f9-6056-49d1-bde5-aeaa173620ae",
   "metadata": {},
   "outputs": [],
   "source": []
  }
 ],
 "metadata": {
  "kernelspec": {
   "display_name": "Python 3 (ipykernel)",
   "language": "python",
   "name": "python3"
  },
  "language_info": {
   "codemirror_mode": {
    "name": "ipython",
    "version": 3
   },
   "file_extension": ".py",
   "mimetype": "text/x-python",
   "name": "python",
   "nbconvert_exporter": "python",
   "pygments_lexer": "ipython3",
   "version": "3.12.9"
  }
 },
 "nbformat": 4,
 "nbformat_minor": 5
}
