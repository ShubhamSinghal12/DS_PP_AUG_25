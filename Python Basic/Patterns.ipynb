{
 "cells": [
  {
   "cell_type": "code",
   "execution_count": 6,
   "id": "30f0e6fb-9c3d-4e47-8daf-79575637a6bf",
   "metadata": {},
   "outputs": [
    {
     "name": "stdout",
     "output_type": "stream",
     "text": [
      "* * * * * \n",
      "* * * * * \n",
      "* * * * * \n",
      "* * * * * \n",
      "* * * * * \n"
     ]
    }
   ],
   "source": [
    "n = 5\n",
    "\n",
    "row = 1\n",
    "while row <= n:\n",
    "    cst = 1\n",
    "    while cst<= n:\n",
    "        print('*',end = ' ')\n",
    "        cst += 1\n",
    "    \n",
    "    print()\n",
    "    row += 1\n"
   ]
  },
  {
   "cell_type": "code",
   "execution_count": 9,
   "id": "76d2ea5b-eff4-4832-bcd2-d4f3ee2e8c73",
   "metadata": {},
   "outputs": [
    {
     "name": "stdout",
     "output_type": "stream",
     "text": [
      "* \n",
      "* * \n",
      "* * * \n",
      "* * * * \n",
      "* * * * * \n"
     ]
    }
   ],
   "source": [
    "n = 5\n",
    "\n",
    "row = 1\n",
    "nst = 1\n",
    "\n",
    "while row <= n:\n",
    "    #Work\n",
    "\n",
    "    cst = 1\n",
    "    while cst <= nst:\n",
    "        print('*',end = ' ')\n",
    "        cst += 1\n",
    "\n",
    "    nst += 1\n",
    "    row += 1\n",
    "    print()"
   ]
  },
  {
   "cell_type": "code",
   "execution_count": 10,
   "id": "e2b68bc6-4353-4eb5-bbdd-750b27532c46",
   "metadata": {},
   "outputs": [
    {
     "name": "stdout",
     "output_type": "stream",
     "text": [
      "* * * * * \n",
      "* * * * \n",
      "* * * \n",
      "* * \n",
      "* \n"
     ]
    }
   ],
   "source": [
    "n = 5\n",
    "\n",
    "row = 1\n",
    "nst = n\n",
    "\n",
    "while row <= n:\n",
    "    #Work\n",
    "\n",
    "    cst = 1\n",
    "    while cst <= nst:\n",
    "        print('*',end = ' ')\n",
    "        cst += 1\n",
    "\n",
    "    nst -= 1\n",
    "    row += 1\n",
    "    print()"
   ]
  },
  {
   "cell_type": "code",
   "execution_count": 11,
   "id": "60580a96-a635-4f68-b0a2-bc478501ed0c",
   "metadata": {},
   "outputs": [
    {
     "name": "stdout",
     "output_type": "stream",
     "text": [
      "          * \n",
      "        * * \n",
      "      * * * \n",
      "    * * * * \n",
      "  * * * * * \n",
      "* * * * * * \n"
     ]
    }
   ],
   "source": [
    "n = 6\n",
    "\n",
    "row = 1\n",
    "nsp = n-1\n",
    "nst = 1\n",
    "\n",
    "while row <= n:\n",
    "    csp = 1\n",
    "    while csp <= nsp:\n",
    "        print(\" \",end= \" \")\n",
    "        csp += 1\n",
    "\n",
    "    cst = 1\n",
    "    while cst <= nst:\n",
    "        print(\"*\",end = \" \")\n",
    "        cst += 1\n",
    "\n",
    "    nsp -= 1\n",
    "    nst += 1\n",
    "    row += 1\n",
    "    print()"
   ]
  },
  {
   "cell_type": "code",
   "execution_count": 12,
   "id": "e158fcb7-35ac-448d-b47d-6f4af376895f",
   "metadata": {},
   "outputs": [
    {
     "name": "stdout",
     "output_type": "stream",
     "text": [
      "* * * * * * \n",
      "  * * * * * \n",
      "    * * * * \n",
      "      * * * \n",
      "        * * \n",
      "          * \n"
     ]
    }
   ],
   "source": [
    "n = 6\n",
    "\n",
    "row = 1\n",
    "nsp = 0\n",
    "nst = n\n",
    "\n",
    "while row <= n:\n",
    "    csp = 1\n",
    "    while csp <= nsp:\n",
    "        print(\" \",end= \" \")\n",
    "        csp += 1\n",
    "\n",
    "    cst = 1\n",
    "    while cst <= nst:\n",
    "        print(\"*\",end = \" \")\n",
    "        cst += 1\n",
    "\n",
    "    nsp += 1\n",
    "    nst -= 1\n",
    "    row += 1\n",
    "    print()"
   ]
  },
  {
   "cell_type": "code",
   "execution_count": 17,
   "id": "a46cce00-0587-4388-92d5-ad31598ec0ed",
   "metadata": {},
   "outputs": [
    {
     "name": "stdout",
     "output_type": "stream",
     "text": [
      "* * * * * * \n",
      "    * * * * * \n",
      "        * * * * \n",
      "            * * * \n",
      "                * * \n",
      "                    * \n"
     ]
    }
   ],
   "source": [
    "n = 6\n",
    "\n",
    "row = 1\n",
    "nsp = 0\n",
    "nst = n\n",
    "\n",
    "while row <= n:\n",
    "    csp = 1\n",
    "    while csp <= nsp:\n",
    "        print(\" \",end= \" \")\n",
    "        csp += 1\n",
    "\n",
    "    cst = 1\n",
    "    while cst <= nst:\n",
    "        print(\"*\",end = \" \")\n",
    "        cst += 1\n",
    "\n",
    "    nsp += 2\n",
    "    nst -= 1\n",
    "    row += 1\n",
    "    print()"
   ]
  },
  {
   "cell_type": "code",
   "execution_count": 18,
   "id": "01a4c193-a217-41a7-91c7-70d5fec7ebae",
   "metadata": {},
   "outputs": [
    {
     "name": "stdout",
     "output_type": "stream",
     "text": [
      "          * \n",
      "        * * * \n",
      "      * * * * * \n",
      "    * * * * * * * \n",
      "  * * * * * * * * * \n",
      "* * * * * * * * * * * \n"
     ]
    }
   ],
   "source": [
    "n = 6\n",
    "\n",
    "row = 1\n",
    "nsp = n-1\n",
    "nst = 1\n",
    "\n",
    "while row <= n:\n",
    "    csp = 1\n",
    "    while csp <= nsp:\n",
    "        print(\" \",end= \" \")\n",
    "        csp += 1\n",
    "\n",
    "    cst = 1\n",
    "    while cst <= nst:\n",
    "        print(\"*\",end = \" \")\n",
    "        cst += 1\n",
    "\n",
    "    nsp -= 1\n",
    "    nst += 2\n",
    "    row += 1\n",
    "    print()"
   ]
  },
  {
   "cell_type": "code",
   "execution_count": 19,
   "id": "ba5460fb-3bbd-444a-b21c-c83a18e695e6",
   "metadata": {},
   "outputs": [
    {
     "name": "stdout",
     "output_type": "stream",
     "text": [
      "* * * * * * * * * * * \n",
      "  * * * * * * * * * \n",
      "    * * * * * * * \n",
      "      * * * * * \n",
      "        * * * \n",
      "          * \n"
     ]
    }
   ],
   "source": [
    "n = 6\n",
    "\n",
    "row = 1\n",
    "nsp = 0\n",
    "nst = 2*n-1\n",
    "\n",
    "while row <= n:\n",
    "    csp = 1\n",
    "    while csp <= nsp:\n",
    "        print(\" \",end= \" \")\n",
    "        csp += 1\n",
    "\n",
    "    cst = 1\n",
    "    while cst <= nst:\n",
    "        print(\"*\",end = \" \")\n",
    "        cst += 1\n",
    "\n",
    "    nsp += 1\n",
    "    nst -= 2\n",
    "    row += 1\n",
    "    print()"
   ]
  },
  {
   "cell_type": "code",
   "execution_count": 21,
   "id": "426bd042-46aa-4d3b-9d7f-9622fa6c9418",
   "metadata": {},
   "outputs": [
    {
     "name": "stdout",
     "output_type": "stream",
     "text": [
      "          * \n",
      "        *   * \n",
      "      *   *   * \n",
      "    *   *   *   * \n",
      "  *   *   *   *   * \n",
      "*   *   *   *   *   * \n"
     ]
    }
   ],
   "source": [
    "n = 6\n",
    "\n",
    "row = 1\n",
    "nsp = n-1\n",
    "nst = 1\n",
    "\n",
    "while row <= n:\n",
    "    csp = 1\n",
    "    while csp <= nsp:\n",
    "        print(\" \",end= \" \")\n",
    "        csp += 1\n",
    "\n",
    "    cst = 1\n",
    "    while cst <= nst:\n",
    "        if cst%2 == 0:\n",
    "            print(\" \",end=\" \")\n",
    "        else:\n",
    "            print(\"*\",end = \" \")\n",
    "        cst += 1\n",
    "\n",
    "    nsp -= 1\n",
    "    nst += 2\n",
    "    row += 1\n",
    "    print()"
   ]
  },
  {
   "cell_type": "code",
   "execution_count": 22,
   "id": "ba934fac-e9eb-413c-9957-f65707cb9c2c",
   "metadata": {},
   "outputs": [
    {
     "name": "stdout",
     "output_type": "stream",
     "text": [
      "          * \n",
      "        * ! * \n",
      "      * ! * ! * \n",
      "    * ! * ! * ! * \n",
      "  * ! * ! * ! * ! * \n",
      "* ! * ! * ! * ! * ! * \n"
     ]
    }
   ],
   "source": [
    "n = 6\n",
    "\n",
    "row = 1\n",
    "nsp = n-1\n",
    "nst = 1\n",
    "\n",
    "while row <= n:\n",
    "    csp = 1\n",
    "    while csp <= nsp:\n",
    "        print(\" \",end= \" \")\n",
    "        csp += 1\n",
    "\n",
    "    cst = 1\n",
    "    while cst <= nst:\n",
    "        if cst%2 == 0:\n",
    "            print(\"!\",end=\" \")\n",
    "        else:\n",
    "            print(\"*\",end = \" \")\n",
    "        cst += 1\n",
    "\n",
    "    nsp -= 1\n",
    "    nst += 2\n",
    "    row += 1\n",
    "    print()"
   ]
  },
  {
   "cell_type": "code",
   "execution_count": 24,
   "id": "9fc9bb00-86d2-47fa-8e41-d7bb8eb8ee5b",
   "metadata": {},
   "outputs": [
    {
     "name": "stdout",
     "output_type": "stream",
     "text": [
      "* * * * * \n",
      "*       * \n",
      "*       * \n",
      "*       * \n",
      "* * * * * \n"
     ]
    }
   ],
   "source": [
    "n = 5\n",
    "\n",
    "row = 1\n",
    "while row <= n:\n",
    "    cst = 1\n",
    "    while cst<= n:\n",
    "        if cst == 1 or cst == n or row == 1 or row == n:\n",
    "            print('*',end = ' ')\n",
    "        else:\n",
    "            print(\" \",end= \" \")\n",
    "        cst += 1\n",
    "    \n",
    "    print()\n",
    "    row += 1"
   ]
  },
  {
   "cell_type": "code",
   "execution_count": 25,
   "id": "5a37d0a8-b324-4d98-b924-9bf99c458a28",
   "metadata": {},
   "outputs": [
    {
     "name": "stdout",
     "output_type": "stream",
     "text": [
      "* \n",
      "* * \n",
      "* * * \n",
      "* * * * \n",
      "* * * * * \n",
      "* * * * * * \n",
      "* * * * * \n",
      "* * * * \n",
      "* * * \n",
      "* * \n",
      "* \n"
     ]
    }
   ],
   "source": [
    "n = 6\n",
    "\n",
    "nst = 1\n",
    "row = 1\n",
    "while row <= 2*n-1:\n",
    "    cst = 1\n",
    "    while cst <= nst:\n",
    "        print(\"*\",end =\" \")\n",
    "        cst += 1\n",
    "\n",
    "    if row < n:\n",
    "        nst += 1\n",
    "    else:\n",
    "        nst -= 1\n",
    "\n",
    "    row += 1\n",
    "    print()"
   ]
  },
  {
   "cell_type": "code",
   "execution_count": 27,
   "id": "2b04fd24-3b02-4fde-a46a-aceb2a9e4e10",
   "metadata": {},
   "outputs": [
    {
     "name": "stdout",
     "output_type": "stream",
     "text": [
      "          * \n",
      "        * * \n",
      "      * * * \n",
      "    * * * * \n",
      "  * * * * * \n",
      "* * * * * * \n",
      "  * * * * * \n",
      "    * * * * \n",
      "      * * * \n",
      "        * * \n",
      "          * \n"
     ]
    }
   ],
   "source": [
    "n = 6\n",
    "\n",
    "nst = 1\n",
    "row = 1\n",
    "nsp = n-1\n",
    "\n",
    "while row <= 2*n-1:\n",
    "\n",
    "    csp  =1\n",
    "    while csp <= nsp:\n",
    "        print(\" \",end= \" \")\n",
    "        csp += 1\n",
    "    \n",
    "    cst = 1\n",
    "    while cst <= nst:\n",
    "        print(\"*\",end =\" \")\n",
    "        cst += 1\n",
    "\n",
    "    if row < n:\n",
    "        nst += 1\n",
    "        nsp -= 1\n",
    "    else:\n",
    "        nst -= 1\n",
    "        nsp += 1\n",
    "\n",
    "    row += 1\n",
    "    print()"
   ]
  },
  {
   "cell_type": "code",
   "execution_count": 5,
   "id": "e80f2867-cd82-4537-b77b-17511df8ef9e",
   "metadata": {},
   "outputs": [
    {
     "name": "stdin",
     "output_type": "stream",
     "text": [
      " 10\n"
     ]
    },
    {
     "name": "stdout",
     "output_type": "stream",
     "text": [
      "* * * * * * * * * * \n",
      "    * * * * * * * * * \n",
      "        * * * * * * * * \n",
      "            * * * * * * * \n",
      "                * * * * * * \n",
      "                    * * * * * \n",
      "                        * * * * \n",
      "                            * * * \n",
      "                                * * \n",
      "                                    * \n",
      "                                * * \n",
      "                            * * * \n",
      "                        * * * * \n",
      "                    * * * * * \n",
      "                * * * * * * \n",
      "            * * * * * * * \n",
      "        * * * * * * * * \n",
      "    * * * * * * * * * \n",
      "* * * * * * * * * * \n"
     ]
    }
   ],
   "source": [
    "n = int(input())\n",
    "\n",
    "row = 1\n",
    "nsp = 0\n",
    "nst = n\n",
    "\n",
    "while row <= 2*n-1:\n",
    "\n",
    "    csp = 1\n",
    "    while csp <= nsp:\n",
    "        print(\" \",end= \" \")\n",
    "        csp += 1\n",
    "\n",
    "    cst = 1\n",
    "    while cst <= nst:\n",
    "        print(\"*\",end = \" \")\n",
    "        cst += 1\n",
    "\n",
    "    if row < n:\n",
    "        nst -= 1\n",
    "        nsp += 2\n",
    "    else:\n",
    "        nst += 1\n",
    "        nsp -= 2\n",
    "    \n",
    "    row += 1\n",
    "    print()"
   ]
  },
  {
   "cell_type": "code",
   "execution_count": 9,
   "id": "e3470e63-b0b6-4d0d-97cc-aab0f33f563a",
   "metadata": {},
   "outputs": [
    {
     "name": "stdin",
     "output_type": "stream",
     "text": [
      " 5\n"
     ]
    },
    {
     "name": "stdout",
     "output_type": "stream",
     "text": [
      "        * * * * * \n",
      "      * * * * \n",
      "    * * * \n",
      "  * * \n",
      "* \n",
      "  * * \n",
      "    * * * \n",
      "      * * * * \n",
      "        * * * * * \n"
     ]
    }
   ],
   "source": [
    "n = int(input())\n",
    "\n",
    "row = 1\n",
    "nsp = n-1\n",
    "nst = n\n",
    "\n",
    "while row <= 2*n-1:\n",
    "\n",
    "    # csp = 1\n",
    "    # while csp <= nsp:\n",
    "    #     print(\" \",end= \" \")\n",
    "    #     csp += 1\n",
    "\n",
    "    print(\"  \"*nsp,end=\"\")\n",
    "\n",
    "    # cst = 1\n",
    "    # while cst <= nst:\n",
    "    #     print(\"*\",end = \" \")\n",
    "    #     cst += 1\n",
    "\n",
    "    print(\"* \"*nst,end=\"\")\n",
    "\n",
    "    if row < n:\n",
    "        nst -= 1\n",
    "        nsp -= 1\n",
    "    else:\n",
    "        nst += 1\n",
    "        nsp += 1\n",
    "    \n",
    "    row += 1\n",
    "    print()"
   ]
  },
  {
   "cell_type": "code",
   "execution_count": 10,
   "id": "93364695-b73a-425f-abab-5cde242a7802",
   "metadata": {},
   "outputs": [
    {
     "name": "stdout",
     "output_type": "stream",
     "text": [
      "      * \n",
      "    * * * \n",
      "  * * * * * \n",
      "* * * * * * * \n",
      "  * * * * * \n",
      "    * * * \n",
      "      * \n"
     ]
    }
   ],
   "source": [
    "n = 7\n",
    "\n",
    "nst = 1\n",
    "nsp = n//2\n",
    "row = 1\n",
    "\n",
    "while row <= n:\n",
    "    csp = 1\n",
    "    while csp <= nsp:\n",
    "        print(\" \",end= \" \")\n",
    "        csp += 1\n",
    "\n",
    "    cst = 1\n",
    "    while cst <= nst:\n",
    "        print(\"*\",end= \" \")\n",
    "        cst += 1\n",
    "\n",
    "    if row <= n//2:\n",
    "        nst += 2\n",
    "        nsp -= 1\n",
    "    else:\n",
    "        nst -= 2\n",
    "        nsp += 1\n",
    "    row += 1\n",
    "    print()"
   ]
  },
  {
   "cell_type": "code",
   "execution_count": 14,
   "id": "4cf503d7-ff0c-411f-9493-7c1677fa4fb4",
   "metadata": {},
   "outputs": [
    {
     "name": "stdout",
     "output_type": "stream",
     "text": [
      "* * * * * * * \n",
      "* * *   * * * \n",
      "* *       * * \n",
      "*           * \n",
      "* *       * * \n",
      "* * *   * * * \n",
      "* * * * * * * \n"
     ]
    }
   ],
   "source": [
    "n = 7\n",
    "\n",
    "nsp = -1\n",
    "nst = n//2+1\n",
    "row = 1\n",
    "\n",
    "while row <= n:\n",
    "    cst = 1\n",
    "    while cst <= nst:\n",
    "        print(\"*\",end = \" \")\n",
    "        cst += 1\n",
    "\n",
    "    csp = 1\n",
    "    while csp <= nsp:\n",
    "        print(\" \",end= \" \")\n",
    "        csp += 1\n",
    "\n",
    "    cst = 2 if row == 1 or row == n else 1\n",
    "    \n",
    "    while cst <= nst:\n",
    "        print(\"*\",end= \" \")\n",
    "        cst += 1\n",
    "\n",
    "    if row <= n//2:\n",
    "        nst -= 1\n",
    "        nsp += 2\n",
    "    else:\n",
    "        nst += 1\n",
    "        nsp -= 2\n",
    "    row += 1\n",
    "    print()"
   ]
  },
  {
   "cell_type": "code",
   "execution_count": 16,
   "id": "6cc3a79d-5d0a-4c64-b9dc-1661e375fb21",
   "metadata": {},
   "outputs": [
    {
     "name": "stdout",
     "output_type": "stream",
     "text": [
      "      * \n",
      "    *   * \n",
      "  *       * \n",
      "*           * \n",
      "  *       * \n",
      "    *   * \n",
      "      * \n"
     ]
    }
   ],
   "source": [
    "n = 7\n",
    "\n",
    "nst = 1\n",
    "nsp = n//2\n",
    "row = 1\n",
    "\n",
    "while row <= n:\n",
    "    csp = 1\n",
    "    while csp <= nsp:\n",
    "        print(\" \",end= \" \")\n",
    "        csp += 1\n",
    "\n",
    "    cst = 1\n",
    "    while cst <= nst:\n",
    "        if cst == 1 or cst == nst:\n",
    "            print(\"*\",end= \" \")\n",
    "        else:\n",
    "            print(\" \",end= \" \")\n",
    "        cst += 1\n",
    "\n",
    "    if row <= n//2:\n",
    "        nst += 2\n",
    "        nsp -= 1\n",
    "    else:\n",
    "        nst -= 2\n",
    "        nsp += 1\n",
    "    row += 1\n",
    "    print()"
   ]
  },
  {
   "cell_type": "code",
   "execution_count": 18,
   "id": "d04d11ca-001f-4d36-9fcc-e988c849fc7f",
   "metadata": {},
   "outputs": [
    {
     "name": "stdout",
     "output_type": "stream",
     "text": [
      "      * \n",
      "    *   * \n",
      "  *       * \n",
      "*           * \n",
      "  *       * \n",
      "    *   * \n",
      "      * \n"
     ]
    }
   ],
   "source": [
    "n = 7\n",
    "\n",
    "nsp1 = n//2\n",
    "nsp2 = -1\n",
    "row = 1\n",
    "\n",
    "while row <= n:\n",
    "    csp = 1\n",
    "    while csp <= nsp1:\n",
    "        print(\" \",end = \" \")\n",
    "        csp += 1\n",
    "\n",
    "    print(\"*\",end = \" \")\n",
    "\n",
    "    csp = 1\n",
    "    while csp <= nsp2:\n",
    "        print(\" \",end = \" \")\n",
    "        csp += 1\n",
    "\n",
    "    if not(row == 1 or row == n):\n",
    "        print(\"*\",end=\" \")\n",
    "\n",
    "    if row <= n//2:\n",
    "        nsp1 -= 1\n",
    "        nsp2 += 2\n",
    "    else:\n",
    "        nsp1 += 1\n",
    "        nsp2 -= 2\n",
    "\n",
    "    row += 1\n",
    "    print()"
   ]
  },
  {
   "cell_type": "code",
   "execution_count": null,
   "id": "6e3201a8-d42d-40f2-b46c-72231a722f90",
   "metadata": {},
   "outputs": [],
   "source": []
  },
  {
   "cell_type": "code",
   "execution_count": 20,
   "id": "e3fde06f-ee7f-4f47-8ab0-7764f3f849b5",
   "metadata": {},
   "outputs": [
    {
     "name": "stdout",
     "output_type": "stream",
     "text": [
      "          1 \n",
      "        1 1 1 \n",
      "      1 1 1 1 1 \n",
      "    1 1 1 1 1 1 1 \n",
      "  1 1 1 1 1 1 1 1 1 \n",
      "1 1 1 1 1 1 1 1 1 1 1 \n"
     ]
    }
   ],
   "source": [
    "n = 6\n",
    "\n",
    "row = 1\n",
    "nsp = n-1\n",
    "nst = 1\n",
    "\n",
    "while row <= n:\n",
    "    csp = 1\n",
    "    while csp <= nsp:\n",
    "        print(\" \",end= \" \")\n",
    "        csp += 1\n",
    "\n",
    "    cst = 1\n",
    "    while cst <= nst:\n",
    "        print(\"1\",end = \" \")\n",
    "        cst += 1\n",
    "\n",
    "    nsp -= 1\n",
    "    nst += 2\n",
    "    row += 1\n",
    "    print()"
   ]
  },
  {
   "cell_type": "code",
   "execution_count": 21,
   "id": "dc940421-2a20-47ab-957c-d285277e12b2",
   "metadata": {},
   "outputs": [
    {
     "name": "stdout",
     "output_type": "stream",
     "text": [
      "          1 \n",
      "        2 2 2 \n",
      "      3 3 3 3 3 \n",
      "    4 4 4 4 4 4 4 \n",
      "  5 5 5 5 5 5 5 5 5 \n",
      "6 6 6 6 6 6 6 6 6 6 6 \n"
     ]
    }
   ],
   "source": [
    "n = 6\n",
    "\n",
    "row = 1\n",
    "nsp = n-1\n",
    "nst = 1\n",
    "val = 1\n",
    "\n",
    "while row <= n:\n",
    "    csp = 1\n",
    "    while csp <= nsp:\n",
    "        print(\" \",end= \" \")\n",
    "        csp += 1\n",
    "\n",
    "    cst = 1\n",
    "    cval = val\n",
    "    while cst <= nst:\n",
    "        print(cval,end = \" \")\n",
    "        cst += 1\n",
    "\n",
    "    nsp -= 1\n",
    "    nst += 2\n",
    "    val += 1\n",
    "    row += 1\n",
    "    print()"
   ]
  },
  {
   "cell_type": "code",
   "execution_count": null,
   "id": "0962333e-bf00-4587-b8b4-bc4960694df9",
   "metadata": {},
   "outputs": [],
   "source": []
  },
  {
   "cell_type": "code",
   "execution_count": 22,
   "id": "c43c8387-8705-402c-a384-61233230a6be",
   "metadata": {},
   "outputs": [
    {
     "name": "stdout",
     "output_type": "stream",
     "text": [
      "          1 \n",
      "        1 2 3 \n",
      "      1 2 3 4 5 \n",
      "    1 2 3 4 5 6 7 \n",
      "  1 2 3 4 5 6 7 8 9 \n",
      "1 2 3 4 5 6 7 8 9 10 11 \n"
     ]
    }
   ],
   "source": [
    "n = 6\n",
    "\n",
    "row = 1\n",
    "nsp = n-1\n",
    "nst = 1\n",
    "val = 1\n",
    "\n",
    "while row <= n:\n",
    "    csp = 1\n",
    "    while csp <= nsp:\n",
    "        print(\" \",end= \" \")\n",
    "        csp += 1\n",
    "\n",
    "    cst = 1\n",
    "    cval = val\n",
    "    while cst <= nst:\n",
    "        print(cval,end = \" \")\n",
    "        cst += 1\n",
    "        cval += 1\n",
    "\n",
    "    nsp -= 1\n",
    "    nst += 2\n",
    "    row += 1\n",
    "    print()"
   ]
  },
  {
   "cell_type": "code",
   "execution_count": 1,
   "id": "d99f4827-a506-44d1-a37b-093a5b6dcdb2",
   "metadata": {},
   "outputs": [
    {
     "name": "stdout",
     "output_type": "stream",
     "text": [
      "          6 \n",
      "        6 5 6 \n",
      "      6 5 4 5 6 \n",
      "    6 5 4 3 4 5 6 \n",
      "  6 5 4 3 2 3 4 5 6 \n",
      "6 5 4 3 2 1 2 3 4 5 6 \n"
     ]
    }
   ],
   "source": [
    "n = 6\n",
    "\n",
    "row = 1\n",
    "nsp = n-1\n",
    "nst = 1\n",
    "val = n\n",
    "\n",
    "while row <= n:\n",
    "    csp = 1\n",
    "    while csp <= nsp:\n",
    "        print(\" \",end= \" \")\n",
    "        csp += 1\n",
    "\n",
    "    cst = 1\n",
    "    cval = val\n",
    "    while cst <= nst:\n",
    "        print(cval,end = \" \")\n",
    "        if cst <= nst//2:\n",
    "            cval -= 1\n",
    "        else:\n",
    "            cval += 1\n",
    "        cst += 1\n",
    "\n",
    "    nsp -= 1\n",
    "    nst += 2\n",
    "    row += 1\n",
    "    print()"
   ]
  },
  {
   "cell_type": "code",
   "execution_count": 25,
   "id": "de06815b-c0b5-4eca-b4ea-452d8071e998",
   "metadata": {},
   "outputs": [
    {
     "name": "stdout",
     "output_type": "stream",
     "text": [
      "          1 \n",
      "        2 3 2 \n",
      "      3 4 5 4 3 \n",
      "    4 5 6 7 6 5 4 \n",
      "  5 6 7 8 9 8 7 6 5 \n",
      "6 7 8 9 10 11 10 9 8 7 6 \n"
     ]
    }
   ],
   "source": [
    "n = 6\n",
    "\n",
    "row = 1\n",
    "nsp = n-1\n",
    "nst = 1\n",
    "val = 1\n",
    "\n",
    "while row <= n:\n",
    "    csp = 1\n",
    "    while csp <= nsp:\n",
    "        print(\" \",end= \" \")\n",
    "        csp += 1\n",
    "\n",
    "    cst = 1\n",
    "    cval = val\n",
    "    while cst <= nst:\n",
    "        print(cval,end = \" \")\n",
    "        if cst <= nst//2:\n",
    "            cval += 1\n",
    "        else:\n",
    "            cval -= 1\n",
    "        cst += 1\n",
    "\n",
    "    nsp -= 1\n",
    "    nst += 2\n",
    "    val += 1\n",
    "    row += 1\n",
    "    print()"
   ]
  },
  {
   "cell_type": "code",
   "execution_count": null,
   "id": "a5dd1b31-75a4-45de-941b-11bece41a787",
   "metadata": {},
   "outputs": [],
   "source": []
  }
 ],
 "metadata": {
  "kernelspec": {
   "display_name": "Python 3 (ipykernel)",
   "language": "python",
   "name": "python3"
  },
  "language_info": {
   "codemirror_mode": {
    "name": "ipython",
    "version": 3
   },
   "file_extension": ".py",
   "mimetype": "text/x-python",
   "name": "python",
   "nbconvert_exporter": "python",
   "pygments_lexer": "ipython3",
   "version": "3.12.9"
  }
 },
 "nbformat": 4,
 "nbformat_minor": 5
}
