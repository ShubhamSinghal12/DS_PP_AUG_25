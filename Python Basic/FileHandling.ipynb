{
 "cells": [
  {
   "cell_type": "markdown",
   "id": "5718fb51-e802-4820-a4c8-2e83f51a9225",
   "metadata": {},
   "source": [
    "# File Access Modes\n",
    "- r(read only)\n",
    "- r+ (read and write)\n",
    "- w (write only)\n",
    "- a (append)\n",
    "- a+ (append and read)\n",
    "- x (new File Create)\n",
    "- t (text Mode)\n",
    "- b (binary Mode)\n",
    "\n",
    "## Read Files\n",
    "- read\n",
    "- readline\n",
    "- readlines\n",
    "\n",
    "## Write Files\n",
    "- write\n",
    "- append\n",
    "\n",
    "## With -- Operator\n",
    "\n",
    "## Moving the cursor\n",
    "- seek(n): takes the file handle to the nth byte from the begining\n",
    "\n",
    "## JSON Files\n",
    "- dump -- write\n",
    "- load -- read\n",
    "- dumps -- Convert dict in str\n",
    "- loads -- Convert str to dict"
   ]
  },
  {
   "cell_type": "code",
   "execution_count": 71,
   "id": "c9c09df7-15dc-40e7-8180-294c6a3f8abb",
   "metadata": {},
   "outputs": [],
   "source": [
    "file = open(r'.\\demo.txt')"
   ]
  },
  {
   "cell_type": "code",
   "execution_count": 72,
   "id": "1b22a047-e0db-4937-8066-89f1d6e46745",
   "metadata": {},
   "outputs": [
    {
     "name": "stdout",
     "output_type": "stream",
     "text": [
      "<_io.TextIOWrapper name='.\\\\demo.txt' mode='r' encoding='cp1252'>\n"
     ]
    }
   ],
   "source": [
    "print(file)"
   ]
  },
  {
   "cell_type": "code",
   "execution_count": 73,
   "id": "b472c9f8-8944-47bd-b6fc-8910b58ee360",
   "metadata": {},
   "outputs": [
    {
     "name": "stdout",
     "output_type": "stream",
     "text": [
      "<class '_io.TextIOWrapper'>\n"
     ]
    }
   ],
   "source": [
    "print(type(file))"
   ]
  },
  {
   "cell_type": "code",
   "execution_count": 74,
   "id": "a657be42-31aa-4020-b09e-b497d4a907dd",
   "metadata": {},
   "outputs": [
    {
     "name": "stdout",
     "output_type": "stream",
     "text": [
      "This is a demo text File.\n",
      "\n",
      "demo text File.\n",
      "\n"
     ]
    }
   ],
   "source": [
    "# r = file.read(10)\n",
    "# s = file.read()\n",
    "# print(r.split('\\n'))\n",
    "# print(s)\n",
    "\n",
    "\n",
    "# print(file.readlines())\n",
    "print(file.readline())\n",
    "file.seek(10)\n",
    "print(file.readline())"
   ]
  },
  {
   "cell_type": "code",
   "execution_count": 75,
   "id": "e1f26e8c-4912-40e1-b15e-4fa95e2abc8b",
   "metadata": {},
   "outputs": [],
   "source": [
    "file.close()"
   ]
  },
  {
   "cell_type": "code",
   "execution_count": 51,
   "id": "99e4fb70-b802-465c-a95d-fb67de6b1a9b",
   "metadata": {},
   "outputs": [],
   "source": [
    "# file.seek(0)\n",
    "# # print(file.readlines())\n",
    "# for line in file.readlines():\n",
    "#     print(line,end='')"
   ]
  },
  {
   "cell_type": "code",
   "execution_count": 32,
   "id": "dbf02678-6601-4438-8abf-60b4e43fcf6f",
   "metadata": {},
   "outputs": [
    {
     "name": "stdout",
     "output_type": "stream",
     "text": [
      "This is a Demo File for DS Batch\n",
      "This is para 2\n",
      "This is para 3"
     ]
    }
   ],
   "source": [
    "file.seek(0)\n",
    "s = file.readline()\n",
    "# print(s)\n",
    "while s != '':\n",
    "    print(s,end='')\n",
    "    s = file.readline()"
   ]
  },
  {
   "cell_type": "code",
   "execution_count": 33,
   "id": "d49d2559-bd76-46ae-ace8-4cc6f652a8a2",
   "metadata": {},
   "outputs": [],
   "source": [
    "file.close()"
   ]
  },
  {
   "cell_type": "code",
   "execution_count": 85,
   "id": "ddd1536d-8c73-4b9d-9862-758562e16439",
   "metadata": {},
   "outputs": [],
   "source": [
    "file = open('FileDemo.txt','a')"
   ]
  },
  {
   "cell_type": "code",
   "execution_count": 86,
   "id": "3f21b949-cea3-4949-bdfe-1eca4479052a",
   "metadata": {},
   "outputs": [
    {
     "data": {
      "text/plain": [
       "18"
      ]
     },
     "execution_count": 86,
     "metadata": {},
     "output_type": "execute_result"
    }
   ],
   "source": [
    "file.write(\"\"\"This is stmt10.\n",
    "This is stmt20.\n",
    "This is stmt30.\n",
    "This is stmt40.\"\"\")\n",
    "file.write(\"This is Extra stmt\")"
   ]
  },
  {
   "cell_type": "code",
   "execution_count": 87,
   "id": "fcc3823b-d461-4f53-8e40-6bac53b3651f",
   "metadata": {},
   "outputs": [],
   "source": [
    "file.close()"
   ]
  },
  {
   "cell_type": "code",
   "execution_count": null,
   "id": "a4999b7f-785c-44d3-91db-10d6f8d34bec",
   "metadata": {},
   "outputs": [],
   "source": []
  },
  {
   "cell_type": "code",
   "execution_count": 89,
   "id": "fe5bc664-c639-4c3b-827b-69c170cb5c20",
   "metadata": {},
   "outputs": [
    {
     "name": "stdout",
     "output_type": "stream",
     "text": [
      "This is stmt10.\n",
      "This is stmt20.\n",
      "This is stmt30.\n",
      "This is stmt40.This is Extra stmtThis is stmt10.\n",
      "This is stmt20.\n",
      "This is stmt30.\n",
      "This is stmt40.This is Extra stmt\n"
     ]
    }
   ],
   "source": [
    "with open('FileDemo.txt','r') as file:\n",
    "    print(file.read())"
   ]
  },
  {
   "cell_type": "code",
   "execution_count": 90,
   "id": "3bfafa01-9212-4a87-9c8d-92465c6d0992",
   "metadata": {},
   "outputs": [
    {
     "ename": "ValueError",
     "evalue": "I/O operation on closed file.",
     "output_type": "error",
     "traceback": [
      "\u001b[31m---------------------------------------------------------------------------\u001b[39m",
      "\u001b[31mValueError\u001b[39m                                Traceback (most recent call last)",
      "\u001b[36mCell\u001b[39m\u001b[36m \u001b[39m\u001b[32mIn[90]\u001b[39m\u001b[32m, line 1\u001b[39m\n\u001b[32m----> \u001b[39m\u001b[32m1\u001b[39m \u001b[43mfile\u001b[49m\u001b[43m.\u001b[49m\u001b[43mread\u001b[49m\u001b[43m(\u001b[49m\u001b[43m)\u001b[49m\n",
      "\u001b[31mValueError\u001b[39m: I/O operation on closed file."
     ]
    }
   ],
   "source": [
    "file.read()"
   ]
  },
  {
   "cell_type": "code",
   "execution_count": 42,
   "id": "66b4b6f0-06e9-43b2-937a-90aeb8738d9c",
   "metadata": {},
   "outputs": [],
   "source": [
    "js = {\n",
    "    'India':1000,\n",
    "    'USA':100\n",
    "}"
   ]
  },
  {
   "cell_type": "code",
   "execution_count": 43,
   "id": "7ceea23c-01c6-4d9d-8828-3302f7eda4dc",
   "metadata": {},
   "outputs": [],
   "source": [
    "import json"
   ]
  },
  {
   "cell_type": "code",
   "execution_count": 44,
   "id": "7f0c9ec6-81e8-4bd7-94b1-a1b51651a203",
   "metadata": {},
   "outputs": [],
   "source": [
    "with open('Country.json','w') as file:\n",
    "    json.dump(js,file)"
   ]
  },
  {
   "cell_type": "code",
   "execution_count": null,
   "id": "86546ddb-08f7-469a-9587-aa306ba7a3f4",
   "metadata": {},
   "outputs": [],
   "source": []
  },
  {
   "cell_type": "code",
   "execution_count": 45,
   "id": "93932a22-180f-42a8-bc36-b667c813cd4e",
   "metadata": {},
   "outputs": [
    {
     "name": "stdout",
     "output_type": "stream",
     "text": [
      "{'India': 1000, 'USA': 100} <class 'dict'>\n"
     ]
    }
   ],
   "source": [
    "with open('Country.json','r') as file:\n",
    "    j = json.load(file)\n",
    "    print(j,type(j))"
   ]
  },
  {
   "cell_type": "code",
   "execution_count": null,
   "id": "d057e6e0-79c6-48c4-9224-7caa3551e295",
   "metadata": {},
   "outputs": [],
   "source": []
  },
  {
   "cell_type": "code",
   "execution_count": 47,
   "id": "6e3697ac-662f-4575-85b5-77a4d1f6eedb",
   "metadata": {},
   "outputs": [
    {
     "data": {
      "text/plain": [
       "'{\"India\": 1000, \"USA\": 100}'"
      ]
     },
     "execution_count": 47,
     "metadata": {},
     "output_type": "execute_result"
    }
   ],
   "source": [
    "s = json.dumps(js)\n",
    "s"
   ]
  },
  {
   "cell_type": "code",
   "execution_count": 48,
   "id": "3b41975d-8fb3-4d26-9292-e120d48bda62",
   "metadata": {},
   "outputs": [
    {
     "data": {
      "text/plain": [
       "{'India': 1000, 'USA': 100}"
      ]
     },
     "execution_count": 48,
     "metadata": {},
     "output_type": "execute_result"
    }
   ],
   "source": [
    "json.loads(s)"
   ]
  },
  {
   "cell_type": "code",
   "execution_count": null,
   "id": "071269f6-090f-42eb-9f8c-67c46652d92c",
   "metadata": {},
   "outputs": [],
   "source": []
  },
  {
   "cell_type": "code",
   "execution_count": 73,
   "id": "e8abaed5-c96c-4c89-b37f-08767fa3058c",
   "metadata": {},
   "outputs": [],
   "source": [
    "l = ['s1','s2','s3','s4']\n",
    "with open('Question.txt','w') as file:\n",
    "    for line in l:\n",
    "        file.write(line+'\\n')"
   ]
  },
  {
   "cell_type": "code",
   "execution_count": 79,
   "id": "f670f861-0505-4765-a430-d96808e2199d",
   "metadata": {},
   "outputs": [
    {
     "data": {
      "text/plain": [
       "['s10', 's20', 's30', 's40']"
      ]
     },
     "execution_count": 79,
     "metadata": {},
     "output_type": "execute_result"
    }
   ],
   "source": [
    "ans = []\n",
    "with open('Question.txt','r') as file:\n",
    "    for line in file:\n",
    "        ans.append(line[:-1]+'0')\n",
    "ans"
   ]
  },
  {
   "cell_type": "code",
   "execution_count": 13,
   "id": "1f75890b-8db5-42b6-8b73-f24f829b4c93",
   "metadata": {},
   "outputs": [
    {
     "data": {
      "text/plain": [
       "[['# year', 'hare', 'lynx', 'carrot'],\n",
       " [1900, 30000, 4000, 48300],\n",
       " [1901, 47200, 6100, 48200],\n",
       " [1902, 70200, 9800, 41500],\n",
       " [1903, 77400, 35200, 38200],\n",
       " [1904, 36300, 59400, 40600],\n",
       " [1905, 20600, 41700, 39800],\n",
       " [1906, 18100, 19000, 38600],\n",
       " [1907, 21400, 13000, 42300],\n",
       " [1908, 22000, 8300, 44500],\n",
       " [1909, 25400, 9100, 42100],\n",
       " [1910, 27100, 7400, 46000],\n",
       " [1911, 40300, 8000, 46800],\n",
       " [1912, 57000, 12300, 43800],\n",
       " [1913, 76600, 19500, 40900],\n",
       " [1914, 52300, 45700, 39400],\n",
       " [1915, 19500, 51100, 39000],\n",
       " [1916, 11200, 29700, 36700],\n",
       " [1917, 7600, 15800, 41800],\n",
       " [1918, 14600, 9700, 43300],\n",
       " [1919, 16200, 10100, 41300],\n",
       " [1920, 24700, 8600, 47300]]"
      ]
     },
     "execution_count": 13,
     "metadata": {},
     "output_type": "execute_result"
    }
   ],
   "source": [
    "file = open('populations.txt','r')\n",
    "data = []\n",
    "fdata = file.read().split('\\n')\n",
    "data.append(fdata[0].split('\\t'))\n",
    "for row in fdata[1:-1]:\n",
    "    r = [int(float(val)) for val in row.split('\\t')]\n",
    "    data.append(r)\n",
    "\n",
    "file.close()\n",
    "data"
   ]
  },
  {
   "cell_type": "code",
   "execution_count": 85,
   "id": "8438d3bd-d37e-49fd-abd9-7da1b02ca60c",
   "metadata": {},
   "outputs": [],
   "source": [
    "import os"
   ]
  },
  {
   "cell_type": "code",
   "execution_count": 86,
   "id": "3d85600b-a8f1-4ab8-afcf-9d7db4f69b4f",
   "metadata": {},
   "outputs": [
    {
     "data": {
      "text/plain": [
       "['.ipynb_checkpoints',\n",
       " 'Country.json',\n",
       " 'ExceptionHandling.ipynb',\n",
       " 'FileDemo.txt',\n",
       " 'FileHandling.ipynb',\n",
       " 'Functions.ipynb',\n",
       " 'List_Tuples.ipynb',\n",
       " 'Modules.ipynb',\n",
       " 'myModule.py',\n",
       " 'OOPs.ipynb',\n",
       " 'Patterns.ipynb',\n",
       " 'PyBasic.ipynb',\n",
       " 'Question.txt',\n",
       " 'Sets_Dictionary.ipynb',\n",
       " 'Strings.ipynb',\n",
       " 'test.txt',\n",
       " '__pycache__']"
      ]
     },
     "execution_count": 86,
     "metadata": {},
     "output_type": "execute_result"
    }
   ],
   "source": [
    "os.listdir('./')"
   ]
  },
  {
   "cell_type": "code",
   "execution_count": null,
   "id": "b1f5884a-31f2-4e1b-9b1a-d827b5fb9d1f",
   "metadata": {},
   "outputs": [],
   "source": []
  }
 ],
 "metadata": {
  "kernelspec": {
   "display_name": "Python 3 (ipykernel)",
   "language": "python",
   "name": "python3"
  },
  "language_info": {
   "codemirror_mode": {
    "name": "ipython",
    "version": 3
   },
   "file_extension": ".py",
   "mimetype": "text/x-python",
   "name": "python",
   "nbconvert_exporter": "python",
   "pygments_lexer": "ipython3",
   "version": "3.12.9"
  }
 },
 "nbformat": 4,
 "nbformat_minor": 5
}
