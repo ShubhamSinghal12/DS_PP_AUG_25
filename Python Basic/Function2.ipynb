{
 "cells": [
  {
   "cell_type": "markdown",
   "id": "e096ae78-369f-4783-b2af-02f0561df454",
   "metadata": {},
   "source": [
    "- Arbitrary arguments (*args and **kwargs) (After Built-in)\n",
    "- Function within function\n",
    "- Function Decorators\n",
    "- iterators"
   ]
  },
  {
   "cell_type": "code",
   "execution_count": 4,
   "id": "f3af77b7-c664-46c7-a61f-d028d960610d",
   "metadata": {},
   "outputs": [],
   "source": [
    "def fn(a,b,*args):\n",
    "    print(args,type(args))"
   ]
  },
  {
   "cell_type": "code",
   "execution_count": 5,
   "id": "a091ba79-7d64-4c55-ba12-3bd84a5a0370",
   "metadata": {},
   "outputs": [
    {
     "name": "stdout",
     "output_type": "stream",
     "text": [
      "(30, 40, 50, 60, 70) <class 'tuple'>\n"
     ]
    }
   ],
   "source": [
    "fn(10,20,30,40,50,60,70)"
   ]
  },
  {
   "cell_type": "code",
   "execution_count": 6,
   "id": "e75e6a62-8319-4dfd-b44f-dc561a610369",
   "metadata": {},
   "outputs": [],
   "source": [
    "def sumA(*args):\n",
    "    s = 0\n",
    "    for ele in args:\n",
    "        s += ele\n",
    "    return s"
   ]
  },
  {
   "cell_type": "code",
   "execution_count": 7,
   "id": "e89d52e1-7fc3-4aab-813b-b2b1b184954a",
   "metadata": {},
   "outputs": [
    {
     "data": {
      "text/plain": [
       "150"
      ]
     },
     "execution_count": 7,
     "metadata": {},
     "output_type": "execute_result"
    }
   ],
   "source": [
    "sumA(10,20,30,40,50)"
   ]
  },
  {
   "cell_type": "code",
   "execution_count": 9,
   "id": "60c3272d-7e30-4907-8c24-069ba694129d",
   "metadata": {},
   "outputs": [
    {
     "data": {
      "text/plain": [
       "150"
      ]
     },
     "execution_count": 9,
     "metadata": {},
     "output_type": "execute_result"
    }
   ],
   "source": [
    "l = [10,20,30,40,50]\n",
    "sumA(*l)"
   ]
  },
  {
   "cell_type": "code",
   "execution_count": 14,
   "id": "76c72b65-d885-4a5f-9d3e-ada2b541fe4e",
   "metadata": {},
   "outputs": [],
   "source": [
    "def fn(*args):\n",
    "    if len(args) == 1:\n",
    "        return args[0]+10\n",
    "    elif len(args) == 2:\n",
    "        return args[0]*args[1]\n",
    "    else:\n",
    "        return sumA(*args)"
   ]
  },
  {
   "cell_type": "code",
   "execution_count": 17,
   "id": "185a4b60-630a-499a-aa7a-6c8075b12981",
   "metadata": {},
   "outputs": [
    {
     "data": {
      "text/plain": [
       "6"
      ]
     },
     "execution_count": 17,
     "metadata": {},
     "output_type": "execute_result"
    }
   ],
   "source": [
    "fn(1,2,3)"
   ]
  },
  {
   "cell_type": "code",
   "execution_count": 18,
   "id": "07e87d06-b7f5-46d6-9bbe-06db7c154182",
   "metadata": {},
   "outputs": [],
   "source": [
    "def fn(**kwargs):\n",
    "    print(kwargs)"
   ]
  },
  {
   "cell_type": "code",
   "execution_count": 19,
   "id": "bd12b8e3-7bf9-4228-8d70-e6fc8521205d",
   "metadata": {},
   "outputs": [
    {
     "name": "stdout",
     "output_type": "stream",
     "text": [
      "{'a': 10, 'b': 20}\n"
     ]
    }
   ],
   "source": [
    "fn(a = 10,b = 20)"
   ]
  },
  {
   "cell_type": "code",
   "execution_count": 20,
   "id": "02dc2d46-0c79-4dc8-bbda-28745402b947",
   "metadata": {},
   "outputs": [],
   "source": [
    "def fn(*args,a,b):\n",
    "    pass"
   ]
  },
  {
   "cell_type": "code",
   "execution_count": 22,
   "id": "bff3c5c3-465c-488f-8b35-a5a3b75a30b5",
   "metadata": {},
   "outputs": [],
   "source": [
    "fn(10,20,30,40,50,a = 100,b = 200)"
   ]
  },
  {
   "cell_type": "code",
   "execution_count": 44,
   "id": "2e354a77-6531-4ab3-9918-1cbb20f7ebc3",
   "metadata": {},
   "outputs": [],
   "source": [
    "x = 100\n",
    "def fn1():\n",
    "    x = 10\n",
    "    y = 20\n",
    "\n",
    "    def fn2():\n",
    "        # nonlocal x\n",
    "        global x\n",
    "        x = 1000\n",
    "        print(x,y)\n",
    "\n",
    "    fn2()\n",
    "\n",
    "    print(x,y)\n",
    "    return fn2"
   ]
  },
  {
   "cell_type": "code",
   "execution_count": 45,
   "id": "eba4be88-ee6e-4677-9dc3-e6a70a54764d",
   "metadata": {},
   "outputs": [
    {
     "name": "stdout",
     "output_type": "stream",
     "text": [
      "1000 20\n",
      "10 20\n",
      "1000\n"
     ]
    }
   ],
   "source": [
    "fn2 = fn1()\n",
    "print(x)"
   ]
  },
  {
   "cell_type": "code",
   "execution_count": 46,
   "id": "f3f179c5-2b6d-4615-8cfc-d835950f25c2",
   "metadata": {},
   "outputs": [
    {
     "name": "stdout",
     "output_type": "stream",
     "text": [
      "1000 20\n"
     ]
    }
   ],
   "source": [
    "fn2()"
   ]
  },
  {
   "cell_type": "code",
   "execution_count": 51,
   "id": "95e3576f-e979-49b2-96b6-a98e0c915008",
   "metadata": {},
   "outputs": [],
   "source": [
    "def fn1(a,b):\n",
    "    def fn2():\n",
    "        print(\"In FN2\")\n",
    "\n",
    "    return fn2,a+b"
   ]
  },
  {
   "cell_type": "code",
   "execution_count": 55,
   "id": "73d17eae-1ecb-44f6-9022-837f6e7b9082",
   "metadata": {},
   "outputs": [],
   "source": [
    "f,s = fn1(10,20)"
   ]
  },
  {
   "cell_type": "code",
   "execution_count": 56,
   "id": "de326dd9-496c-4f6f-99cb-d36cd479b7bf",
   "metadata": {},
   "outputs": [
    {
     "name": "stdout",
     "output_type": "stream",
     "text": [
      "In FN2\n"
     ]
    }
   ],
   "source": [
    "f()"
   ]
  },
  {
   "cell_type": "code",
   "execution_count": 57,
   "id": "e27f3437-e461-43c7-ade0-99b4d79b63f3",
   "metadata": {},
   "outputs": [
    {
     "data": {
      "text/plain": [
       "30"
      ]
     },
     "execution_count": 57,
     "metadata": {},
     "output_type": "execute_result"
    }
   ],
   "source": [
    "s"
   ]
  },
  {
   "cell_type": "code",
   "execution_count": 5,
   "id": "dc205d41-e778-4db5-ad19-fa458a68d393",
   "metadata": {},
   "outputs": [],
   "source": [
    "user_pass = {\"Shubham\":1000,\"Ansh\":200}"
   ]
  },
  {
   "cell_type": "code",
   "execution_count": 6,
   "id": "db9bd721-267c-4e4b-a3b4-69e20fe7c73e",
   "metadata": {},
   "outputs": [
    {
     "data": {
      "text/plain": [
       "1000"
      ]
     },
     "execution_count": 6,
     "metadata": {},
     "output_type": "execute_result"
    }
   ],
   "source": [
    "user_pass[\"Shubham\"]"
   ]
  },
  {
   "cell_type": "code",
   "execution_count": 7,
   "id": "d36ea7a8-d846-4a6f-8914-d8ccf619da19",
   "metadata": {},
   "outputs": [],
   "source": [
    "def he():\n",
    "    print(\"Hello\")"
   ]
  },
  {
   "cell_type": "code",
   "execution_count": 8,
   "id": "47ee0ac3-fb10-42af-8c09-e92e82aec5ff",
   "metadata": {},
   "outputs": [
    {
     "name": "stdout",
     "output_type": "stream",
     "text": [
      "Hello\n"
     ]
    }
   ],
   "source": [
    "he()"
   ]
  },
  {
   "cell_type": "code",
   "execution_count": 9,
   "id": "75db89f3-a6c2-4284-ac2f-55fc3b94c17e",
   "metadata": {},
   "outputs": [],
   "source": [
    "def protectedHello(user,password):\n",
    "    if user in user_pass and user_pass[user] == password:\n",
    "        he()\n",
    "    else:\n",
    "        print(\"Wrong UserName or Password\")"
   ]
  },
  {
   "cell_type": "code",
   "execution_count": 10,
   "id": "0d4a1d7c-9729-4e40-ad2e-3f8487e8828e",
   "metadata": {},
   "outputs": [
    {
     "name": "stdout",
     "output_type": "stream",
     "text": [
      "Wrong UserName or Password\n"
     ]
    }
   ],
   "source": [
    "protectedHello(\"Shubham\",100)"
   ]
  },
  {
   "cell_type": "code",
   "execution_count": 11,
   "id": "b2144345-08c6-4b4b-9639-a49813bef219",
   "metadata": {},
   "outputs": [],
   "source": [
    "def add(a,b):\n",
    "    return a+b"
   ]
  },
  {
   "cell_type": "code",
   "execution_count": 23,
   "id": "409cddb2-dd69-478e-a2fd-2f6bca480351",
   "metadata": {},
   "outputs": [
    {
     "data": {
      "text/plain": [
       "30"
      ]
     },
     "execution_count": 23,
     "metadata": {},
     "output_type": "execute_result"
    }
   ],
   "source": [
    "a = (10,20)\n",
    "c,d = a\n",
    "add(*a)"
   ]
  },
  {
   "cell_type": "code",
   "execution_count": 16,
   "id": "d64f8cc6-6a4e-4381-af1b-5b9233e4b74f",
   "metadata": {},
   "outputs": [],
   "source": [
    "def protectedAdd(user,password,*args,**kwargs):\n",
    "    if user in user_pass and user_pass[user] == password:\n",
    "        return add(*args,**kwargs)\n",
    "    else:\n",
    "        print(\"Wrong UserName or Password\")"
   ]
  },
  {
   "cell_type": "code",
   "execution_count": 18,
   "id": "0c279ab2-9a4c-4f29-8e5a-eec8032bb9aa",
   "metadata": {},
   "outputs": [
    {
     "data": {
      "text/plain": [
       "50"
      ]
     },
     "execution_count": 18,
     "metadata": {},
     "output_type": "execute_result"
    }
   ],
   "source": [
    "protectedAdd(\"Shubham\",1000,20,30)"
   ]
  },
  {
   "cell_type": "code",
   "execution_count": 75,
   "id": "45a0f4bd-3cf1-48ea-a66e-fc3354a90790",
   "metadata": {},
   "outputs": [],
   "source": [
    "def authenticate(fn):\n",
    "    def wrapper(user,password,*args,**kwargs):\n",
    "        if user in user_pass and user_pass[user] == password:\n",
    "            return fn(*args,**kwargs)\n",
    "        else:\n",
    "            print(\"Wrong UserName or Password\")\n",
    "    return wrapper"
   ]
  },
  {
   "cell_type": "code",
   "execution_count": 76,
   "id": "280cb21d-f433-4d66-a9d9-a52014787737",
   "metadata": {},
   "outputs": [],
   "source": [
    "add = authenticate(add)"
   ]
  },
  {
   "cell_type": "code",
   "execution_count": 78,
   "id": "b9ddda41-12d8-4bda-9b60-2fd7b81aec0f",
   "metadata": {},
   "outputs": [
    {
     "data": {
      "text/plain": [
       "30"
      ]
     },
     "execution_count": 78,
     "metadata": {},
     "output_type": "execute_result"
    }
   ],
   "source": [
    "add(\"Shubham\",1000,10,20)"
   ]
  },
  {
   "cell_type": "code",
   "execution_count": 83,
   "id": "12ccb949-9e43-41b4-b38c-74fb42d66bc0",
   "metadata": {},
   "outputs": [],
   "source": [
    "@authenticate\n",
    "def prod(a,b):\n",
    "    return a*b\n",
    "\n",
    "# prod = authenticate(prod)"
   ]
  },
  {
   "cell_type": "code",
   "execution_count": 85,
   "id": "5aa2bc57-0270-4816-a492-d0edf50c8b9b",
   "metadata": {},
   "outputs": [
    {
     "data": {
      "text/plain": [
       "200"
      ]
     },
     "execution_count": 85,
     "metadata": {},
     "output_type": "execute_result"
    }
   ],
   "source": [
    "prod(\"Shubham\",1000,10,20)"
   ]
  },
  {
   "cell_type": "code",
   "execution_count": null,
   "id": "7295d2a0-0145-495b-8fb6-7dfba4b53729",
   "metadata": {},
   "outputs": [],
   "source": []
  }
 ],
 "metadata": {
  "kernelspec": {
   "display_name": "Python 3 (ipykernel)",
   "language": "python",
   "name": "python3"
  },
  "language_info": {
   "codemirror_mode": {
    "name": "ipython",
    "version": 3
   },
   "file_extension": ".py",
   "mimetype": "text/x-python",
   "name": "python",
   "nbconvert_exporter": "python",
   "pygments_lexer": "ipython3",
   "version": "3.12.9"
  }
 },
 "nbformat": 4,
 "nbformat_minor": 5
}
