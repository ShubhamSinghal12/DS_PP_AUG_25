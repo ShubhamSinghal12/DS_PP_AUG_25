{
 "cells": [
  {
   "cell_type": "markdown",
   "id": "88f68fe1-3ae3-4c5f-a677-acd41915118a",
   "metadata": {},
   "source": [
    "# Numpy\n",
    "```\n",
    "pip install numpy\n",
    "```\n",
    "\n",
    "- Mathematical Calculations\n",
    "- Numpy Array Creation\n",
    "- Shape\n",
    "- indexing\n",
    "- data types: b,i,u,f,c,m,M,O,S,u,V (https://numpy.org/doc/1.25/reference/arrays.dtypes.html#arrays-dtypes)\n",
    "- more creation methods: arange, linspace, ones, zeros, eye, diag\n",
    "- random numbers: Numpy Random Module\n",
    "    - rand: Random values in given shape\n",
    "    - randn: Return samples from the Standard normal distribution\n",
    "    - randint: Return random integer from low(inclusive) to high(exclusive)\n",
    "    - random: Return random floats in [0.0,1.0)\n",
    "    - choice: Generates a random sample from given 1D array\n",
    "    - Shuffle: Shuffle the contents of the sequence. Discuss np.random.seed()\n",
    "- reshape: -1 for unknown\n",
    "- slicing and assignment\n",
    "- copy and view: share_memory\n",
    "- operators(Element wise operations)\n",
    "- and: &, or: |, not: ~ (Bitwise works same as logical in case of boolean Values)\n",
    "- shape mismatch\n",
    "- fancy indexing also know as filter\n",
    "- search: where uses fancy indexing\n",
    "- Basic reductions: sum, min, max, any, all,argmax, argmin\n",
    "- Some More Numpy Functions - Statistics: mean, median, average, variance, standard deviation\n",
    "- iteration: nditer, ndenumerate\n",
    "- Join: concatenate, stack, hstack, vstack. Note: make a tuple of arays you want to join\n",
    "- split: array_split, hsplit\n",
    "- sort: np.sort\n",
    "- Broadcasting\n",
    "- Input from Text File\n",
    "- Questions"
   ]
  },
  {
   "cell_type": "code",
   "execution_count": 1,
   "id": "c2e132a5-77f0-43b8-b214-4e69ef7ac485",
   "metadata": {},
   "outputs": [
    {
     "name": "stdout",
     "output_type": "stream",
     "text": [
      "Requirement already satisfied: numpy in c:\\users\\abhis\\miniconda3\\lib\\site-packages (1.26.4)\n"
     ]
    }
   ],
   "source": [
    "!pip install numpy"
   ]
  },
  {
   "cell_type": "code",
   "execution_count": 2,
   "id": "42b41fb4-f6f6-4595-b8ea-54202834ee19",
   "metadata": {},
   "outputs": [
    {
     "name": "stdout",
     "output_type": "stream",
     "text": [
      "1.26.4\n"
     ]
    }
   ],
   "source": [
    "import numpy as np\n",
    "print(np.__version__)"
   ]
  },
  {
   "cell_type": "code",
   "execution_count": 145,
   "id": "65311eeb-2559-4a7d-8b52-f133d0be415e",
   "metadata": {},
   "outputs": [
    {
     "data": {
      "text/plain": [
       "array([list([1, 2]), list([3, 4, 5]), list([6, 7])], dtype=object)"
      ]
     },
     "execution_count": 145,
     "metadata": {},
     "output_type": "execute_result"
    }
   ],
   "source": [
    "l = [[1,2],[3,4,5],[6,7]]\n",
    "n = np.array(l,dtype='object')\n",
    "n"
   ]
  },
  {
   "cell_type": "code",
   "execution_count": 24,
   "id": "17abceff-a568-4e51-947f-ee78a90ab75d",
   "metadata": {},
   "outputs": [],
   "source": [
    "l1 = [1,2,3.1,4]\n",
    "l2 = [[1,2],[3,4],[5,6]]\n",
    "l3 = [[[10,20],[30,40]],[[1,2],[3,4]],[[1,2],[3,4]]]"
   ]
  },
  {
   "cell_type": "code",
   "execution_count": 25,
   "id": "14b4144e-c51b-4c70-b6ab-e6f924e0325b",
   "metadata": {},
   "outputs": [
    {
     "name": "stdout",
     "output_type": "stream",
     "text": [
      "4\n"
     ]
    }
   ],
   "source": [
    "print(l2[1][1])"
   ]
  },
  {
   "cell_type": "code",
   "execution_count": 26,
   "id": "8779a48b-b6b2-4e99-a7ae-3127fcba7755",
   "metadata": {},
   "outputs": [
    {
     "name": "stdout",
     "output_type": "stream",
     "text": [
      "4\n"
     ]
    }
   ],
   "source": [
    "print(l3[2][1][1])"
   ]
  },
  {
   "cell_type": "code",
   "execution_count": 88,
   "id": "78e7f8b2-938a-4930-a484-343c28fdd1ec",
   "metadata": {},
   "outputs": [],
   "source": [
    "n1 = np.array(l1,dtype='int64')\n",
    "n2 = np.array(l2,dtype='f2')#1 2 4 8\n",
    "n3 = np.array(l3)"
   ]
  },
  {
   "cell_type": "code",
   "execution_count": 89,
   "id": "4c59d1fc-feae-41e7-ac9d-892235c5c9a0",
   "metadata": {},
   "outputs": [
    {
     "data": {
      "text/plain": [
       "array([1, 2, 3, 4], dtype=int64)"
      ]
     },
     "execution_count": 89,
     "metadata": {},
     "output_type": "execute_result"
    }
   ],
   "source": [
    "n1"
   ]
  },
  {
   "cell_type": "code",
   "execution_count": 90,
   "id": "3137150c-af55-444f-bdae-1e5179730956",
   "metadata": {},
   "outputs": [
    {
     "data": {
      "text/plain": [
       "array([[1., 2.],\n",
       "       [3., 4.],\n",
       "       [5., 6.]], dtype=float16)"
      ]
     },
     "execution_count": 90,
     "metadata": {},
     "output_type": "execute_result"
    }
   ],
   "source": [
    "n2"
   ]
  },
  {
   "cell_type": "code",
   "execution_count": 91,
   "id": "9f8c39e5-026b-418d-bc40-c887c85b81c5",
   "metadata": {},
   "outputs": [
    {
     "data": {
      "text/plain": [
       "array([[[10, 20],\n",
       "        [30, 40]],\n",
       "\n",
       "       [[ 1,  2],\n",
       "        [ 3,  4]],\n",
       "\n",
       "       [[ 1,  2],\n",
       "        [ 3,  4]]])"
      ]
     },
     "execution_count": 91,
     "metadata": {},
     "output_type": "execute_result"
    }
   ],
   "source": [
    "n3"
   ]
  },
  {
   "cell_type": "code",
   "execution_count": 92,
   "id": "b63cf723-51f6-4efe-aa10-d0faf59fd19a",
   "metadata": {},
   "outputs": [
    {
     "data": {
      "text/plain": [
       "(4,)"
      ]
     },
     "execution_count": 92,
     "metadata": {},
     "output_type": "execute_result"
    }
   ],
   "source": [
    "n1.shape"
   ]
  },
  {
   "cell_type": "code",
   "execution_count": 93,
   "id": "731abf98-6f46-48d8-bd23-7bca5d785253",
   "metadata": {},
   "outputs": [
    {
     "data": {
      "text/plain": [
       "(3, 2)"
      ]
     },
     "execution_count": 93,
     "metadata": {},
     "output_type": "execute_result"
    }
   ],
   "source": [
    "n2.shape"
   ]
  },
  {
   "cell_type": "code",
   "execution_count": 94,
   "id": "e603365e-095f-4396-9ee1-07478084ac74",
   "metadata": {},
   "outputs": [
    {
     "data": {
      "text/plain": [
       "(3, 2, 2)"
      ]
     },
     "execution_count": 94,
     "metadata": {},
     "output_type": "execute_result"
    }
   ],
   "source": [
    "n3.shape"
   ]
  },
  {
   "cell_type": "code",
   "execution_count": 95,
   "id": "37a1dc4f-bee3-46a7-bf69-861687fb6fab",
   "metadata": {},
   "outputs": [
    {
     "data": {
      "text/plain": [
       "dtype('int64')"
      ]
     },
     "execution_count": 95,
     "metadata": {},
     "output_type": "execute_result"
    }
   ],
   "source": [
    "n1.dtype"
   ]
  },
  {
   "cell_type": "code",
   "execution_count": 96,
   "id": "39bf80ec-648c-458b-8d69-0568c01f3190",
   "metadata": {},
   "outputs": [
    {
     "data": {
      "text/plain": [
       "dtype('float16')"
      ]
     },
     "execution_count": 96,
     "metadata": {},
     "output_type": "execute_result"
    }
   ],
   "source": [
    "n2.dtype"
   ]
  },
  {
   "cell_type": "code",
   "execution_count": 87,
   "id": "fd4c7244-e5f3-4e60-a62f-49c260ead137",
   "metadata": {},
   "outputs": [
    {
     "data": {
      "text/plain": [
       "array([[1., 2.],\n",
       "       [3., 4.],\n",
       "       [5., 6.]])"
      ]
     },
     "execution_count": 87,
     "metadata": {},
     "output_type": "execute_result"
    }
   ],
   "source": [
    "n2"
   ]
  },
  {
   "cell_type": "code",
   "execution_count": 55,
   "id": "84822d9f-541c-4780-9860-8b2e8a9faa27",
   "metadata": {},
   "outputs": [
    {
     "data": {
      "text/plain": [
       "6"
      ]
     },
     "execution_count": 55,
     "metadata": {},
     "output_type": "execute_result"
    }
   ],
   "source": [
    "n2[2,1]"
   ]
  },
  {
   "cell_type": "code",
   "execution_count": 33,
   "id": "62792ea1-5a4c-45d6-9480-5bf9ad41cc16",
   "metadata": {},
   "outputs": [
    {
     "name": "stdout",
     "output_type": "stream",
     "text": [
      "3 3.0\n"
     ]
    }
   ],
   "source": [
    "print(l1[2],n1[2])"
   ]
  },
  {
   "cell_type": "code",
   "execution_count": 58,
   "id": "33c115f4-46c5-4f33-936f-9dc2218877b9",
   "metadata": {},
   "outputs": [
    {
     "name": "stdout",
     "output_type": "stream",
     "text": [
      "<class 'numpy.ndarray'> <class 'numpy.ndarray'> <class 'numpy.int32'>\n"
     ]
    }
   ],
   "source": [
    "print(type(n2),type(n2[2]),type(n2[2][1]))"
   ]
  },
  {
   "cell_type": "code",
   "execution_count": 59,
   "id": "796f7e75-90ff-42b5-99d5-831005247f60",
   "metadata": {},
   "outputs": [
    {
     "name": "stdout",
     "output_type": "stream",
     "text": [
      "30 30\n"
     ]
    }
   ],
   "source": [
    "print(l3[0][1][0],n3[0,1,0])"
   ]
  },
  {
   "cell_type": "code",
   "execution_count": 60,
   "id": "304525cc-bfbb-4cfb-af5b-cad39b38834f",
   "metadata": {},
   "outputs": [
    {
     "data": {
      "text/plain": [
       "[3, 4]"
      ]
     },
     "execution_count": 60,
     "metadata": {},
     "output_type": "execute_result"
    }
   ],
   "source": [
    "l2[1]"
   ]
  },
  {
   "cell_type": "code",
   "execution_count": 61,
   "id": "b098e52c-b092-4e6e-b2e7-2c0125c784de",
   "metadata": {},
   "outputs": [
    {
     "data": {
      "text/plain": [
       "array([3, 4])"
      ]
     },
     "execution_count": 61,
     "metadata": {},
     "output_type": "execute_result"
    }
   ],
   "source": [
    "n2[1]"
   ]
  },
  {
   "cell_type": "code",
   "execution_count": 65,
   "id": "4c339046-d531-479d-9869-348582b4d1f3",
   "metadata": {},
   "outputs": [
    {
     "ename": "IndexError",
     "evalue": "index 4 is out of bounds for axis 1 with size 2",
     "output_type": "error",
     "traceback": [
      "\u001b[31m---------------------------------------------------------------------------\u001b[39m",
      "\u001b[31mIndexError\u001b[39m                                Traceback (most recent call last)",
      "\u001b[36mCell\u001b[39m\u001b[36m \u001b[39m\u001b[32mIn[65]\u001b[39m\u001b[32m, line 1\u001b[39m\n\u001b[32m----> \u001b[39m\u001b[32m1\u001b[39m \u001b[43mn2\u001b[49m\u001b[43m[\u001b[49m\u001b[32;43m2\u001b[39;49m\u001b[43m,\u001b[49m\u001b[32;43m4\u001b[39;49m\u001b[43m]\u001b[49m\n",
      "\u001b[31mIndexError\u001b[39m: index 4 is out of bounds for axis 1 with size 2"
     ]
    }
   ],
   "source": [
    "n2[2,4]"
   ]
  },
  {
   "cell_type": "code",
   "execution_count": 68,
   "id": "b6109428-e148-4dc4-85e1-8e8e8662f3d8",
   "metadata": {},
   "outputs": [
    {
     "data": {
      "text/plain": [
       "3"
      ]
     },
     "execution_count": 68,
     "metadata": {},
     "output_type": "execute_result"
    }
   ],
   "source": [
    "n3.ndim"
   ]
  },
  {
   "cell_type": "markdown",
   "id": "c6aacd24-d43f-4657-a07d-0e169d656a08",
   "metadata": {},
   "source": [
    "more creation methods: arange, linspace, ones, zeros, eye, diag"
   ]
  },
  {
   "cell_type": "code",
   "execution_count": 97,
   "id": "52b7e252-925b-4746-8fb9-38371ddc2587",
   "metadata": {},
   "outputs": [],
   "source": [
    "narr = np.arange(1,11,2)"
   ]
  },
  {
   "cell_type": "code",
   "execution_count": 98,
   "id": "9c4ecb2b-db6a-42cd-87d2-8f3662db67b6",
   "metadata": {},
   "outputs": [
    {
     "data": {
      "text/plain": [
       "array([1, 3, 5, 7, 9])"
      ]
     },
     "execution_count": 98,
     "metadata": {},
     "output_type": "execute_result"
    }
   ],
   "source": [
    "narr"
   ]
  },
  {
   "cell_type": "code",
   "execution_count": 103,
   "id": "825437fc-ba55-4f92-9407-ee7baff6ceb0",
   "metadata": {},
   "outputs": [
    {
     "data": {
      "text/plain": [
       "array([  1,  25,  50,  75, 100], dtype=int32)"
      ]
     },
     "execution_count": 103,
     "metadata": {},
     "output_type": "execute_result"
    }
   ],
   "source": [
    "np.linspace(1,100,5,dtype='i')"
   ]
  },
  {
   "cell_type": "code",
   "execution_count": 106,
   "id": "c30b7c13-e634-4465-b555-41be609e0e26",
   "metadata": {},
   "outputs": [
    {
     "data": {
      "text/plain": [
       "array([[[1, 1],\n",
       "        [1, 1],\n",
       "        [1, 1]],\n",
       "\n",
       "       [[1, 1],\n",
       "        [1, 1],\n",
       "        [1, 1]]], dtype=int32)"
      ]
     },
     "execution_count": 106,
     "metadata": {},
     "output_type": "execute_result"
    }
   ],
   "source": [
    "np.ones(shape = (2,3,2),dtype='i')"
   ]
  },
  {
   "cell_type": "code",
   "execution_count": 107,
   "id": "8ea3def9-d99f-4982-9493-334d2f04fbc0",
   "metadata": {},
   "outputs": [
    {
     "data": {
      "text/plain": [
       "array([[0., 0.],\n",
       "       [0., 0.],\n",
       "       [0., 0.],\n",
       "       [0., 0.],\n",
       "       [0., 0.]])"
      ]
     },
     "execution_count": 107,
     "metadata": {},
     "output_type": "execute_result"
    }
   ],
   "source": [
    "np.zeros(shape=(5,2))"
   ]
  },
  {
   "cell_type": "code",
   "execution_count": 111,
   "id": "714dc562-fd05-4055-bcbe-e0b55178bc7f",
   "metadata": {},
   "outputs": [
    {
     "data": {
      "text/plain": [
       "array([[1., 0., 0.],\n",
       "       [0., 1., 0.],\n",
       "       [0., 0., 1.]])"
      ]
     },
     "execution_count": 111,
     "metadata": {},
     "output_type": "execute_result"
    }
   ],
   "source": [
    "np.eye(3)"
   ]
  },
  {
   "cell_type": "code",
   "execution_count": 112,
   "id": "619ad240-c542-4146-9b61-bc1b6b06d8a1",
   "metadata": {},
   "outputs": [
    {
     "data": {
      "text/plain": [
       "array([[1, 0, 0, 0],\n",
       "       [0, 2, 0, 0],\n",
       "       [0, 0, 3, 0],\n",
       "       [0, 0, 0, 4]])"
      ]
     },
     "execution_count": 112,
     "metadata": {},
     "output_type": "execute_result"
    }
   ],
   "source": [
    "np.diag([1,2,3,4])"
   ]
  },
  {
   "cell_type": "code",
   "execution_count": 113,
   "id": "21235723-c125-4f8d-87f9-dd52f59067f0",
   "metadata": {},
   "outputs": [],
   "source": [
    "narr = np.arange(1,101)"
   ]
  },
  {
   "cell_type": "code",
   "execution_count": 114,
   "id": "167b86d4-a6c5-4694-a579-cbee480d77f6",
   "metadata": {},
   "outputs": [
    {
     "data": {
      "text/plain": [
       "array([  1,   2,   3,   4,   5,   6,   7,   8,   9,  10,  11,  12,  13,\n",
       "        14,  15,  16,  17,  18,  19,  20,  21,  22,  23,  24,  25,  26,\n",
       "        27,  28,  29,  30,  31,  32,  33,  34,  35,  36,  37,  38,  39,\n",
       "        40,  41,  42,  43,  44,  45,  46,  47,  48,  49,  50,  51,  52,\n",
       "        53,  54,  55,  56,  57,  58,  59,  60,  61,  62,  63,  64,  65,\n",
       "        66,  67,  68,  69,  70,  71,  72,  73,  74,  75,  76,  77,  78,\n",
       "        79,  80,  81,  82,  83,  84,  85,  86,  87,  88,  89,  90,  91,\n",
       "        92,  93,  94,  95,  96,  97,  98,  99, 100])"
      ]
     },
     "execution_count": 114,
     "metadata": {},
     "output_type": "execute_result"
    }
   ],
   "source": [
    "narr"
   ]
  },
  {
   "cell_type": "code",
   "execution_count": 135,
   "id": "08283886-c06e-487e-b74f-a7c033fe1da4",
   "metadata": {},
   "outputs": [],
   "source": [
    "narr = narr.reshape((4,-1,5))"
   ]
  },
  {
   "cell_type": "code",
   "execution_count": 136,
   "id": "315cf792-46ba-40e6-89fc-4e2a3db5fb78",
   "metadata": {},
   "outputs": [
    {
     "data": {
      "text/plain": [
       "(4, 5, 5)"
      ]
     },
     "execution_count": 136,
     "metadata": {},
     "output_type": "execute_result"
    }
   ],
   "source": [
    "narr.shape"
   ]
  },
  {
   "cell_type": "code",
   "execution_count": 138,
   "id": "9748a181-552c-4fcf-af8f-128e7decff68",
   "metadata": {},
   "outputs": [
    {
     "data": {
      "text/plain": [
       "array([  1,   2,   3,   4,   5,   6,   7,   8,   9,  10,  11,  12,  13,\n",
       "        14,  15,  16,  17,  18,  19,  20,  21,  22,  23,  24,  25,  26,\n",
       "        27,  28,  29,  30,  31,  32,  33,  34,  35,  36,  37,  38,  39,\n",
       "        40,  41,  42,  43,  44,  45,  46,  47,  48,  49,  50,  51,  52,\n",
       "        53,  54,  55,  56,  57,  58,  59,  60,  61,  62,  63,  64,  65,\n",
       "        66,  67,  68,  69,  70,  71,  72,  73,  74,  75,  76,  77,  78,\n",
       "        79,  80,  81,  82,  83,  84,  85,  86,  87,  88,  89,  90,  91,\n",
       "        92,  93,  94,  95,  96,  97,  98,  99, 100])"
      ]
     },
     "execution_count": 138,
     "metadata": {},
     "output_type": "execute_result"
    }
   ],
   "source": [
    "narr.reshape((-1,))"
   ]
  },
  {
   "cell_type": "markdown",
   "id": "c12aef9e-c71e-4322-bbe2-28505bcc8d86",
   "metadata": {},
   "source": [
    "random numbers: Numpy Random Module\n",
    "- rand: Random values in given shape\n",
    "- randn: Return samples from the Standard normal distribution\n",
    "- randint: Return random integer from low(inclusive) to high(exclusive)\n",
    "- random: Return random floats in [0.0,1.0)\n",
    "- choice: Generates a random sample from given 1D array\n",
    "- Shuffle: Shuffle the contents of the sequence. Discuss np.random.seed()"
   ]
  },
  {
   "cell_type": "code",
   "execution_count": 166,
   "id": "ea1867ce-062b-49a3-9e93-39c1eb625660",
   "metadata": {},
   "outputs": [
    {
     "data": {
      "text/plain": [
       "array([[[0.54340494, 0.27836939, 0.42451759],\n",
       "        [0.84477613, 0.00471886, 0.12156912]],\n",
       "\n",
       "       [[0.67074908, 0.82585276, 0.13670659],\n",
       "        [0.57509333, 0.89132195, 0.20920212]],\n",
       "\n",
       "       [[0.18532822, 0.10837689, 0.21969749],\n",
       "        [0.97862378, 0.81168315, 0.17194101]]])"
      ]
     },
     "execution_count": 166,
     "metadata": {},
     "output_type": "execute_result"
    }
   ],
   "source": [
    "np.random.seed(100)\n",
    "np.random.rand(3,2,3)"
   ]
  },
  {
   "cell_type": "code",
   "execution_count": 148,
   "id": "c1a37701-32df-4709-a484-4468923124cd",
   "metadata": {},
   "outputs": [
    {
     "data": {
      "text/plain": [
       "array([[0.67697212, 0.61215993],\n",
       "       [0.68973664, 0.97428927],\n",
       "       [0.00351141, 0.92002787]])"
      ]
     },
     "execution_count": 148,
     "metadata": {},
     "output_type": "execute_result"
    }
   ],
   "source": [
    "np.random.random(size = (3,2))"
   ]
  },
  {
   "cell_type": "code",
   "execution_count": 90,
   "id": "2cb9b256-1ddf-456f-a102-22c82bf8e7e8",
   "metadata": {},
   "outputs": [
    {
     "data": {
      "text/plain": [
       "array([[[-0.0120514 ,  0.89957771],\n",
       "        [ 0.09633878, -1.66630393]],\n",
       "\n",
       "       [[-0.83800518,  0.99848272],\n",
       "        [ 1.0702597 ,  0.39286891]],\n",
       "\n",
       "       [[ 0.17500246,  0.58892847],\n",
       "        [-1.12652496, -0.62376908]]])"
      ]
     },
     "execution_count": 90,
     "metadata": {},
     "output_type": "execute_result"
    }
   ],
   "source": [
    "np.random.randn(3,2,2)"
   ]
  },
  {
   "cell_type": "code",
   "execution_count": 92,
   "id": "65f69977-7404-4f96-8a12-4de9551d450e",
   "metadata": {},
   "outputs": [
    {
     "data": {
      "text/plain": [
       "array([[74, 44],\n",
       "       [98, 49],\n",
       "       [19, 34],\n",
       "       [65, 11],\n",
       "       [17, 97]])"
      ]
     },
     "execution_count": 92,
     "metadata": {},
     "output_type": "execute_result"
    }
   ],
   "source": [
    "np.random.randint(1,101,size=(5,2))"
   ]
  },
  {
   "cell_type": "code",
   "execution_count": null,
   "id": "2e6d60c8-3a10-4fe5-8fd4-eb64b9d56329",
   "metadata": {},
   "outputs": [],
   "source": []
  },
  {
   "cell_type": "code",
   "execution_count": 151,
   "id": "783f20c3-409f-4000-93dc-0516d556184b",
   "metadata": {},
   "outputs": [
    {
     "data": {
      "text/plain": [
       "array([[6, 9],\n",
       "       [7, 6],\n",
       "       [1, 6],\n",
       "       [5, 7],\n",
       "       [1, 5]])"
      ]
     },
     "execution_count": 151,
     "metadata": {},
     "output_type": "execute_result"
    }
   ],
   "source": [
    "np.random.choice(np.array([1,2,3,4,5,6,7,8,9]),size=(5,2),replace = True,p = [0.1,0,0,0,0.2,0.3,0.1,0,0.3])"
   ]
  },
  {
   "cell_type": "code",
   "execution_count": 98,
   "id": "743a2b90-e737-40bd-9101-14d1f4dabca3",
   "metadata": {},
   "outputs": [],
   "source": [
    "narr = np.arange(1,11)"
   ]
  },
  {
   "cell_type": "code",
   "execution_count": 99,
   "id": "d509f0f2-ff83-4afb-a860-3f0d5d547d93",
   "metadata": {},
   "outputs": [
    {
     "data": {
      "text/plain": [
       "array([ 1,  2,  3,  4,  5,  6,  7,  8,  9, 10])"
      ]
     },
     "execution_count": 99,
     "metadata": {},
     "output_type": "execute_result"
    }
   ],
   "source": [
    "narr"
   ]
  },
  {
   "cell_type": "code",
   "execution_count": 100,
   "id": "787ab050-2d2d-44d1-96a4-5eb5eec3dfc2",
   "metadata": {},
   "outputs": [],
   "source": [
    "np.random.shuffle(narr)"
   ]
  },
  {
   "cell_type": "code",
   "execution_count": 101,
   "id": "1735330c-0510-4d00-a45a-c3158a283282",
   "metadata": {},
   "outputs": [
    {
     "data": {
      "text/plain": [
       "array([ 5,  4,  8, 10,  7,  9,  6,  3,  2,  1])"
      ]
     },
     "execution_count": 101,
     "metadata": {},
     "output_type": "execute_result"
    }
   ],
   "source": [
    "narr"
   ]
  },
  {
   "cell_type": "code",
   "execution_count": null,
   "id": "37226ea9-4d42-4e1a-ace8-3998386fd902",
   "metadata": {},
   "outputs": [],
   "source": []
  },
  {
   "cell_type": "code",
   "execution_count": 117,
   "id": "91b76448-9b3d-4f6f-9b22-97eebe321c37",
   "metadata": {},
   "outputs": [],
   "source": [
    "narr.sort()\n",
    "narr\n",
    "\n",
    "narr = narr.reshape((2,5))"
   ]
  },
  {
   "cell_type": "code",
   "execution_count": 119,
   "id": "0a5db51c-a474-4b36-9d23-ca4c71f2ce31",
   "metadata": {},
   "outputs": [
    {
     "data": {
      "text/plain": [
       "array([ 1,  2,  3,  4,  5,  6,  7,  8,  9, 10])"
      ]
     },
     "execution_count": 119,
     "metadata": {},
     "output_type": "execute_result"
    }
   ],
   "source": [
    "narr.reshape(-1)"
   ]
  },
  {
   "cell_type": "code",
   "execution_count": 167,
   "id": "6ce8e61e-ab30-4ba9-9339-c9e3a67d6373",
   "metadata": {},
   "outputs": [
    {
     "data": {
      "text/plain": [
       "array([  1,   2,   3,   4,   5,   6,   7,   8,   9,  10,  11,  12,  13,\n",
       "        14,  15,  16,  17,  18,  19,  20,  21,  22,  23,  24,  25,  26,\n",
       "        27,  28,  29,  30,  31,  32,  33,  34,  35,  36,  37,  38,  39,\n",
       "        40,  41,  42,  43,  44,  45,  46,  47,  48,  49,  50,  51,  52,\n",
       "        53,  54,  55,  56,  57,  58,  59,  60,  61,  62,  63,  64,  65,\n",
       "        66,  67,  68,  69,  70,  71,  72,  73,  74,  75,  76,  77,  78,\n",
       "        79,  80,  81,  82,  83,  84,  85,  86,  87,  88,  89,  90,  91,\n",
       "        92,  93,  94,  95,  96,  97,  98,  99, 100])"
      ]
     },
     "execution_count": 167,
     "metadata": {},
     "output_type": "execute_result"
    }
   ],
   "source": [
    "narr = np.arange(1,101)\n",
    "narr"
   ]
  },
  {
   "cell_type": "code",
   "execution_count": 168,
   "id": "b6bbd985-bf90-441e-8614-90b7f9fa816d",
   "metadata": {},
   "outputs": [],
   "source": [
    "narr = narr.reshape((10,10))"
   ]
  },
  {
   "cell_type": "code",
   "execution_count": 173,
   "id": "209a5cac-0196-4835-baf6-d1d612826919",
   "metadata": {},
   "outputs": [
    {
     "data": {
      "text/plain": [
       "array([[  1,   2,   3,   4,   5,   6,   7,   8,   9,  10],\n",
       "       [ 11,  12,  13,  14,  15,  16,  17,  18,  19,  20],\n",
       "       [ 21,  22,  23,  24,  25,  26,  27,  28,  29,  30],\n",
       "       [ 31,  32,  33,  34,  35,  36,  37,  38,  39,  40],\n",
       "       [ 41,  42,  43,   1,   1,   1,   1,  48,  49,  50],\n",
       "       [ 51,  52,  53,   1,   1,   1,   1,  58,  59,  60],\n",
       "       [ 61,  62,  63,   1,   1,   1,   1,  68,  69,  70],\n",
       "       [ 71,  72,  73,  74,  75,  76,  77,  78,  79,  80],\n",
       "       [ 81,  82,  83,  84,  85,  86,  87,  88,  89,  90],\n",
       "       [ 91,  92,  93,  94,  95,  96,  97,  98,  99, 100]])"
      ]
     },
     "execution_count": 173,
     "metadata": {},
     "output_type": "execute_result"
    }
   ],
   "source": [
    "narr"
   ]
  },
  {
   "cell_type": "code",
   "execution_count": 172,
   "id": "587ea34a-056d-4655-9a17-194bc276c00c",
   "metadata": {},
   "outputs": [],
   "source": [
    "narr[4:7,3:7] = 1"
   ]
  },
  {
   "cell_type": "code",
   "execution_count": 138,
   "id": "925f9a74-5267-41d9-97fa-5cbe9f44a324",
   "metadata": {},
   "outputs": [
    {
     "data": {
      "text/plain": [
       "array([[ 3,  4,  5,  6,  7],\n",
       "       [13, 14, 15, 16, 17],\n",
       "       [23, 24, 25, 26, 27],\n",
       "       [33, 34, 35, 36, 37],\n",
       "       [43, 44, 45, 46, 47],\n",
       "       [53, 54, 55, 56, 57],\n",
       "       [63, 64, 65, 66, 67],\n",
       "       [73, 74, 75, 76, 77],\n",
       "       [83, 84, 85, 86, 87],\n",
       "       [93, 94, 95, 96, 97]])"
      ]
     },
     "execution_count": 138,
     "metadata": {},
     "output_type": "execute_result"
    }
   ],
   "source": [
    "narr[:,2:7]"
   ]
  },
  {
   "cell_type": "code",
   "execution_count": 168,
   "id": "639fa93d-9142-4334-a53f-5f156986a41f",
   "metadata": {},
   "outputs": [],
   "source": [
    "narr = np.arange(1,101).reshape((10,10))"
   ]
  },
  {
   "cell_type": "code",
   "execution_count": 169,
   "id": "48c64906-91d4-4efc-a293-d5ca7bafdc14",
   "metadata": {},
   "outputs": [],
   "source": [
    "narr[3:7,4:8] = np.eye(4)"
   ]
  },
  {
   "cell_type": "code",
   "execution_count": 175,
   "id": "c210780f-b3b1-4d2a-87f1-ba4f6bc49101",
   "metadata": {},
   "outputs": [
    {
     "data": {
      "text/plain": [
       "array([[  1,   2,   3,   4,   5,   6,   7,   8,   9,  10],\n",
       "       [ 11,  12,  13,  14,  15,  16,  17,  18,  19,  20],\n",
       "       [ 21,  22,  23,  24,  25,  26,  27,  28,  29,  30],\n",
       "       [ 31,  32,  33,  34,   1,   0,   0,   0,  39,  40],\n",
       "       [ 41,  42,  43,  44,   0,   1,   0,   0,  49,  50],\n",
       "       [ 51,  52,  53,  54,   0,   0,   1,   0,  59,  60],\n",
       "       [ 61,  62,  63,  64,   0,   0,   0,   1,  69,  70],\n",
       "       [ 71,  72,  73,  74,  75,  76,  77,  78,  79,  80],\n",
       "       [ 81,  82,  83,  84,  85,  86,  87,  88,  89,  90],\n",
       "       [ 91,  92,  93,  94,  95,  96,  97,  98,  99, 100]])"
      ]
     },
     "execution_count": 175,
     "metadata": {},
     "output_type": "execute_result"
    }
   ],
   "source": [
    "narr"
   ]
  },
  {
   "cell_type": "code",
   "execution_count": 147,
   "id": "bb3bfd76-5ffd-471a-affb-328d1e6fe37b",
   "metadata": {},
   "outputs": [],
   "source": [
    "# narr[8] = np.arange(1001,1011)"
   ]
  },
  {
   "cell_type": "code",
   "execution_count": 177,
   "id": "2e6fa4e6-6b4b-49ef-90c0-0013a3967677",
   "metadata": {},
   "outputs": [],
   "source": [
    "barr = narr[8:,:]"
   ]
  },
  {
   "cell_type": "code",
   "execution_count": 174,
   "id": "b849ccb2-01b7-46da-990e-b25d2451b0c2",
   "metadata": {},
   "outputs": [
    {
     "data": {
      "text/plain": [
       "array([[ 81,  82,   1,   1,   1,   1,   1,  88,  89,  90],\n",
       "       [ 91,  92,   1,   1,   1,   1,   1,  98,  99, 100]])"
      ]
     },
     "execution_count": 174,
     "metadata": {},
     "output_type": "execute_result"
    }
   ],
   "source": [
    "barr"
   ]
  },
  {
   "cell_type": "code",
   "execution_count": 178,
   "id": "0f5c83c4-a6a5-4c91-8cf4-e686e70b37bf",
   "metadata": {},
   "outputs": [
    {
     "data": {
      "text/plain": [
       "True"
      ]
     },
     "execution_count": 178,
     "metadata": {},
     "output_type": "execute_result"
    }
   ],
   "source": [
    "np.shares_memory(narr,barr)"
   ]
  },
  {
   "cell_type": "code",
   "execution_count": 173,
   "id": "fd5de7cf-2485-4b3f-a583-6ed5ecaded91",
   "metadata": {},
   "outputs": [],
   "source": [
    "barr[:,2:7] = 1"
   ]
  },
  {
   "cell_type": "code",
   "execution_count": 179,
   "id": "e11eee39-4b91-4171-a2d0-cfe23ad76aa0",
   "metadata": {},
   "outputs": [
    {
     "ename": "TypeError",
     "evalue": "can only concatenate list (not \"int\") to list",
     "output_type": "error",
     "traceback": [
      "\u001b[31m---------------------------------------------------------------------------\u001b[39m",
      "\u001b[31mTypeError\u001b[39m                                 Traceback (most recent call last)",
      "\u001b[36mCell\u001b[39m\u001b[36m \u001b[39m\u001b[32mIn[179]\u001b[39m\u001b[32m, line 2\u001b[39m\n\u001b[32m      1\u001b[39m l1 = [\u001b[32m1\u001b[39m,\u001b[32m2\u001b[39m,\u001b[32m3\u001b[39m,\u001b[32m4\u001b[39m,\u001b[32m5\u001b[39m]\n\u001b[32m----> \u001b[39m\u001b[32m2\u001b[39m \u001b[43ml1\u001b[49m\u001b[43m+\u001b[49m\u001b[32;43m2\u001b[39;49m\n",
      "\u001b[31mTypeError\u001b[39m: can only concatenate list (not \"int\") to list"
     ]
    }
   ],
   "source": [
    "l1 = [1,2,3,4,5]\n",
    "l1+2"
   ]
  },
  {
   "cell_type": "code",
   "execution_count": null,
   "id": "b01cd0ed-cff4-4c14-9d6a-0dd76f0dcecc",
   "metadata": {},
   "outputs": [],
   "source": []
  },
  {
   "cell_type": "code",
   "execution_count": 180,
   "id": "f279d451-b6ad-45e6-adbe-d3538dc8e38e",
   "metadata": {},
   "outputs": [],
   "source": [
    "n1 = np.array([[1,2,3],[4,5,6]])\n",
    "n2 = np.array([10,20,30,40,50])"
   ]
  },
  {
   "cell_type": "code",
   "execution_count": 182,
   "id": "9ec1d865-784a-4e1b-a663-b607515f9577",
   "metadata": {},
   "outputs": [
    {
     "data": {
      "text/plain": [
       "array([13, 23, 33, 43, 53])"
      ]
     },
     "execution_count": 182,
     "metadata": {},
     "output_type": "execute_result"
    }
   ],
   "source": [
    "n2+3"
   ]
  },
  {
   "cell_type": "code",
   "execution_count": 183,
   "id": "b3ea76da-01a3-4122-8928-d3af7c4e5c47",
   "metadata": {},
   "outputs": [
    {
     "data": {
      "text/plain": [
       "array([[-2, -1,  0],\n",
       "       [ 1,  2,  3]])"
      ]
     },
     "execution_count": 183,
     "metadata": {},
     "output_type": "execute_result"
    }
   ],
   "source": [
    "n1-3"
   ]
  },
  {
   "cell_type": "code",
   "execution_count": 184,
   "id": "4903c60b-1e9b-429c-9350-5d90284d4b93",
   "metadata": {},
   "outputs": [
    {
     "data": {
      "text/plain": [
       "array([[ 3,  6,  9],\n",
       "       [12, 15, 18]])"
      ]
     },
     "execution_count": 184,
     "metadata": {},
     "output_type": "execute_result"
    }
   ],
   "source": [
    "n1*3"
   ]
  },
  {
   "cell_type": "code",
   "execution_count": 185,
   "id": "014daab6-6847-458e-9d75-460e00c530e4",
   "metadata": {},
   "outputs": [
    {
     "data": {
      "text/plain": [
       "array([[0.33333333, 0.66666667, 1.        ],\n",
       "       [1.33333333, 1.66666667, 2.        ]])"
      ]
     },
     "execution_count": 185,
     "metadata": {},
     "output_type": "execute_result"
    }
   ],
   "source": [
    "n1/3"
   ]
  },
  {
   "cell_type": "code",
   "execution_count": 186,
   "id": "295c8952-7356-49be-83ad-6859fe49f321",
   "metadata": {},
   "outputs": [
    {
     "data": {
      "text/plain": [
       "array([[0, 0, 1],\n",
       "       [1, 1, 2]], dtype=int32)"
      ]
     },
     "execution_count": 186,
     "metadata": {},
     "output_type": "execute_result"
    }
   ],
   "source": [
    "n1//3"
   ]
  },
  {
   "cell_type": "code",
   "execution_count": 187,
   "id": "08ac788d-c32a-43c3-8454-37e66a79d1b1",
   "metadata": {},
   "outputs": [
    {
     "data": {
      "text/plain": [
       "array([[1, 2, 0],\n",
       "       [1, 2, 0]], dtype=int32)"
      ]
     },
     "execution_count": 187,
     "metadata": {},
     "output_type": "execute_result"
    }
   ],
   "source": [
    "n1%3"
   ]
  },
  {
   "cell_type": "code",
   "execution_count": 188,
   "id": "6c87bb6b-d3c4-4cae-8d32-384673578156",
   "metadata": {},
   "outputs": [
    {
     "data": {
      "text/plain": [
       "array([[  1,   8,  27],\n",
       "       [ 64, 125, 216]], dtype=int32)"
      ]
     },
     "execution_count": 188,
     "metadata": {},
     "output_type": "execute_result"
    }
   ],
   "source": [
    "n1**3"
   ]
  },
  {
   "cell_type": "code",
   "execution_count": 190,
   "id": "087aef00-e191-41cf-a880-ebf1cc399a55",
   "metadata": {},
   "outputs": [
    {
     "data": {
      "text/plain": [
       "array([ True,  True,  True,  True,  True])"
      ]
     },
     "execution_count": 190,
     "metadata": {},
     "output_type": "execute_result"
    }
   ],
   "source": [
    "n2 > 3"
   ]
  },
  {
   "cell_type": "code",
   "execution_count": null,
   "id": "f98aa93d-a7ed-482f-8a04-7ae2f1b3ef8e",
   "metadata": {},
   "outputs": [],
   "source": []
  },
  {
   "cell_type": "code",
   "execution_count": 192,
   "id": "8bd77df7-51d0-4361-bb2b-5b8f9748da34",
   "metadata": {},
   "outputs": [],
   "source": [
    "n1 = np.array([[1,2,3],[4,5,6]])\n",
    "n2 = np.array([[10,20,30],[40,50,60]])"
   ]
  },
  {
   "cell_type": "code",
   "execution_count": 193,
   "id": "27066730-2703-4889-a33b-43ce6620f259",
   "metadata": {},
   "outputs": [
    {
     "data": {
      "text/plain": [
       "array([[11, 22, 33],\n",
       "       [44, 55, 66]])"
      ]
     },
     "execution_count": 193,
     "metadata": {},
     "output_type": "execute_result"
    }
   ],
   "source": [
    "n1+n2"
   ]
  },
  {
   "cell_type": "code",
   "execution_count": 23,
   "id": "cc1049d0-b9fa-4182-a2fa-f0353de1ce5a",
   "metadata": {},
   "outputs": [
    {
     "data": {
      "text/plain": [
       "array([[ -9, -18, -27],\n",
       "       [-36, -45, -54]])"
      ]
     },
     "execution_count": 23,
     "metadata": {},
     "output_type": "execute_result"
    }
   ],
   "source": [
    "n1-n2"
   ]
  },
  {
   "cell_type": "code",
   "execution_count": 24,
   "id": "01181d6f-5d3f-4020-9b98-51ab431117b8",
   "metadata": {},
   "outputs": [
    {
     "data": {
      "text/plain": [
       "array([[ 10,  40,  90],\n",
       "       [160, 250, 360]])"
      ]
     },
     "execution_count": 24,
     "metadata": {},
     "output_type": "execute_result"
    }
   ],
   "source": [
    "n1*n2"
   ]
  },
  {
   "cell_type": "code",
   "execution_count": 195,
   "id": "cd5a93e4-5541-48e4-92b7-8667efe753c1",
   "metadata": {},
   "outputs": [
    {
     "data": {
      "text/plain": [
       "array([[ True,  True,  True],\n",
       "       [ True,  True,  True]])"
      ]
     },
     "execution_count": 195,
     "metadata": {},
     "output_type": "execute_result"
    }
   ],
   "source": [
    "n1*10 == n2"
   ]
  },
  {
   "cell_type": "code",
   "execution_count": 26,
   "id": "de0be35f-4934-4190-a57e-71dd5288c996",
   "metadata": {},
   "outputs": [
    {
     "data": {
      "text/plain": [
       "array([[ 20,  40,  60],\n",
       "       [ 80, 100, 120]])"
      ]
     },
     "execution_count": 26,
     "metadata": {},
     "output_type": "execute_result"
    }
   ],
   "source": [
    "n1*10+n2"
   ]
  },
  {
   "cell_type": "code",
   "execution_count": null,
   "id": "c5fa4d1f-4c46-4a29-88fa-43ab1940985d",
   "metadata": {},
   "outputs": [],
   "source": []
  },
  {
   "cell_type": "code",
   "execution_count": 196,
   "id": "a68b3269-e095-424e-b433-a32db23d09b6",
   "metadata": {},
   "outputs": [],
   "source": [
    "n1 = np.arange(1,21)"
   ]
  },
  {
   "cell_type": "code",
   "execution_count": 197,
   "id": "c789aced-5b66-4593-be8c-72bf7e06843f",
   "metadata": {},
   "outputs": [
    {
     "data": {
      "text/plain": [
       "array([ 1,  2,  3,  4,  5,  6,  7,  8,  9, 10, 11, 12, 13, 14, 15, 16, 17,\n",
       "       18, 19, 20])"
      ]
     },
     "execution_count": 197,
     "metadata": {},
     "output_type": "execute_result"
    }
   ],
   "source": [
    "n1"
   ]
  },
  {
   "cell_type": "code",
   "execution_count": 198,
   "id": "159e4d5d-4929-4894-8335-867be73be4c7",
   "metadata": {},
   "outputs": [],
   "source": [
    "np.random.shuffle(n1)"
   ]
  },
  {
   "cell_type": "code",
   "execution_count": 199,
   "id": "fbf738dc-bb9d-4d34-ae57-d346f4019f49",
   "metadata": {},
   "outputs": [
    {
     "data": {
      "text/plain": [
       "array([18,  2,  6,  1, 11,  8,  5, 13,  9,  4,  7, 20,  3, 19, 14, 15, 16,\n",
       "       10, 17, 12])"
      ]
     },
     "execution_count": 199,
     "metadata": {},
     "output_type": "execute_result"
    }
   ],
   "source": [
    "n1"
   ]
  },
  {
   "cell_type": "code",
   "execution_count": 204,
   "id": "855bf728-177e-47f0-a904-d00d2f008634",
   "metadata": {},
   "outputs": [
    {
     "data": {
      "text/plain": [
       "array([ 6, 13,  8,  7, 20, 13])"
      ]
     },
     "execution_count": 204,
     "metadata": {},
     "output_type": "execute_result"
    }
   ],
   "source": [
    "n1[[2,7,5,10,11,7]]"
   ]
  },
  {
   "cell_type": "code",
   "execution_count": 205,
   "id": "e168fd69-7c0b-4994-8077-ba51899c14b3",
   "metadata": {},
   "outputs": [],
   "source": [
    "narr = np.arange(1,101).reshape((10,10))"
   ]
  },
  {
   "cell_type": "code",
   "execution_count": 211,
   "id": "ca59d985-a6be-46f0-9959-f9ce0ebf4c45",
   "metadata": {},
   "outputs": [
    {
     "data": {
      "text/plain": [
       "array([22, 34, 56, 64, 73])"
      ]
     },
     "execution_count": 211,
     "metadata": {},
     "output_type": "execute_result"
    }
   ],
   "source": [
    "narr[[1,2,6,7]] # Rows\n",
    "narr[:,[1,2,6,7]] #Columns\n",
    "\n",
    "narr[[2,3,5,6,7],[1,3,5,3,2]]"
   ]
  },
  {
   "cell_type": "code",
   "execution_count": 214,
   "id": "e3bda293-42bc-40c4-8075-ef06ea0f4601",
   "metadata": {},
   "outputs": [
    {
     "data": {
      "text/plain": [
       "array([[ 2,  3,  7,  8],\n",
       "       [12, 13, 17, 18],\n",
       "       [22, 23, 27, 28],\n",
       "       [32, 33, 37, 38],\n",
       "       [42, 43, 47, 48],\n",
       "       [52, 53, 57, 58],\n",
       "       [62, 63, 67, 68],\n",
       "       [72, 73, 77, 78],\n",
       "       [82, 83, 87, 88],\n",
       "       [92, 93, 97, 98]])"
      ]
     },
     "execution_count": 214,
     "metadata": {},
     "output_type": "execute_result"
    }
   ],
   "source": [
    "narr[:,[False,True,True,False,False,False,True,True,False,False]]"
   ]
  },
  {
   "cell_type": "code",
   "execution_count": 219,
   "id": "e6f741e5-42c5-4c8c-b2e2-a14ee1c9cddc",
   "metadata": {},
   "outputs": [
    {
     "data": {
      "text/plain": [
       "array([[ 4,  8],\n",
       "       [14, 18],\n",
       "       [24, 28],\n",
       "       [34, 38],\n",
       "       [44, 48],\n",
       "       [54, 58],\n",
       "       [64, 68],\n",
       "       [74, 78],\n",
       "       [84, 88],\n",
       "       [94, 98]])"
      ]
     },
     "execution_count": 219,
     "metadata": {},
     "output_type": "execute_result"
    }
   ],
   "source": [
    "narr[:,narr[0]%4 == 0]"
   ]
  },
  {
   "cell_type": "code",
   "execution_count": 222,
   "id": "d937b389-45a9-4f99-8793-d1b3518f1db2",
   "metadata": {},
   "outputs": [
    {
     "data": {
      "text/plain": [
       "array([18, 11, 13, 20, 19, 14, 15, 16, 17, 12])"
      ]
     },
     "execution_count": 222,
     "metadata": {},
     "output_type": "execute_result"
    }
   ],
   "source": [
    "n1[n1 > 10]"
   ]
  },
  {
   "cell_type": "code",
   "execution_count": 230,
   "id": "d6000504-d2c5-464b-b85a-0617a4193afe",
   "metadata": {},
   "outputs": [
    {
     "data": {
      "text/plain": [
       "array([ 6, 12, 18, 24, 30, 36, 42, 48, 54, 60, 66, 72, 78, 84, 90, 96])"
      ]
     },
     "execution_count": 230,
     "metadata": {},
     "output_type": "execute_result"
    }
   ],
   "source": [
    "narr[narr%6==0]"
   ]
  },
  {
   "cell_type": "code",
   "execution_count": 61,
   "id": "8ca116c7-3e6c-4a30-af0f-82d5984bcdf5",
   "metadata": {},
   "outputs": [],
   "source": [
    "n2 = np.array([[[1,2],[3,4],[5,6]],[[10,20],[30,40],[50,60]]])"
   ]
  },
  {
   "cell_type": "code",
   "execution_count": 225,
   "id": "6e9f2cda-8a71-4076-9e69-cd5ec9aa2169",
   "metadata": {},
   "outputs": [
    {
     "data": {
      "text/plain": [
       "array([18,  2,  6,  1, 11,  8,  5, 13,  9,  4,  7, 20,  3, 19, 14, 15, 16,\n",
       "       10, 17, 12])"
      ]
     },
     "execution_count": 225,
     "metadata": {},
     "output_type": "execute_result"
    }
   ],
   "source": [
    "n1"
   ]
  },
  {
   "cell_type": "code",
   "execution_count": 235,
   "id": "c3f1a2c7-7ab0-4b3c-ac83-4027e4c83958",
   "metadata": {},
   "outputs": [],
   "source": [
    "n = np.arange(1,13).reshape((2,3,2))"
   ]
  },
  {
   "cell_type": "code",
   "execution_count": 236,
   "id": "91c6d458-25e6-48b3-962e-189cf85d7e22",
   "metadata": {},
   "outputs": [
    {
     "data": {
      "text/plain": [
       "array([[[ 1,  2],\n",
       "        [ 3,  4],\n",
       "        [ 5,  6]],\n",
       "\n",
       "       [[ 7,  8],\n",
       "        [ 9, 10],\n",
       "        [11, 12]]])"
      ]
     },
     "execution_count": 236,
     "metadata": {},
     "output_type": "execute_result"
    }
   ],
   "source": [
    "n"
   ]
  },
  {
   "cell_type": "code",
   "execution_count": 239,
   "id": "64cd1a77-c4cd-4ec9-ac98-78390e245b8e",
   "metadata": {},
   "outputs": [
    {
     "data": {
      "text/plain": [
       "array([[ 3,  7, 11],\n",
       "       [15, 19, 23]])"
      ]
     },
     "execution_count": 239,
     "metadata": {},
     "output_type": "execute_result"
    }
   ],
   "source": [
    "n.sum(axis = 2)"
   ]
  },
  {
   "cell_type": "code",
   "execution_count": 65,
   "id": "97531d35-8ba9-44f0-a3fa-dc75f87ebb24",
   "metadata": {},
   "outputs": [
    {
     "data": {
      "text/plain": [
       "array([[1, 2, 3],\n",
       "       [4, 5, 6],\n",
       "       [7, 8, 9]])"
      ]
     },
     "execution_count": 65,
     "metadata": {},
     "output_type": "execute_result"
    }
   ],
   "source": [
    "n1"
   ]
  },
  {
   "cell_type": "code",
   "execution_count": 66,
   "id": "866cee58-50d7-40de-a067-f089a2f674b0",
   "metadata": {},
   "outputs": [
    {
     "data": {
      "text/plain": [
       "array([12, 15, 18])"
      ]
     },
     "execution_count": 66,
     "metadata": {},
     "output_type": "execute_result"
    }
   ],
   "source": [
    "n1.sum(axis = 0)"
   ]
  },
  {
   "cell_type": "code",
   "execution_count": 67,
   "id": "077c8dc4-055c-4e9c-9d14-b3769a521575",
   "metadata": {},
   "outputs": [
    {
     "data": {
      "text/plain": [
       "array([ 6, 15, 24])"
      ]
     },
     "execution_count": 67,
     "metadata": {},
     "output_type": "execute_result"
    }
   ],
   "source": [
    "n1.sum(axis = 1)"
   ]
  },
  {
   "cell_type": "code",
   "execution_count": 69,
   "id": "b64c90bb-b3e2-49c9-b792-753d2fed299f",
   "metadata": {},
   "outputs": [
    {
     "data": {
      "text/plain": [
       "array([7, 8, 9])"
      ]
     },
     "execution_count": 69,
     "metadata": {},
     "output_type": "execute_result"
    }
   ],
   "source": [
    "n1.max(axis = 0)"
   ]
  },
  {
   "cell_type": "code",
   "execution_count": 70,
   "id": "20c90a6f-bea3-4493-86b3-5132015563e9",
   "metadata": {},
   "outputs": [
    {
     "data": {
      "text/plain": [
       "array([1, 4, 7])"
      ]
     },
     "execution_count": 70,
     "metadata": {},
     "output_type": "execute_result"
    }
   ],
   "source": [
    "n1.min(axis = 1)"
   ]
  },
  {
   "cell_type": "code",
   "execution_count": 240,
   "id": "bc5e6bc2-42d6-4d88-a4d1-2009221ed669",
   "metadata": {},
   "outputs": [
    {
     "data": {
      "text/plain": [
       "array([18,  2,  6,  1, 11,  8,  5, 13,  9,  4,  7, 20,  3, 19, 14, 15, 16,\n",
       "       10, 17, 12])"
      ]
     },
     "execution_count": 240,
     "metadata": {},
     "output_type": "execute_result"
    }
   ],
   "source": [
    "n1"
   ]
  },
  {
   "cell_type": "code",
   "execution_count": 241,
   "id": "c484642d-a11d-4b04-bf5f-7b7e6267fd8b",
   "metadata": {},
   "outputs": [
    {
     "data": {
      "text/plain": [
       "11"
      ]
     },
     "execution_count": 241,
     "metadata": {},
     "output_type": "execute_result"
    }
   ],
   "source": [
    "np.argmax(n1)"
   ]
  },
  {
   "cell_type": "code",
   "execution_count": 242,
   "id": "245a8d3d-30d2-491d-8745-377d0ac1487e",
   "metadata": {},
   "outputs": [],
   "source": [
    "nb = np.array([True,True,True])"
   ]
  },
  {
   "cell_type": "code",
   "execution_count": 244,
   "id": "26470d4a-f9b1-4a14-8c07-494b9e5da9e5",
   "metadata": {},
   "outputs": [
    {
     "data": {
      "text/plain": [
       "True"
      ]
     },
     "execution_count": 244,
     "metadata": {},
     "output_type": "execute_result"
    }
   ],
   "source": [
    "np.all(n1 > 0)"
   ]
  },
  {
   "cell_type": "code",
   "execution_count": null,
   "id": "afccc866-ba9b-42da-b7d1-1707af50cdf3",
   "metadata": {},
   "outputs": [],
   "source": []
  },
  {
   "cell_type": "code",
   "execution_count": 247,
   "id": "a2f7945c-af6d-4fb1-9306-43c70d1edef7",
   "metadata": {},
   "outputs": [
    {
     "data": {
      "text/plain": [
       "array([[[ 1,  2],\n",
       "        [ 3,  4],\n",
       "        [ 5,  6]],\n",
       "\n",
       "       [[ 7,  8],\n",
       "        [ 9, 10],\n",
       "        [11, 12]]])"
      ]
     },
     "execution_count": 247,
     "metadata": {},
     "output_type": "execute_result"
    }
   ],
   "source": [
    "n"
   ]
  },
  {
   "cell_type": "code",
   "execution_count": 249,
   "id": "878c60e0-3dac-4596-8396-cbd78a8b6839",
   "metadata": {},
   "outputs": [
    {
     "name": "stdout",
     "output_type": "stream",
     "text": [
      "1\n",
      "2\n",
      "3\n",
      "4\n",
      "5\n",
      "6\n",
      "7\n",
      "8\n",
      "9\n",
      "10\n",
      "11\n",
      "12\n"
     ]
    }
   ],
   "source": [
    "for t in np.nditer(n):\n",
    "    print(t)"
   ]
  },
  {
   "cell_type": "code",
   "execution_count": 251,
   "id": "f579d783-e603-49f2-b985-efab1846f054",
   "metadata": {},
   "outputs": [
    {
     "name": "stdout",
     "output_type": "stream",
     "text": [
      "((0, 0, 0), 1)\n",
      "((0, 0, 1), 2)\n",
      "((0, 1, 0), 3)\n",
      "((0, 1, 1), 4)\n",
      "((0, 2, 0), 5)\n",
      "((0, 2, 1), 6)\n",
      "((1, 0, 0), 7)\n",
      "((1, 0, 1), 8)\n",
      "((1, 1, 0), 9)\n",
      "((1, 1, 1), 10)\n",
      "((1, 2, 0), 11)\n",
      "((1, 2, 1), 12)\n"
     ]
    }
   ],
   "source": [
    "for t in np.ndenumerate(n):\n",
    "    print(t)"
   ]
  },
  {
   "cell_type": "code",
   "execution_count": 252,
   "id": "33250a2c-3929-4580-ba07-53d89d670d35",
   "metadata": {},
   "outputs": [],
   "source": [
    "n1 = np.array([1,2,3])\n",
    "n2 = np.array([10,20,30])"
   ]
  },
  {
   "cell_type": "code",
   "execution_count": 253,
   "id": "6f5c2142-32fb-4b24-8478-d8b2b53d9667",
   "metadata": {},
   "outputs": [
    {
     "data": {
      "text/plain": [
       "array([[ 1,  2,  3],\n",
       "       [10, 20, 30]])"
      ]
     },
     "execution_count": 253,
     "metadata": {},
     "output_type": "execute_result"
    }
   ],
   "source": [
    "np.vstack((n1,n2))"
   ]
  },
  {
   "cell_type": "code",
   "execution_count": 87,
   "id": "b604b539-a42a-4f6e-b20f-73c8c9adb911",
   "metadata": {},
   "outputs": [
    {
     "data": {
      "text/plain": [
       "array([ 1,  2,  3, 10, 20, 30])"
      ]
     },
     "execution_count": 87,
     "metadata": {},
     "output_type": "execute_result"
    }
   ],
   "source": [
    "np.hstack((n1,n2))"
   ]
  },
  {
   "cell_type": "code",
   "execution_count": 255,
   "id": "50f818b0-44b6-4f33-be25-dcfe7b298f93",
   "metadata": {},
   "outputs": [
    {
     "data": {
      "text/plain": [
       "array([ 1,  2,  3, 10, 20, 30])"
      ]
     },
     "execution_count": 255,
     "metadata": {},
     "output_type": "execute_result"
    }
   ],
   "source": [
    "np.concatenate((n1,n2),axis = 0)"
   ]
  },
  {
   "cell_type": "code",
   "execution_count": 257,
   "id": "1e40c989-cc58-467f-b7ce-d585cfa25afa",
   "metadata": {},
   "outputs": [
    {
     "data": {
      "text/plain": [
       "array([[ 1,  2,  3],\n",
       "       [10, 20, 30]])"
      ]
     },
     "execution_count": 257,
     "metadata": {},
     "output_type": "execute_result"
    }
   ],
   "source": [
    "np.stack((n1,n2),axis=0)"
   ]
  },
  {
   "cell_type": "code",
   "execution_count": 258,
   "id": "17c38488-39c5-46b8-855b-16cde3e6fd67",
   "metadata": {},
   "outputs": [
    {
     "data": {
      "text/plain": [
       "array([1, 2, 3])"
      ]
     },
     "execution_count": 258,
     "metadata": {},
     "output_type": "execute_result"
    }
   ],
   "source": [
    "n1"
   ]
  },
  {
   "cell_type": "code",
   "execution_count": 259,
   "id": "7b0badef-da8f-4920-9b66-438a68538839",
   "metadata": {},
   "outputs": [],
   "source": [
    "l = np.hsplit(n1,3)"
   ]
  },
  {
   "cell_type": "code",
   "execution_count": 260,
   "id": "bfeeadb0-0b8b-46ee-8f0d-1495fddf779c",
   "metadata": {},
   "outputs": [
    {
     "data": {
      "text/plain": [
       "[array([1]), array([2]), array([3])]"
      ]
     },
     "execution_count": 260,
     "metadata": {},
     "output_type": "execute_result"
    }
   ],
   "source": [
    "l"
   ]
  },
  {
   "cell_type": "code",
   "execution_count": 261,
   "id": "4b73a7c6-74c5-44c9-9e23-6142c63ce406",
   "metadata": {},
   "outputs": [],
   "source": [
    "l[0][0] = 10"
   ]
  },
  {
   "cell_type": "code",
   "execution_count": 262,
   "id": "21fed3b1-05c0-4256-adf6-a8801b915406",
   "metadata": {},
   "outputs": [
    {
     "data": {
      "text/plain": [
       "[array([10]), array([2]), array([3])]"
      ]
     },
     "execution_count": 262,
     "metadata": {},
     "output_type": "execute_result"
    }
   ],
   "source": [
    "l"
   ]
  },
  {
   "cell_type": "code",
   "execution_count": 103,
   "id": "4ac8122d-c024-4a1f-a176-86cdfe05e23e",
   "metadata": {},
   "outputs": [
    {
     "data": {
      "text/plain": [
       "array([10,  2,  3])"
      ]
     },
     "execution_count": 103,
     "metadata": {},
     "output_type": "execute_result"
    }
   ],
   "source": [
    "n1"
   ]
  },
  {
   "cell_type": "code",
   "execution_count": null,
   "id": "11038cb9-16e8-454b-9df9-da4220888d92",
   "metadata": {},
   "outputs": [],
   "source": []
  },
  {
   "cell_type": "code",
   "execution_count": 263,
   "id": "8527ed95-c650-434e-b663-a234d53dd43c",
   "metadata": {},
   "outputs": [],
   "source": [
    "n1 = np.arange(1,13).reshape(3,4)"
   ]
  },
  {
   "cell_type": "code",
   "execution_count": 264,
   "id": "c4eceb31-6826-43c3-ba73-58206adebe5d",
   "metadata": {},
   "outputs": [
    {
     "data": {
      "text/plain": [
       "array([[ 1,  2,  3,  4],\n",
       "       [ 5,  6,  7,  8],\n",
       "       [ 9, 10, 11, 12]])"
      ]
     },
     "execution_count": 264,
     "metadata": {},
     "output_type": "execute_result"
    }
   ],
   "source": [
    "n1"
   ]
  },
  {
   "cell_type": "code",
   "execution_count": 265,
   "id": "02c9fc43-0630-4280-bb19-9b2eac01ab44",
   "metadata": {},
   "outputs": [
    {
     "data": {
      "text/plain": [
       "array([[11, 22, 33, 44],\n",
       "       [15, 26, 37, 48],\n",
       "       [19, 30, 41, 52]])"
      ]
     },
     "execution_count": 265,
     "metadata": {},
     "output_type": "execute_result"
    }
   ],
   "source": [
    "np.array([10,20,30,40]) + n1"
   ]
  },
  {
   "cell_type": "code",
   "execution_count": 266,
   "id": "f1a885df-5ba3-4416-a833-af3e207920e3",
   "metadata": {},
   "outputs": [
    {
     "data": {
      "text/plain": [
       "array([[10],\n",
       "       [20],\n",
       "       [30]])"
      ]
     },
     "execution_count": 266,
     "metadata": {},
     "output_type": "execute_result"
    }
   ],
   "source": [
    "np.array([[10],[20],[30]])"
   ]
  },
  {
   "cell_type": "code",
   "execution_count": 267,
   "id": "87bce5b8-f417-481f-b86c-5537b05041cb",
   "metadata": {},
   "outputs": [
    {
     "data": {
      "text/plain": [
       "array([[11, 12, 13, 14],\n",
       "       [25, 26, 27, 28],\n",
       "       [39, 40, 41, 42]])"
      ]
     },
     "execution_count": 267,
     "metadata": {},
     "output_type": "execute_result"
    }
   ],
   "source": [
    "np.array([[10],[20],[30]]) + n1"
   ]
  },
  {
   "cell_type": "code",
   "execution_count": 268,
   "id": "e0883bc5-07f4-4aa1-84b4-9834bb4009fd",
   "metadata": {},
   "outputs": [
    {
     "data": {
      "text/plain": [
       "array([[20, 30, 40],\n",
       "       [30, 40, 50],\n",
       "       [40, 50, 60],\n",
       "       [50, 60, 70]])"
      ]
     },
     "execution_count": 268,
     "metadata": {},
     "output_type": "execute_result"
    }
   ],
   "source": [
    "np.array([10,20,30])+np.array([[10],[20],[30],[40]])"
   ]
  },
  {
   "cell_type": "code",
   "execution_count": 269,
   "id": "5f83602b-edc0-4b88-95e2-a06e825c3dd3",
   "metadata": {},
   "outputs": [],
   "source": [
    "pop = np.loadtxt('populations.txt')"
   ]
  },
  {
   "cell_type": "code",
   "execution_count": 270,
   "id": "4ee79d00-2a96-4cb3-93aa-363e8f831f86",
   "metadata": {},
   "outputs": [
    {
     "data": {
      "text/plain": [
       "array([[ 1900., 30000.,  4000., 48300.],\n",
       "       [ 1901., 47200.,  6100., 48200.],\n",
       "       [ 1902., 70200.,  9800., 41500.],\n",
       "       [ 1903., 77400., 35200., 38200.],\n",
       "       [ 1904., 36300., 59400., 40600.],\n",
       "       [ 1905., 20600., 41700., 39800.],\n",
       "       [ 1906., 18100., 19000., 38600.],\n",
       "       [ 1907., 21400., 13000., 42300.],\n",
       "       [ 1908., 22000.,  8300., 44500.],\n",
       "       [ 1909., 25400.,  9100., 42100.],\n",
       "       [ 1910., 27100.,  7400., 46000.],\n",
       "       [ 1911., 40300.,  8000., 46800.],\n",
       "       [ 1912., 57000., 12300., 43800.],\n",
       "       [ 1913., 76600., 19500., 40900.],\n",
       "       [ 1914., 52300., 45700., 39400.],\n",
       "       [ 1915., 19500., 51100., 39000.],\n",
       "       [ 1916., 11200., 29700., 36700.],\n",
       "       [ 1917.,  7600., 15800., 41800.],\n",
       "       [ 1918., 14600.,  9700., 43300.],\n",
       "       [ 1919., 16200., 10100., 41300.],\n",
       "       [ 1920., 24700.,  8600., 47300.]])"
      ]
     },
     "execution_count": 270,
     "metadata": {},
     "output_type": "execute_result"
    }
   ],
   "source": [
    "pop"
   ]
  },
  {
   "cell_type": "code",
   "execution_count": 275,
   "id": "ea783b76-5340-46fb-a1d5-c6798027c3fc",
   "metadata": {},
   "outputs": [
    {
     "data": {
      "text/plain": [
       "array([1903., 1904., 1900.])"
      ]
     },
     "execution_count": 275,
     "metadata": {},
     "output_type": "execute_result"
    }
   ],
   "source": [
    "pop[pop[:,1:].argmax(axis=0),0]"
   ]
  },
  {
   "cell_type": "code",
   "execution_count": 271,
   "id": "6dd19965-4f37-49f6-b145-0ca5a66e91b7",
   "metadata": {},
   "outputs": [
    {
     "data": {
      "text/plain": [
       "array([ 1920., 77400., 59400., 48300.])"
      ]
     },
     "execution_count": 271,
     "metadata": {},
     "output_type": "execute_result"
    }
   ],
   "source": [
    "pop.max(axis = 0)"
   ]
  },
  {
   "cell_type": "code",
   "execution_count": 277,
   "id": "478d27f0-e542-4fdf-afb9-0197f69cacc1",
   "metadata": {},
   "outputs": [
    {
     "data": {
      "text/plain": [
       "array([48300., 48200., 70200., 77400., 59400., 41700., 38600., 42300.,\n",
       "       44500., 42100., 46000., 46800., 57000., 76600., 52300., 51100.,\n",
       "       36700., 41800., 43300., 41300., 47300.])"
      ]
     },
     "execution_count": 277,
     "metadata": {},
     "output_type": "execute_result"
    }
   ],
   "source": [
    "pop[:,1:].max(axis=1)"
   ]
  },
  {
   "cell_type": "code",
   "execution_count": 279,
   "id": "20a6507c-314b-4917-a607-ff1375c643ea",
   "metadata": {},
   "outputs": [
    {
     "data": {
      "text/plain": [
       "array(['carrot', 'carrot', 'hare', 'hare', 'lynx', 'lynx', 'carrot',\n",
       "       'carrot', 'carrot', 'carrot', 'carrot', 'carrot', 'hare', 'hare',\n",
       "       'hare', 'lynx', 'carrot', 'carrot', 'carrot', 'carrot', 'carrot'],\n",
       "      dtype='<U6')"
      ]
     },
     "execution_count": 279,
     "metadata": {},
     "output_type": "execute_result"
    }
   ],
   "source": [
    "names = np.array(['hare','lynx','carrot'])\n",
    "names[pop[:,1:].argmax(axis=1)]"
   ]
  },
  {
   "cell_type": "code",
   "execution_count": 128,
   "id": "3d1d7e06-325a-45be-925e-83faf99d821d",
   "metadata": {},
   "outputs": [],
   "source": [
    "n1 = np.arange(1,13).reshape(3,4)"
   ]
  },
  {
   "cell_type": "code",
   "execution_count": 129,
   "id": "ee8ac6d5-b249-4b4b-8550-619829adf593",
   "metadata": {},
   "outputs": [
    {
     "data": {
      "text/plain": [
       "array([[ 1,  2,  3,  4],\n",
       "       [ 5,  6,  7,  8],\n",
       "       [ 9, 10, 11, 12]])"
      ]
     },
     "execution_count": 129,
     "metadata": {},
     "output_type": "execute_result"
    }
   ],
   "source": [
    "n1"
   ]
  },
  {
   "cell_type": "code",
   "execution_count": 130,
   "id": "acd85ecf-85c1-4161-a185-2d93cd4f3fe8",
   "metadata": {},
   "outputs": [],
   "source": [
    "n2 = np.array([[1,2,3],[10,20,30]])"
   ]
  },
  {
   "cell_type": "code",
   "execution_count": 131,
   "id": "8466e3ef-b703-4d05-9f7b-c13817dd954e",
   "metadata": {},
   "outputs": [
    {
     "data": {
      "text/plain": [
       "array([[ 1,  2,  3],\n",
       "       [10, 20, 30]])"
      ]
     },
     "execution_count": 131,
     "metadata": {},
     "output_type": "execute_result"
    }
   ],
   "source": [
    "n2"
   ]
  },
  {
   "cell_type": "code",
   "execution_count": 132,
   "id": "fbe723f4-0fc4-4d4e-b172-021b2644b098",
   "metadata": {},
   "outputs": [
    {
     "data": {
      "text/plain": [
       "array([[ 38,  44,  50,  56],\n",
       "       [380, 440, 500, 560]])"
      ]
     },
     "execution_count": 132,
     "metadata": {},
     "output_type": "execute_result"
    }
   ],
   "source": [
    "n2.dot(n1)"
   ]
  },
  {
   "cell_type": "code",
   "execution_count": 133,
   "id": "7c9b60b6-1d4d-49b3-a081-4b4f6bd065c0",
   "metadata": {},
   "outputs": [
    {
     "data": {
      "text/plain": [
       "array([[ 38,  44,  50,  56],\n",
       "       [380, 440, 500, 560]])"
      ]
     },
     "execution_count": 133,
     "metadata": {},
     "output_type": "execute_result"
    }
   ],
   "source": [
    "n2@n1"
   ]
  },
  {
   "cell_type": "code",
   "execution_count": 3,
   "id": "52edc3bb-8112-4385-a33c-766728258f4a",
   "metadata": {},
   "outputs": [
    {
     "data": {
      "text/plain": [
       "array([[32]])"
      ]
     },
     "execution_count": 3,
     "metadata": {},
     "output_type": "execute_result"
    }
   ],
   "source": [
    "np.matmul([[1,2,3]],[[4],[5],[6]])"
   ]
  },
  {
   "cell_type": "code",
   "execution_count": 4,
   "id": "7b37303d-229f-4c74-922e-a14f5059fbc0",
   "metadata": {},
   "outputs": [],
   "source": [
    "w = np.random.random(5)\n",
    "x = np.ones((5,10))"
   ]
  },
  {
   "cell_type": "code",
   "execution_count": 5,
   "id": "aebdab2e-d183-4cf5-8dc6-acfed350ad4b",
   "metadata": {},
   "outputs": [
    {
     "data": {
      "text/plain": [
       "array([2.03349284, 2.03349284, 2.03349284, 2.03349284, 2.03349284,\n",
       "       2.03349284, 2.03349284, 2.03349284, 2.03349284, 2.03349284])"
      ]
     },
     "execution_count": 5,
     "metadata": {},
     "output_type": "execute_result"
    }
   ],
   "source": [
    "w@x"
   ]
  },
  {
   "cell_type": "code",
   "execution_count": null,
   "id": "6ba061a2-8d4c-4040-84ea-054e8f2d6d69",
   "metadata": {},
   "outputs": [],
   "source": []
  }
 ],
 "metadata": {
  "kernelspec": {
   "display_name": "Python 3 (ipykernel)",
   "language": "python",
   "name": "python3"
  },
  "language_info": {
   "codemirror_mode": {
    "name": "ipython",
    "version": 3
   },
   "file_extension": ".py",
   "mimetype": "text/x-python",
   "name": "python",
   "nbconvert_exporter": "python",
   "pygments_lexer": "ipython3",
   "version": "3.12.9"
  }
 },
 "nbformat": 4,
 "nbformat_minor": 5
}
